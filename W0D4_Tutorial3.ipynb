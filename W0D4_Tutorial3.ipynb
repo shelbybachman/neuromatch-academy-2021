{
  "nbformat": 4,
  "nbformat_minor": 5,
  "metadata": {
    "colab": {
      "name": "W0D4_Tutorial3",
      "provenance": [],
      "collapsed_sections": [
        "1cWYP3SNL1Mh"
      ],
      "toc_visible": true,
      "include_colab_link": true
    },
    "kernel": {
      "display_name": "Python 3",
      "language": "python",
      "name": "python3"
    },
    "kernelspec": {
      "display_name": "Python 3",
      "language": "python",
      "name": "python3"
    },
    "language_info": {
      "codemirror_mode": {
        "name": "ipython",
        "version": 3
      },
      "file_extension": ".py",
      "mimetype": "text/x-python",
      "name": "python",
      "nbconvert_exporter": "python",
      "pygments_lexer": "ipython3",
      "version": "3.7.10"
    },
    "widgets": {
      "application/vnd.jupyter.widget-state+json": {
        "bcbdc7ef757c45b0847e0d8831ae7cd7": {
          "model_module": "@jupyter-widgets/controls",
          "model_name": "TabModel",
          "state": {
            "_view_name": "TabView",
            "_dom_classes": [],
            "_titles": {
              "0": "Youtube",
              "1": "Bilibili"
            },
            "_model_name": "TabModel",
            "_view_module": "@jupyter-widgets/controls",
            "selected_index": 0,
            "_model_module_version": "1.5.0",
            "_view_count": null,
            "_view_module_version": "1.5.0",
            "box_style": "",
            "layout": "IPY_MODEL_038ae07ce775484c8de7013a68d8b6d1",
            "_model_module": "@jupyter-widgets/controls",
            "children": [
              "IPY_MODEL_f0bbf6ac19254aba870904454dbd834a",
              "IPY_MODEL_731defb9645948a2abf345c8833bfe23"
            ]
          }
        },
        "038ae07ce775484c8de7013a68d8b6d1": {
          "model_module": "@jupyter-widgets/base",
          "model_name": "LayoutModel",
          "state": {
            "_view_name": "LayoutView",
            "grid_template_rows": null,
            "right": null,
            "justify_content": null,
            "_view_module": "@jupyter-widgets/base",
            "overflow": null,
            "_model_module_version": "1.2.0",
            "_view_count": null,
            "flex_flow": null,
            "width": null,
            "min_width": null,
            "border": null,
            "align_items": null,
            "bottom": null,
            "_model_module": "@jupyter-widgets/base",
            "top": null,
            "grid_column": null,
            "overflow_y": null,
            "overflow_x": null,
            "grid_auto_flow": null,
            "grid_area": null,
            "grid_template_columns": null,
            "flex": null,
            "_model_name": "LayoutModel",
            "justify_items": null,
            "grid_row": null,
            "max_height": null,
            "align_content": null,
            "visibility": null,
            "align_self": null,
            "height": null,
            "min_height": null,
            "padding": null,
            "grid_auto_rows": null,
            "grid_gap": null,
            "max_width": null,
            "order": null,
            "_view_module_version": "1.2.0",
            "grid_template_areas": null,
            "object_position": null,
            "object_fit": null,
            "grid_auto_columns": null,
            "margin": null,
            "display": null,
            "left": null
          }
        },
        "f0bbf6ac19254aba870904454dbd834a": {
          "model_module": "@jupyter-widgets/output",
          "model_name": "OutputModel",
          "state": {
            "_view_name": "OutputView",
            "msg_id": "",
            "_dom_classes": [],
            "_model_name": "OutputModel",
            "outputs": [
              {
                "output_type": "stream",
                "metadata": {
                  "tags": []
                },
                "text": "Video available at https://youtube.com/watch?v=NI8c80TA7IQ\n",
                "stream": "stdout"
              },
              {
                "output_type": "display_data",
                "metadata": {
                  "tags": []
                },
                "text/html": "\n        <iframe\n            width=\"854\"\n            height=\"480\"\n            src=\"https://www.youtube.com/embed/NI8c80TA7IQ?fs=1&rel=0\"\n            frameborder=\"0\"\n            allowfullscreen\n        ></iframe>\n        ",
                "text/plain": "<IPython.lib.display.YouTubeVideo at 0x7fb2d80baf50>",
                "image/jpeg": "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\n"
              }
            ],
            "_view_module": "@jupyter-widgets/output",
            "_model_module_version": "1.0.0",
            "_view_count": null,
            "_view_module_version": "1.0.0",
            "layout": "IPY_MODEL_cd43bab8bad24dc185a1b848f9658890",
            "_model_module": "@jupyter-widgets/output"
          }
        },
        "731defb9645948a2abf345c8833bfe23": {
          "model_module": "@jupyter-widgets/output",
          "model_name": "OutputModel",
          "state": {
            "_view_name": "OutputView",
            "msg_id": "",
            "_dom_classes": [],
            "_model_name": "OutputModel",
            "outputs": [
              {
                "output_type": "stream",
                "metadata": {
                  "tags": []
                },
                "text": "Video available at https://www.bilibili.com/video/BV1gh411Y7gV\n",
                "stream": "stdout"
              },
              {
                "output_type": "display_data",
                "metadata": {
                  "tags": []
                },
                "text/html": "\n        <iframe\n            width=\"854\"\n            height=\"480\"\n            src=\"https://player.bilibili.com/player.html?bvid=BV1gh411Y7gV&page=1?fs=1\"\n            frameborder=\"0\"\n            allowfullscreen\n        ></iframe>\n        ",
                "text/plain": "<__main__.BiliVideo at 0x7fb2d853c850>"
              }
            ],
            "_view_module": "@jupyter-widgets/output",
            "_model_module_version": "1.0.0",
            "_view_count": null,
            "_view_module_version": "1.0.0",
            "layout": "IPY_MODEL_1138083596f8490d9ad979376cb45356",
            "_model_module": "@jupyter-widgets/output"
          }
        },
        "cd43bab8bad24dc185a1b848f9658890": {
          "model_module": "@jupyter-widgets/base",
          "model_name": "LayoutModel",
          "state": {
            "_view_name": "LayoutView",
            "grid_template_rows": null,
            "right": null,
            "justify_content": null,
            "_view_module": "@jupyter-widgets/base",
            "overflow": null,
            "_model_module_version": "1.2.0",
            "_view_count": null,
            "flex_flow": null,
            "width": null,
            "min_width": null,
            "border": null,
            "align_items": null,
            "bottom": null,
            "_model_module": "@jupyter-widgets/base",
            "top": null,
            "grid_column": null,
            "overflow_y": null,
            "overflow_x": null,
            "grid_auto_flow": null,
            "grid_area": null,
            "grid_template_columns": null,
            "flex": null,
            "_model_name": "LayoutModel",
            "justify_items": null,
            "grid_row": null,
            "max_height": null,
            "align_content": null,
            "visibility": null,
            "align_self": null,
            "height": null,
            "min_height": null,
            "padding": null,
            "grid_auto_rows": null,
            "grid_gap": null,
            "max_width": null,
            "order": null,
            "_view_module_version": "1.2.0",
            "grid_template_areas": null,
            "object_position": null,
            "object_fit": null,
            "grid_auto_columns": null,
            "margin": null,
            "display": null,
            "left": null
          }
        },
        "1138083596f8490d9ad979376cb45356": {
          "model_module": "@jupyter-widgets/base",
          "model_name": "LayoutModel",
          "state": {
            "_view_name": "LayoutView",
            "grid_template_rows": null,
            "right": null,
            "justify_content": null,
            "_view_module": "@jupyter-widgets/base",
            "overflow": null,
            "_model_module_version": "1.2.0",
            "_view_count": null,
            "flex_flow": null,
            "width": null,
            "min_width": null,
            "border": null,
            "align_items": null,
            "bottom": null,
            "_model_module": "@jupyter-widgets/base",
            "top": null,
            "grid_column": null,
            "overflow_y": null,
            "overflow_x": null,
            "grid_auto_flow": null,
            "grid_area": null,
            "grid_template_columns": null,
            "flex": null,
            "_model_name": "LayoutModel",
            "justify_items": null,
            "grid_row": null,
            "max_height": null,
            "align_content": null,
            "visibility": null,
            "align_self": null,
            "height": null,
            "min_height": null,
            "padding": null,
            "grid_auto_rows": null,
            "grid_gap": null,
            "max_width": null,
            "order": null,
            "_view_module_version": "1.2.0",
            "grid_template_areas": null,
            "object_position": null,
            "object_fit": null,
            "grid_auto_columns": null,
            "margin": null,
            "display": null,
            "left": null
          }
        },
        "5ee91552bfeb4d2daa7d07e19380897c": {
          "model_module": "@jupyter-widgets/controls",
          "model_name": "VBoxModel",
          "state": {
            "_view_name": "VBoxView",
            "_dom_classes": [
              "widget-interact"
            ],
            "_model_name": "VBoxModel",
            "_view_module": "@jupyter-widgets/controls",
            "_model_module_version": "1.5.0",
            "_view_count": null,
            "_view_module_version": "1.5.0",
            "box_style": "",
            "layout": "IPY_MODEL_5d8cf177dae444f0b70cc2d1579f2e86",
            "_model_module": "@jupyter-widgets/controls",
            "children": [
              "IPY_MODEL_b1da2fde3c4c4d7aae71ff67d650d34b",
              "IPY_MODEL_5d1f5e6dc5c6489e9edf08c6c02e5ebd"
            ]
          }
        },
        "5d8cf177dae444f0b70cc2d1579f2e86": {
          "model_module": "@jupyter-widgets/base",
          "model_name": "LayoutModel",
          "state": {
            "_view_name": "LayoutView",
            "grid_template_rows": null,
            "right": null,
            "justify_content": null,
            "_view_module": "@jupyter-widgets/base",
            "overflow": null,
            "_model_module_version": "1.2.0",
            "_view_count": null,
            "flex_flow": null,
            "width": null,
            "min_width": null,
            "border": null,
            "align_items": null,
            "bottom": null,
            "_model_module": "@jupyter-widgets/base",
            "top": null,
            "grid_column": null,
            "overflow_y": null,
            "overflow_x": null,
            "grid_auto_flow": null,
            "grid_area": null,
            "grid_template_columns": null,
            "flex": null,
            "_model_name": "LayoutModel",
            "justify_items": null,
            "grid_row": null,
            "max_height": null,
            "align_content": null,
            "visibility": null,
            "align_self": null,
            "height": null,
            "min_height": null,
            "padding": null,
            "grid_auto_rows": null,
            "grid_gap": null,
            "max_width": null,
            "order": null,
            "_view_module_version": "1.2.0",
            "grid_template_areas": null,
            "object_position": null,
            "object_fit": null,
            "grid_auto_columns": null,
            "margin": null,
            "display": null,
            "left": null
          }
        },
        "b1da2fde3c4c4d7aae71ff67d650d34b": {
          "model_module": "@jupyter-widgets/controls",
          "model_name": "FloatSliderModel",
          "state": {
            "_view_name": "FloatSliderView",
            "style": "IPY_MODEL_f6f76df6d8664d7f9705dfab312cf2e3",
            "_dom_classes": [],
            "description": "dt",
            "step": 0.1,
            "_model_name": "FloatSliderModel",
            "orientation": "horizontal",
            "max": 4,
            "_view_module": "@jupyter-widgets/controls",
            "_model_module_version": "1.5.0",
            "value": 0.2,
            "_view_count": null,
            "disabled": false,
            "_view_module_version": "1.5.0",
            "min": 0,
            "continuous_update": true,
            "readout_format": ".2f",
            "description_tooltip": null,
            "readout": true,
            "_model_module": "@jupyter-widgets/controls",
            "layout": "IPY_MODEL_562c0dac8ab24e47bcc748735e3d5f8e"
          }
        },
        "5d1f5e6dc5c6489e9edf08c6c02e5ebd": {
          "model_module": "@jupyter-widgets/output",
          "model_name": "OutputModel",
          "state": {
            "_view_name": "OutputView",
            "msg_id": "",
            "_dom_classes": [],
            "_model_name": "OutputModel",
            "outputs": [
              {
                "output_type": "display_data",
                "metadata": {
                  "tags": [],
                  "image/png": {
                    "width": 416,
                    "height": 272
                  }
                },
                "image/png": "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\n",
                "text/plain": "<Figure size 432x288 with 1 Axes>"
              }
            ],
            "_view_module": "@jupyter-widgets/output",
            "_model_module_version": "1.0.0",
            "_view_count": null,
            "_view_module_version": "1.0.0",
            "layout": "IPY_MODEL_91cdad8a80314818b770fd3f9f08a85d",
            "_model_module": "@jupyter-widgets/output"
          }
        },
        "f6f76df6d8664d7f9705dfab312cf2e3": {
          "model_module": "@jupyter-widgets/controls",
          "model_name": "SliderStyleModel",
          "state": {
            "_view_name": "StyleView",
            "handle_color": null,
            "_model_name": "SliderStyleModel",
            "description_width": "",
            "_view_module": "@jupyter-widgets/base",
            "_model_module_version": "1.5.0",
            "_view_count": null,
            "_view_module_version": "1.2.0",
            "_model_module": "@jupyter-widgets/controls"
          }
        },
        "562c0dac8ab24e47bcc748735e3d5f8e": {
          "model_module": "@jupyter-widgets/base",
          "model_name": "LayoutModel",
          "state": {
            "_view_name": "LayoutView",
            "grid_template_rows": null,
            "right": null,
            "justify_content": null,
            "_view_module": "@jupyter-widgets/base",
            "overflow": null,
            "_model_module_version": "1.2.0",
            "_view_count": null,
            "flex_flow": null,
            "width": "450px",
            "min_width": null,
            "border": null,
            "align_items": null,
            "bottom": null,
            "_model_module": "@jupyter-widgets/base",
            "top": null,
            "grid_column": null,
            "overflow_y": null,
            "overflow_x": null,
            "grid_auto_flow": null,
            "grid_area": null,
            "grid_template_columns": null,
            "flex": null,
            "_model_name": "LayoutModel",
            "justify_items": null,
            "grid_row": null,
            "max_height": null,
            "align_content": null,
            "visibility": null,
            "align_self": null,
            "height": null,
            "min_height": null,
            "padding": null,
            "grid_auto_rows": null,
            "grid_gap": null,
            "max_width": null,
            "order": null,
            "_view_module_version": "1.2.0",
            "grid_template_areas": null,
            "object_position": null,
            "object_fit": null,
            "grid_auto_columns": null,
            "margin": null,
            "display": null,
            "left": null
          }
        },
        "91cdad8a80314818b770fd3f9f08a85d": {
          "model_module": "@jupyter-widgets/base",
          "model_name": "LayoutModel",
          "state": {
            "_view_name": "LayoutView",
            "grid_template_rows": null,
            "right": null,
            "justify_content": null,
            "_view_module": "@jupyter-widgets/base",
            "overflow": null,
            "_model_module_version": "1.2.0",
            "_view_count": null,
            "flex_flow": null,
            "width": null,
            "min_width": null,
            "border": null,
            "align_items": null,
            "bottom": null,
            "_model_module": "@jupyter-widgets/base",
            "top": null,
            "grid_column": null,
            "overflow_y": null,
            "overflow_x": null,
            "grid_auto_flow": null,
            "grid_area": null,
            "grid_template_columns": null,
            "flex": null,
            "_model_name": "LayoutModel",
            "justify_items": null,
            "grid_row": null,
            "max_height": null,
            "align_content": null,
            "visibility": null,
            "align_self": null,
            "height": null,
            "min_height": null,
            "padding": null,
            "grid_auto_rows": null,
            "grid_gap": null,
            "max_width": null,
            "order": null,
            "_view_module_version": "1.2.0",
            "grid_template_areas": null,
            "object_position": null,
            "object_fit": null,
            "grid_auto_columns": null,
            "margin": null,
            "display": null,
            "left": null
          }
        },
        "a3fef19063884decbe001a4cea2c35cc": {
          "model_module": "@jupyter-widgets/controls",
          "model_name": "VBoxModel",
          "state": {
            "_view_name": "VBoxView",
            "_dom_classes": [
              "widget-interact"
            ],
            "_model_name": "VBoxModel",
            "_view_module": "@jupyter-widgets/controls",
            "_model_module_version": "1.5.0",
            "_view_count": null,
            "_view_module_version": "1.5.0",
            "box_style": "",
            "layout": "IPY_MODEL_d22e5348e3504771ac3321e7501e3b35",
            "_model_module": "@jupyter-widgets/controls",
            "children": [
              "IPY_MODEL_06d6073b1e0f413c8b1f5d1490d6c489",
              "IPY_MODEL_33c1ad3bf1304d109f5ff2b9e082c8d4"
            ]
          }
        },
        "d22e5348e3504771ac3321e7501e3b35": {
          "model_module": "@jupyter-widgets/base",
          "model_name": "LayoutModel",
          "state": {
            "_view_name": "LayoutView",
            "grid_template_rows": null,
            "right": null,
            "justify_content": null,
            "_view_module": "@jupyter-widgets/base",
            "overflow": null,
            "_model_module_version": "1.2.0",
            "_view_count": null,
            "flex_flow": null,
            "width": null,
            "min_width": null,
            "border": null,
            "align_items": null,
            "bottom": null,
            "_model_module": "@jupyter-widgets/base",
            "top": null,
            "grid_column": null,
            "overflow_y": null,
            "overflow_x": null,
            "grid_auto_flow": null,
            "grid_area": null,
            "grid_template_columns": null,
            "flex": null,
            "_model_name": "LayoutModel",
            "justify_items": null,
            "grid_row": null,
            "max_height": null,
            "align_content": null,
            "visibility": null,
            "align_self": null,
            "height": null,
            "min_height": null,
            "padding": null,
            "grid_auto_rows": null,
            "grid_gap": null,
            "max_width": null,
            "order": null,
            "_view_module_version": "1.2.0",
            "grid_template_areas": null,
            "object_position": null,
            "object_fit": null,
            "grid_auto_columns": null,
            "margin": null,
            "display": null,
            "left": null
          }
        },
        "06d6073b1e0f413c8b1f5d1490d6c489": {
          "model_module": "@jupyter-widgets/controls",
          "model_name": "FloatSliderModel",
          "state": {
            "_view_name": "FloatSliderView",
            "style": "IPY_MODEL_1a80dfb9e3e54cd5a54660aa08281ea7",
            "_dom_classes": [],
            "description": "dt",
            "step": 0.1,
            "_model_name": "FloatSliderModel",
            "orientation": "horizontal",
            "max": 4,
            "_view_module": "@jupyter-widgets/controls",
            "_model_module_version": "1.5.0",
            "value": 0.9,
            "_view_count": null,
            "disabled": false,
            "_view_module_version": "1.5.0",
            "min": 0,
            "continuous_update": true,
            "readout_format": ".2f",
            "description_tooltip": null,
            "readout": true,
            "_model_module": "@jupyter-widgets/controls",
            "layout": "IPY_MODEL_562c0dac8ab24e47bcc748735e3d5f8e"
          }
        },
        "33c1ad3bf1304d109f5ff2b9e082c8d4": {
          "model_module": "@jupyter-widgets/output",
          "model_name": "OutputModel",
          "state": {
            "_view_name": "OutputView",
            "msg_id": "",
            "_dom_classes": [],
            "_model_name": "OutputModel",
            "outputs": [
              {
                "output_type": "display_data",
                "metadata": {
                  "tags": [],
                  "image/png": {
                    "width": 416,
                    "height": 272
                  }
                },
                "image/png": "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\n",
                "text/plain": "<Figure size 432x288 with 1 Axes>"
              }
            ],
            "_view_module": "@jupyter-widgets/output",
            "_model_module_version": "1.0.0",
            "_view_count": null,
            "_view_module_version": "1.0.0",
            "layout": "IPY_MODEL_e5838cca3b204f579089c9f0b2052ecd",
            "_model_module": "@jupyter-widgets/output"
          }
        },
        "1a80dfb9e3e54cd5a54660aa08281ea7": {
          "model_module": "@jupyter-widgets/controls",
          "model_name": "SliderStyleModel",
          "state": {
            "_view_name": "StyleView",
            "handle_color": null,
            "_model_name": "SliderStyleModel",
            "description_width": "",
            "_view_module": "@jupyter-widgets/base",
            "_model_module_version": "1.5.0",
            "_view_count": null,
            "_view_module_version": "1.2.0",
            "_model_module": "@jupyter-widgets/controls"
          }
        },
        "e5838cca3b204f579089c9f0b2052ecd": {
          "model_module": "@jupyter-widgets/base",
          "model_name": "LayoutModel",
          "state": {
            "_view_name": "LayoutView",
            "grid_template_rows": null,
            "right": null,
            "justify_content": null,
            "_view_module": "@jupyter-widgets/base",
            "overflow": null,
            "_model_module_version": "1.2.0",
            "_view_count": null,
            "flex_flow": null,
            "width": null,
            "min_width": null,
            "border": null,
            "align_items": null,
            "bottom": null,
            "_model_module": "@jupyter-widgets/base",
            "top": null,
            "grid_column": null,
            "overflow_y": null,
            "overflow_x": null,
            "grid_auto_flow": null,
            "grid_area": null,
            "grid_template_columns": null,
            "flex": null,
            "_model_name": "LayoutModel",
            "justify_items": null,
            "grid_row": null,
            "max_height": null,
            "align_content": null,
            "visibility": null,
            "align_self": null,
            "height": null,
            "min_height": null,
            "padding": null,
            "grid_auto_rows": null,
            "grid_gap": null,
            "max_width": null,
            "order": null,
            "_view_module_version": "1.2.0",
            "grid_template_areas": null,
            "object_position": null,
            "object_fit": null,
            "grid_auto_columns": null,
            "margin": null,
            "display": null,
            "left": null
          }
        }
      }
    }
  },
  "cells": [
    {
      "cell_type": "markdown",
      "metadata": {
        "id": "view-in-github",
        "colab_type": "text"
      },
      "source": [
        "<a href=\"https://colab.research.google.com/github/shelbybachman/neuromatch-academy-2021/blob/main/W0D4_Tutorial3.ipynb\" target=\"_parent\"><img src=\"https://colab.research.google.com/assets/colab-badge.svg\" alt=\"Open In Colab\"/></a>"
      ]
    },
    {
      "cell_type": "markdown",
      "metadata": {
        "id": "08842220"
      },
      "source": [
        "# Tutorial 3: Numerical Methods\n",
        "**Week 0, Day 3: Calculus**\n",
        "\n",
        "__Content creators:__ John S Butler, Arvind Kumar with help from Harvey McCone\n",
        "\n",
        "__Content reviewers:__ Swapnil Kumar, Matthew McCann\n",
        "\n",
        "__Production editors:__ Matthew McCann, Ella Batty\n"
      ],
      "id": "08842220"
    },
    {
      "cell_type": "markdown",
      "metadata": {
        "id": "v0oVvJHEMouH"
      },
      "source": [
        "**Our 2021 Sponsors, including Presenting Sponsor Facebook Reality Labs**\n",
        "\n",
        "<p align='center'><img src='https://github.com/NeuromatchAcademy/widgets/blob/master/sponsors.png?raw=True'/></p>"
      ],
      "id": "v0oVvJHEMouH"
    },
    {
      "cell_type": "markdown",
      "metadata": {
        "id": "7d80998b"
      },
      "source": [
        "---\n",
        "# Tutorial Objectives\n",
        "\n",
        "*Estimated timing of tutorial: 70 minutes*\n",
        "\n",
        "While a great deal of neuroscience can be described by mathematics, a great deal of the mathematics used cannot be solved exactly. This might seem very odd that you can writing something in mathematics that cannot be immediately solved but that is the beauty and mystery of mathematics. To side step this issue we use Numerical Methods to estimate the solution.\n",
        "\n",
        "In this tutorial, we will look at the Euler method to estimate the solution of a few different differential equations: the population equation, the Leaky Integrate and Fire model and a simplified version of the Wilson-Cowan model which is a system of differential equations.\n",
        "\n",
        "**Steps:**\n",
        "- Code the Euler estimate of the Population Equation;\n",
        "- Investigate the impact of time step on the error of the numerical solution;\n",
        "- Code the Euler estimate of the Leaky Integrate and Fire model for a constant input;\n",
        "- Visualize and listen to the response of the integrate for different inputs;\n",
        "- Apply the Euler method to estimate the solution of a system of differential equations.\n",
        "\n"
      ],
      "id": "7d80998b"
    },
    {
      "cell_type": "markdown",
      "metadata": {
        "id": "bwMygnJgMUp7"
      },
      "source": [
        "---\n",
        "# Setup"
      ],
      "id": "bwMygnJgMUp7"
    },
    {
      "cell_type": "code",
      "metadata": {
        "execution": {
          "iopub.execute_input": "2021-07-01T11:38:46.910006Z",
          "iopub.status.busy": "2021-07-01T11:38:46.909519Z",
          "iopub.status.idle": "2021-07-01T11:38:47.196482Z",
          "shell.execute_reply": "2021-07-01T11:38:47.195896Z"
        },
        "id": "a5985801"
      },
      "source": [
        "# Imports\n",
        "\n",
        "import numpy as np\n",
        "import matplotlib.pyplot as plt"
      ],
      "id": "a5985801",
      "execution_count": null,
      "outputs": []
    },
    {
      "cell_type": "code",
      "metadata": {
        "cellView": "form",
        "execution": {
          "iopub.execute_input": "2021-07-01T11:38:47.203173Z",
          "iopub.status.busy": "2021-07-01T11:38:47.202439Z",
          "iopub.status.idle": "2021-07-01T11:38:47.297940Z",
          "shell.execute_reply": "2021-07-01T11:38:47.297463Z"
        },
        "id": "d40abcd8"
      },
      "source": [
        "# @title Figure Settings\n",
        "import IPython.display as ipd\n",
        "from matplotlib import gridspec\n",
        "\n",
        "import ipywidgets as widgets  # interactive display\n",
        "from ipywidgets import Label\n",
        "%config InlineBackend.figure_format = 'retina'\n",
        "# use NMA plot style\n",
        "plt.style.use(\"https://raw.githubusercontent.com/NeuromatchAcademy/course-content/master/nma.mplstyle\")\n",
        "my_layout = widgets.Layout()"
      ],
      "id": "d40abcd8",
      "execution_count": null,
      "outputs": []
    },
    {
      "cell_type": "code",
      "metadata": {
        "cellView": "form",
        "execution": {
          "iopub.execute_input": "2021-07-01T11:38:47.316985Z",
          "iopub.status.busy": "2021-07-01T11:38:47.305619Z",
          "iopub.status.idle": "2021-07-01T11:38:47.330343Z",
          "shell.execute_reply": "2021-07-01T11:38:47.329706Z"
        },
        "id": "hwhtoyMMi7qj"
      },
      "source": [
        "# @title Plotting Functions\n",
        "\n",
        "time = np.arange(0, 1, 0.01)\n",
        "\n",
        "def plot_slope(dt):\n",
        "  \"\"\"\n",
        "    Args:\n",
        "      dt  : time-step\n",
        "    Returns:\n",
        "      A figure of an exponential, the slope of the exponential and the derivative exponential\n",
        "  \"\"\"\n",
        "\n",
        "  t = np.arange(0, 5+0.1/2, 0.1)\n",
        "\n",
        "  with plt.xkcd():\n",
        "\n",
        "    fig = plt.figure(figsize=(6, 4))\n",
        "    # Exponential\n",
        "    p = np.exp(0.3*t)\n",
        "    plt.plot(t, p, label='y')\n",
        "    # slope\n",
        "    plt.plot([1, 1+dt], [np.exp(0.3*1), np.exp(0.3*(1+dt))],':og',label=r'$\\frac{y(1+\\Delta t)-y(1)}{\\Delta t}$')\n",
        "    # derivative\n",
        "    plt.plot([1, 1+dt], [np.exp(0.3*1), np.exp(0.3*(1))+dt*0.3*np.exp(0.3*(1))],'-k',label=r'$\\frac{dy}{dt}$')\n",
        "    plt.legend()\n",
        "    plt.plot(1+dt, np.exp(0.3*(1+dt)), 'og')\n",
        "    plt.ylabel('y')\n",
        "    plt.xlabel('t')\n",
        "    plt.show()\n",
        "\n",
        "\n",
        "\n",
        "def plot_StepEuler(dt):\n",
        "  \"\"\"\n",
        "    Args:\n",
        "      dt  : time-step\n",
        "    Returns:\n",
        "      A figure of one step of the Euler method for an exponential growth function\n",
        "  \"\"\"\n",
        "\n",
        "  t=np.arange(0, 1 + dt + 0.1 / 2, 0.1)\n",
        "\n",
        "  with plt.xkcd():\n",
        "    fig = plt.figure(figsize=(6,4))\n",
        "    p=np.exp(0.3*t)\n",
        "    plt.plot(t,p)\n",
        "    plt.plot([1,],[np.exp(0.3*1)],'og',label='Known')\n",
        "    plt.plot([1,1+dt],[np.exp(0.3*1),np.exp(0.3*(1))+dt*0.3*np.exp(0.3*1)],':g',label=r'Euler')\n",
        "    plt.plot(1+dt,np.exp(0.3*(1))+dt*0.3*np.exp(0.3*1),'or',label=r'Estimate $p_1$')\n",
        "    plt.plot(1+dt,p[-1],'bo',label=r'Exact $p(t_1)$')\n",
        "    plt.vlines(1+dt,np.exp(0.3*(1))+dt*0.3*np.exp(0.3*1),p[-1],colors='r', linestyles='dashed',label=r'Error $e_1$')\n",
        "    plt.text(1+dt+0.1,(np.exp(0.3*(1))+dt*0.3*np.exp(0.3*1)+p[-1])/2,r'$e_1$')\n",
        "    plt.legend()\n",
        "    plt.ylabel('Population (millions)')\n",
        "    plt.xlabel('time(years)')\n",
        "    plt.show()\n",
        "\n",
        "def visualize_population_approx(t, p):\n",
        "    fig = plt.figure(figsize=(6, 4))\n",
        "    plt.plot(t, np.exp(0.3*t), 'k', label='Exact Solution')\n",
        "\n",
        "    plt.plot(t, p,':o', label='Euler Estimate')\n",
        "    plt.vlines(t, p, np.exp(0.3*t),\n",
        "              colors='r', linestyles='dashed', label=r'Error $e_k$')\n",
        "\n",
        "    plt.ylabel('Population (millions)')\n",
        "    plt.legend()\n",
        "    plt.xlabel('Time (years)')\n",
        "    plt.show()\n",
        "\n",
        "## LIF PLOT\n",
        "def plot_IF(t, V, I, Spike_time):\n",
        "  \"\"\"\n",
        "    Args:\n",
        "      t  : time\n",
        "      V  : membrane Voltage\n",
        "      I  : Input\n",
        "      Spike_time : Spike_times\n",
        "    Returns:\n",
        "      figure with three panels\n",
        "      top panel: Input as a function of time\n",
        "      middle panel: membrane potential as a function of time\n",
        "      bottom panel: Raster plot\n",
        "  \"\"\"\n",
        "\n",
        "  with plt.xkcd():\n",
        "    fig = plt.figure(figsize=(12,4))\n",
        "    gs = gridspec.GridSpec(3, 1,  height_ratios=[1, 4, 1])\n",
        "    # PLOT OF INPUT\n",
        "    plt.subplot(gs[0])\n",
        "    plt.ylabel(r'$I_e(nA)$')\n",
        "    plt.yticks(rotation=45)\n",
        "    plt.plot(t,I,'g')\n",
        "    #plt.ylim((2,4))\n",
        "    plt.xlim((-50,1000))\n",
        "    # PLOT OF ACTIVITY\n",
        "    plt.subplot(gs[1])\n",
        "    plt.plot(t,V,':')\n",
        "    plt.xlim((-50,1000))\n",
        "    plt.ylabel(r'$V(t)$(mV)')\n",
        "    # PLOT OF SPIKES\n",
        "    plt.subplot(gs[2])\n",
        "    plt.ylabel(r'Spike')\n",
        "    plt.yticks([])\n",
        "    plt.scatter(Spike_time,1*np.ones(len(Spike_time)), color=\"grey\", marker=\".\")\n",
        "    plt.xlim((-50,1000))\n",
        "    plt.xlabel('time(ms)')\n",
        "    plt.show()\n",
        "\n",
        "def plot_rErI(t, r_E, r_I):\n",
        "  \"\"\"\n",
        "    Args:\n",
        "      t   : time\n",
        "      r_E : excitation rate\n",
        "      r_I : inhibition rate\n",
        "\n",
        "    Returns:\n",
        "      figure of r_I and r_E as a function of time\n",
        "\n",
        "  \"\"\"\n",
        "  with plt.xkcd():\n",
        "    fig = plt.figure(figsize=(6,4))\n",
        "    plt.plot(t,r_E,':',color='b',label=r'$r_E$')\n",
        "    plt.plot(t,r_I,':',color='r',label=r'$r_I$')\n",
        "    plt.xlabel('time(ms)')\n",
        "    plt.legend()\n",
        "    plt.ylabel('Firing Rate (Hz)')\n",
        "    plt.show()\n",
        "\n",
        "\n",
        "def plot_rErI_Simple(t, r_E, r_I):\n",
        "  \"\"\"\n",
        "    Args:\n",
        "      t   : time\n",
        "      r_E : excitation rate\n",
        "      r_I : inhibition rate\n",
        "\n",
        "    Returns:\n",
        "      figure with two panels\n",
        "      left panel: r_I and r_E as a function of time\n",
        "      right panel: r_I as a function of r_E with Nullclines\n",
        "\n",
        "  \"\"\"\n",
        "  with plt.xkcd():\n",
        "    fig = plt.figure(figsize=(12,4))\n",
        "    gs = gridspec.GridSpec(1, 2)\n",
        "    # LEFT PANEL\n",
        "    plt.subplot(gs[0])\n",
        "    plt.plot(t,r_E,':',color='b',label=r'$r_E$')\n",
        "    plt.plot(t,r_I,':',color='r',label=r'$r_I$')\n",
        "    plt.xlabel('time(ms)')\n",
        "    plt.legend()\n",
        "    plt.ylabel('Firing Rate (Hz)')\n",
        "    # RIGHT PANEL\n",
        "    plt.subplot(gs[1])\n",
        "    plt.plot(r_E,r_I,'k:')\n",
        "    plt.plot(r_E[0],r_I[0],'go')\n",
        "\n",
        "    plt.hlines(0,np.min(r_E),np.max(r_E),linestyles=\"dashed\",color='b',label=r'$\\frac{d}{dt}r_E=0$')\n",
        "    plt.vlines(0,np.min(r_I),np.max(r_I),linestyles=\"dashed\",color='r',label=r'$\\frac{d}{dt}r_I=0$')\n",
        "\n",
        "    plt.legend(loc='upper left')\n",
        "\n",
        "    plt.xlabel(r'$r_E$')\n",
        "    plt.ylabel(r'$r_I$')\n",
        "    plt.show()\n",
        "\n",
        "def plot_rErI_Matrix(t, r_E, r_I, Null_rE, Null_rI):\n",
        "  \"\"\"\n",
        "    Args:\n",
        "      t   : time\n",
        "      r_E : excitation firing rate\n",
        "      r_I : inhibition firing rate\n",
        "      Null_rE: Nullclines excitation firing rate\n",
        "      Null_rI: Nullclines inhibition firing rate\n",
        "    Returns:\n",
        "      figure with two panels\n",
        "      left panel: r_I and r_E as a function of time\n",
        "      right panel: r_I as a function of r_E with Nullclines\n",
        "\n",
        "  \"\"\"\n",
        "\n",
        "  with plt.xkcd():\n",
        "    fig = plt.figure(figsize=(12,4))\n",
        "    gs = gridspec.GridSpec(1, 2)\n",
        "    plt.subplot(gs[0])\n",
        "    plt.plot(t,r_E,':',color='b',label=r'$r_E$')\n",
        "    plt.plot(t,r_I,':',color='r',label=r'$r_I$')\n",
        "    plt.xlabel('time(ms)')\n",
        "    plt.ylabel('Firing Rate (Hz)')\n",
        "    plt.legend()\n",
        "    plt.subplot(gs[1])\n",
        "    plt.plot(r_E,r_I,'k:')\n",
        "    plt.plot(r_E[0],r_I[0],'go')\n",
        "\n",
        "    plt.plot(r_E,Null_rE,':',color='b',label=r'$\\frac{d}{dt}r_E=0$')\n",
        "    plt.plot(r_E,Null_rI,':',color='r',label=r'$\\frac{d}{dt}r_I=0$')\n",
        "    plt.legend(loc='best')\n",
        "    plt.xlabel(r'$r_E$')\n",
        "    plt.ylabel(r'$r_I$')\n",
        "    plt.show()"
      ],
      "id": "hwhtoyMMi7qj",
      "execution_count": null,
      "outputs": []
    },
    {
      "cell_type": "markdown",
      "metadata": {
        "id": "SXJPvBQzik6K"
      },
      "source": [
        "--- \n",
        "# Section 1: Intro to the Euler method using the population differential equation"
      ],
      "id": "SXJPvBQzik6K"
    },
    {
      "cell_type": "code",
      "metadata": {
        "cellView": "form",
        "execution": {
          "iopub.execute_input": "2021-07-01T11:38:47.342009Z",
          "iopub.status.busy": "2021-07-01T11:38:47.341221Z",
          "iopub.status.idle": "2021-07-01T11:38:47.427002Z",
          "shell.execute_reply": "2021-07-01T11:38:47.424535Z"
        },
        "id": "DYKXWaR7iwl9",
        "colab": {
          "base_uri": "https://localhost:8080/",
          "height": 580,
          "referenced_widgets": [
            "bcbdc7ef757c45b0847e0d8831ae7cd7",
            "038ae07ce775484c8de7013a68d8b6d1",
            "f0bbf6ac19254aba870904454dbd834a",
            "731defb9645948a2abf345c8833bfe23",
            "cd43bab8bad24dc185a1b848f9658890",
            "1138083596f8490d9ad979376cb45356"
          ]
        },
        "outputId": "dd158b0c-a506-4cf4-c8d2-cc944d7a8dc8"
      },
      "source": [
        "# @title Video 1: Intro to numerical methods for differential equations\n",
        "from ipywidgets import widgets\n",
        "\n",
        "out2 = widgets.Output()\n",
        "with out2:\n",
        "  from IPython.display import IFrame\n",
        "  class BiliVideo(IFrame):\n",
        "      def __init__(self, id, page=1, width=400, height=300, **kwargs):\n",
        "          self.id=id\n",
        "          src = 'https://player.bilibili.com/player.html?bvid={0}&page={1}'.format(id, page)\n",
        "          super(BiliVideo, self).__init__(src, width, height, **kwargs)\n",
        "\n",
        "  video = BiliVideo(id=\"BV1gh411Y7gV\", width=854, height=480, fs=1)\n",
        "  print('Video available at https://www.bilibili.com/video/{0}'.format(video.id))\n",
        "  display(video)\n",
        "\n",
        "out1 = widgets.Output()\n",
        "with out1:\n",
        "  from IPython.display import YouTubeVideo\n",
        "  video = YouTubeVideo(id=\"NI8c80TA7IQ\", width=854, height=480, fs=1, rel=0)\n",
        "  print('Video available at https://youtube.com/watch?v=' + video.id)\n",
        "  display(video)\n",
        "\n",
        "out = widgets.Tab([out1, out2])\n",
        "out.set_title(0, 'Youtube')\n",
        "out.set_title(1, 'Bilibili')\n",
        "\n",
        "display(out)"
      ],
      "id": "DYKXWaR7iwl9",
      "execution_count": null,
      "outputs": [
        {
          "output_type": "display_data",
          "data": {
            "application/vnd.jupyter.widget-view+json": {
              "model_id": "bcbdc7ef757c45b0847e0d8831ae7cd7",
              "version_minor": 0,
              "version_major": 2
            },
            "text/plain": [
              "Tab(children=(Output(), Output()), _titles={'0': 'Youtube', '1': 'Bilibili'})"
            ]
          },
          "metadata": {
            "tags": []
          }
        }
      ]
    },
    {
      "cell_type": "markdown",
      "metadata": {
        "id": "R9B9JKT-PvEn"
      },
      "source": [
        "## Section 1.1: Slope of line as approximation of derivative\n",
        "\n",
        "*Estimated timing to here from start of tutorial: 8 min*\n",
        "\n",
        "<details>\n",
        "<summary> <font color='blue'>Click here for text recap of relevant part of video </font></summary>\n",
        "\n",
        "The Euler method is one of the straight forward and elegant methods to approximate a differential. It was designed by [Leonhard Euler](https://en.wikipedia.org/wiki/Leonhard_Euler) (1707-1783). \n",
        "Simply put we just replace the derivative in the differential equation by the formula for a line and re-arrange.\n",
        "\n",
        "The slope is the rate of change between two points. The formula for the slope of a line between the points $(t_0,y(t_0))$ and $(t_1,y(t_1))$ is given by:\n",
        "$$ m=\\frac{y(t_1)-y(t_0)}{t_1-t_0}, $$\n",
        "which can be written as \n",
        "$$ m=\\frac{y_1-y_0}{t_1-t_0}, $$\n",
        "or as\n",
        "$$ m=\\frac{\\Delta y_0}{\\Delta t_0}, $$\n",
        "where $\\Delta y_0=y_1-y_0$ and $\\Delta t_0=t_1-t_0$ or in words as\n",
        "$$ m=\\frac{\\text{ Change in y} }{\\text{Change in t}}. $$\n",
        "The slope can be used as an approximation of the derivative such that\n",
        "$$ \\frac{d}{dt}y(t)\\approx \\frac{y(t_0+\\Delta t)-y(t_0)}{t_0+\\Delta t-t_0}=\\frac{y(t_0+dt)-y(t_0)}{\\Delta t}$$\n",
        "where $\\Delta t$ is a time-step.\n",
        "\n",
        "</details>"
      ],
      "id": "R9B9JKT-PvEn"
    },
    {
      "cell_type": "markdown",
      "metadata": {
        "id": "b667c36a"
      },
      "source": [
        "### Interactive Demo 1.1: Slope of a Line\n",
        "The plot below shows a function $y(t)$ in blue, its exact derivative $ \\frac{d}{dt}y(t)$ at $t_0=1$ in black, and the approximate derivative calculated using the slope formula $=\\frac{y(1+\\Delta t)-y(1)}{\\Delta t}$ for different time-steps sizes $\\Delta t$ in green.\n",
        "\n",
        "Interact with the widget to see how time-step impacts the accuracy of the slope which is the estimate of the derivative.\n",
        "\n",
        "- How does the size of $\\Delta t$ affect the approximation?\n",
        "\n",
        "The approximation gets worse as $\\Delta t$ gets larger, and better as $\\Delta t$ gets smaller.\n"
      ],
      "id": "b667c36a"
    },
    {
      "cell_type": "code",
      "metadata": {
        "cellView": "form",
        "execution": {
          "iopub.execute_input": "2021-07-01T11:38:47.449631Z",
          "iopub.status.busy": "2021-07-01T11:38:47.449029Z",
          "iopub.status.idle": "2021-07-01T11:38:47.944331Z",
          "shell.execute_reply": "2021-07-01T11:38:47.942936Z"
        },
        "id": "ea4a4f78",
        "colab": {
          "base_uri": "https://localhost:8080/",
          "height": 321,
          "referenced_widgets": [
            "5ee91552bfeb4d2daa7d07e19380897c",
            "5d8cf177dae444f0b70cc2d1579f2e86",
            "b1da2fde3c4c4d7aae71ff67d650d34b",
            "5d1f5e6dc5c6489e9edf08c6c02e5ebd",
            "f6f76df6d8664d7f9705dfab312cf2e3",
            "562c0dac8ab24e47bcc748735e3d5f8e",
            "91cdad8a80314818b770fd3f9f08a85d"
          ]
        },
        "outputId": "222dc2c8-347c-4bef-f2c7-2c67b2e832f1"
      },
      "source": [
        "# @markdown Make sure you execute this cell to enable the widget!\n",
        "my_layout.width = '450px'\n",
        "@widgets.interact(\n",
        "\n",
        "    dt=widgets.FloatSlider(1, min=0., max=4., step=.1,\n",
        "                                layout=my_layout)\n",
        "\n",
        ")\n",
        "\n",
        "def Pop_widget(dt):\n",
        "  plot_slope(dt)\n",
        "  plt.show()"
      ],
      "id": "ea4a4f78",
      "execution_count": null,
      "outputs": [
        {
          "output_type": "display_data",
          "data": {
            "application/vnd.jupyter.widget-view+json": {
              "model_id": "5ee91552bfeb4d2daa7d07e19380897c",
              "version_minor": 0,
              "version_major": 2
            },
            "text/plain": [
              "interactive(children=(FloatSlider(value=1.0, description='dt', layout=Layout(width='450px'), max=4.0), Output(…"
            ]
          },
          "metadata": {
            "tags": []
          }
        }
      ]
    },
    {
      "cell_type": "markdown",
      "metadata": {
        "execution": {
          "iopub.execute_input": "2021-07-01T11:38:47.951903Z",
          "iopub.status.busy": "2021-07-01T11:38:47.951412Z",
          "iopub.status.idle": "2021-07-01T11:38:47.956100Z",
          "shell.execute_reply": "2021-07-01T11:38:47.956570Z"
        },
        "id": "gTgFRiMhc1qm"
      },
      "source": [
        "[*Click for solution*](https://github.com/NeuromatchAcademy/course-content/tree/master//tutorials/W0D4_Calculus/solutions/W0D4_Tutorial3_Solution_a4085ae8.py)\n",
        "\n"
      ],
      "id": "gTgFRiMhc1qm"
    },
    {
      "cell_type": "markdown",
      "metadata": {
        "id": "8f92ce83"
      },
      "source": [
        "## Section 1.2: Euler error for a single step\n",
        "\n",
        "*Estimated timing to here from start of tutorial: 12 min*\n",
        "\n",
        "<details>\n",
        "<summary> <font color='blue'>Click here for text recap of relevant part of video </font></summary>\n",
        "\n",
        "Linking with the previous tutorial, we will use the population differential equation to get an intuitive feel of using the Euler method to approximate the solution of a differential equation, as it has an exact solution with no discontinuities.\n",
        "\n",
        "The population differential equation is given by\n",
        "\\begin{align*}\n",
        "\\\\\n",
        "\\frac{d}{dt}\\,p(t) &= \\alpha p(t)\\\\\\\\\n",
        "p(0)&=p_0 \\quad \\text{Initial Condition}\n",
        "\\end{align*}\n",
        "\n",
        "where $p(t)$ is the population at time $t$ and $\\alpha$ is a parameter representing birth rate. The exact solution of the differential equation is \n",
        "$$ p(t)=p_0e^{\\alpha t}.$$\n",
        "\n",
        "To numerically estimate the population differential equation we replace the derivate with the slope of the line to get the discrete (not continuous) equation:\n",
        "\n",
        "\\begin{align*}\n",
        "\\\\\n",
        "\\frac{p_1-p_0}{t_1-t_0} &= \\alpha p_0\\\\\\\\\n",
        "p(0)&=p_0 \\quad \\text{Initial Condition}\n",
        "\\end{align*}\n",
        "\n",
        "where $p_1$ is the estimate of $p(t_1)$. Let $\\Delta t=t_1-t_0$ be the time-step and re-arrange the equation gives\n",
        "\n",
        "\\begin{align*}\n",
        "\\color{red}{p_1}&=\\color{green}{p_0}+\\color{blue}{\\Delta t} (\\color{blue}{\\alpha} \\color{green}{p_0})\n",
        "\\end{align*}\n",
        "\n",
        "where $\\color{red}{p_1}$ is the unknown future, $\\color{green}{p_0}$ is the known current population, $\\color{blue}{\\Delta t}$ is the chosen time-step parameter and $\\color{blue}{\\alpha}$ is the given birth rate parameter.\n",
        "Another way to read the re-arranged discrete equation is:\n",
        "\n",
        "\\begin{align*}\n",
        "\\color{red}{\\text{\"Future Population\"}}&=\\color{green}{\\text{ \"Current Population\"}}+\\color{blue}{\\text{ time-step}} \\times (\\color{blue}{\\text{ \"Birth rate}}\\times  \\color{green}{\\text{ Current Population\"}}).\n",
        "\\end{align*}\n",
        "\n",
        "So pretty much, we can use the current population and add a bit of the dynamics of the differential equation to predict the future. We will make millions... But wait there is always an error.\n",
        "\n",
        "The solution of the Euler method $p_1$ is an estimate of the exact solution $p(t_1)$ at $t_1$ which means there is a bit of error $e_1$ which gives the equation\n",
        "\\begin{align*}\n",
        "p(t_1)&=p_1+e_1\\\\\\\\\n",
        "\\text{Rearranging}\\\\\\\\\n",
        "e_1&=p(t_1)-p_1,\\\\\n",
        "\\text{Error}&=\\text{Exact-Estimate}.\n",
        "\\end{align*}\n",
        "\n",
        "Most of the time we do not know the exact answer $p(t_1)$ and hence the size of the error $e_1$ but for the population equation we have the exact solution $ p(t)=p_0e^{\\alpha}.$\n",
        "\n",
        "This means we can explore what the error looks like.\n",
        "</details>"
      ],
      "id": "8f92ce83"
    },
    {
      "cell_type": "markdown",
      "metadata": {
        "id": "vGxg-2k6k8hM"
      },
      "source": [
        "### Interactive Demo 1.2: Euler error for a single step\n",
        "Interact with the widget to see how the time-step $\\Delta t$, dt in code, impacts the estimate $p_1$ and the error $e_1$ of the Euler method.\n",
        "\n",
        "\n",
        "1. What happens to the estimate $p_1$ as the time-step $\\Delta t$ increases?\n",
        "\n",
        "The estimate deviates more from the actual value as the time-step increases.\n",
        "\n",
        "2. Is there a relationship between the size of $\\Delta t$ and $e_1$?\n",
        "\n",
        "As the size of the time-step increases, the error increases (this is a linear relationship).\n",
        "\n",
        "3. How would you improve the error $e_1$?\n",
        "\n",
        "Shorten the time-step."
      ],
      "id": "vGxg-2k6k8hM"
    },
    {
      "cell_type": "code",
      "metadata": {
        "cellView": "form",
        "execution": {
          "iopub.execute_input": "2021-07-01T11:38:47.974495Z",
          "iopub.status.busy": "2021-07-01T11:38:47.962943Z",
          "iopub.status.idle": "2021-07-01T11:38:48.383450Z",
          "shell.execute_reply": "2021-07-01T11:38:48.382999Z"
        },
        "id": "e72c600b",
        "colab": {
          "base_uri": "https://localhost:8080/",
          "height": 321,
          "referenced_widgets": [
            "a3fef19063884decbe001a4cea2c35cc",
            "d22e5348e3504771ac3321e7501e3b35",
            "06d6073b1e0f413c8b1f5d1490d6c489",
            "33c1ad3bf1304d109f5ff2b9e082c8d4",
            "1a80dfb9e3e54cd5a54660aa08281ea7",
            "562c0dac8ab24e47bcc748735e3d5f8e",
            "e5838cca3b204f579089c9f0b2052ecd"
          ]
        },
        "outputId": "e92366af-0d5c-4938-8d02-2beec093dbdf"
      },
      "source": [
        "# @markdown Make sure you execute this cell to enable the widget!\n",
        "my_layout.width = '450px'\n",
        "@widgets.interact(\n",
        "    dt=widgets.FloatSlider(1.5, min=0., max=4., step=.1,\n",
        "                                layout=my_layout)\n",
        ")\n",
        "\n",
        "def Pop_widget(dt):\n",
        "  plot_StepEuler(dt)\n",
        "  plt.show()"
      ],
      "id": "e72c600b",
      "execution_count": null,
      "outputs": [
        {
          "output_type": "display_data",
          "data": {
            "application/vnd.jupyter.widget-view+json": {
              "model_id": "a3fef19063884decbe001a4cea2c35cc",
              "version_minor": 0,
              "version_major": 2
            },
            "text/plain": [
              "interactive(children=(FloatSlider(value=1.5, description='dt', layout=Layout(width='450px'), max=4.0), Output(…"
            ]
          },
          "metadata": {
            "tags": []
          }
        }
      ]
    },
    {
      "cell_type": "markdown",
      "metadata": {
        "execution": {
          "iopub.execute_input": "2021-07-01T11:38:48.389471Z",
          "iopub.status.busy": "2021-07-01T11:38:48.388930Z",
          "iopub.status.idle": "2021-07-01T11:38:48.393327Z",
          "shell.execute_reply": "2021-07-01T11:38:48.393720Z"
        },
        "id": "EoA90TrDdVWv"
      },
      "source": [
        "[*Click for solution*](https://github.com/NeuromatchAcademy/course-content/tree/master//tutorials/W0D4_Calculus/solutions/W0D4_Tutorial3_Solution_5348a4df.py)\n",
        "\n"
      ],
      "id": "EoA90TrDdVWv"
    },
    {
      "cell_type": "markdown",
      "metadata": {
        "id": "e78fc157"
      },
      "source": [
        "The error $e_1$ from one time-step is known as the __local error__. For the Euler method the local error is linear, which means that the error decreases linearly as a function of timestep and is written as $O(\\Delta t)$."
      ],
      "id": "e78fc157"
    },
    {
      "cell_type": "markdown",
      "metadata": {
        "id": "1yr4hKV7R0JJ"
      },
      "source": [
        "## Section 1.3: Taking more steps\n",
        "\n",
        "*Estimated timing to here from start of tutorial: 16 min*"
      ],
      "id": "1yr4hKV7R0JJ"
    },
    {
      "cell_type": "code",
      "metadata": {
        "cellView": "form",
        "execution": {
          "iopub.execute_input": "2021-07-01T11:38:48.396452Z",
          "iopub.status.busy": "2021-07-01T11:38:48.395869Z",
          "iopub.status.idle": "2021-07-01T11:38:48.475547Z",
          "shell.execute_reply": "2021-07-01T11:38:48.472778Z"
        },
        "id": "MZcqv_DoRsWJ"
      },
      "source": [
        "# @title Video 2: Taking more steps\n",
        "from ipywidgets import widgets\n",
        "\n",
        "out2 = widgets.Output()\n",
        "with out2:\n",
        "  from IPython.display import IFrame\n",
        "  class BiliVideo(IFrame):\n",
        "      def __init__(self, id, page=1, width=400, height=300, **kwargs):\n",
        "          self.id=id\n",
        "          src = 'https://player.bilibili.com/player.html?bvid={0}&page={1}'.format(id, page)\n",
        "          super(BiliVideo, self).__init__(src, width, height, **kwargs)\n",
        "\n",
        "  video = BiliVideo(id=\"BV135411T7QF\", width=854, height=480, fs=1)\n",
        "  print('Video available at https://www.bilibili.com/video/{0}'.format(video.id))\n",
        "  display(video)\n",
        "\n",
        "out1 = widgets.Output()\n",
        "with out1:\n",
        "  from IPython.display import YouTubeVideo\n",
        "  video = YouTubeVideo(id=\"cGsXHllGMVo\", width=854, height=480, fs=1, rel=0)\n",
        "  print('Video available at https://youtube.com/watch?v=' + video.id)\n",
        "  display(video)\n",
        "\n",
        "out = widgets.Tab([out1, out2])\n",
        "out.set_title(0, 'Youtube')\n",
        "out.set_title(1, 'Bilibili')\n",
        "\n",
        "display(out)"
      ],
      "id": "MZcqv_DoRsWJ",
      "execution_count": null,
      "outputs": []
    },
    {
      "cell_type": "markdown",
      "metadata": {
        "id": "972a55c4"
      },
      "source": [
        "<details>\n",
        "<summary> <font color='blue'>Click here for text recap of relevant part of video </font></summary>\n",
        "\n",
        "In the above exercise we saw that by increasing the time-step $\\Delta t$ the error between the estimate $p_1$ and the exact $p(t_1)$ increased.  The largest error in the example above was for $\\Delta t=4$, meaning the first time point was at 1 year and the second was at 5 years (as 5 - 1 = 4). \n",
        "\n",
        "To decrease the error, we can divide the interval $[1, 5]$ into more steps using a smaller $\\Delta t$. \n",
        "\n",
        "In the plot below we use $\\Delta t=1$, which divides the interval into four segments\n",
        "$$n=\\frac{5-1}{1}=4,$$\n",
        "giving\n",
        "$$ t_0=t[0]=1, \\ t_1=t[1]=2, \\ t_2=t[2]=3, \\ t_3=t[3]=4 \\ \\text{ and } t_4=t[4]=5. $$\n",
        "This can be written as\n",
        "$$ t[k]=1+k\\times1, \\text{ for } k=0,\\cdots 4, $$\n",
        "and more generally as \n",
        "$$ t[k]=t[k]+k\\times \\Delta t, \\text{ for } k=0,\\cdots n, $$\n",
        "where $n$ is the number of steps.\n",
        "\n",
        "Using the Euler method, the continuous population differential equation is written as a series of discrete difference equations of the form:\n",
        "\\begin{align*}\n",
        "\\color{red}{p[k+1]}&=\\color{green}{p[k]}+\\color{blue}{\\Delta t} (\\color{blue}{\\alpha} \\color{green}{p[k]})\\\\\n",
        "&\\text{for } k=0,1,\\cdots n-1\n",
        "\\end{align*}\n",
        "where $\\color{red}{p[k+1]}$ is the unknown estimate of the future population at $t[k+1]$, $\\color{green}{p[k]}$ is the known current population estimate at $t_k$, $\\color{blue}{\\Delta t}$ is the chosen time-step parameter and $\\color{blue}{\\alpha}$ is the given birth rate parameter.\n",
        "\n",
        "\n",
        "The Euler method can be applied to all first order differential equations of the form\n",
        "\\begin{align*}\n",
        "\\frac{d}{dt}y(t)&=f(t,y(t)),\\\\\n",
        "y(t_{0})&=y_0,\\\\\n",
        "\\end{align*}\n",
        "on an interval $[a,b]$.\n",
        "\n",
        "Using the Euler method all differential equation can be written as discrete difference equations:\n",
        "\\begin{align*}\n",
        "\\frac{\\color{red}{y[k+1]}-\\color{green}{y[k]}}{\\color{blue}{\\Delta t}}&=f(\\color{blue}{t[k]},\\color{green}{y[k]}),\\\\\n",
        "\\text{Re-arranging}\\\\\n",
        "\\color{red}{y[k+1]}&=\\color{green}{y[k]}+\\color{blue}{\\Delta t}f(\\color{blue}{t[k]},\\color{green}{y[k]}),\\\\\n",
        "&\\text{ for } k=0, \\cdots n-1,\\\\\n",
        "y[0]&=\\color{green}{y_0},\\\\\n",
        "\\end{align*}\n",
        "where  $\\color{red}{y[k+1]}$ is the unknown estimate at $t[k+1]$, $\\color{green}{y[k]}$ is the known at $t_k$, $\\color{blue}{\\Delta t}$ is the chosen time-step parameter, $\\color{blue}{t[k]}$ is the time point and $f$ is the right hand side of the differential equation. \n",
        "The discrete time steps are:\n",
        "\\begin{align*}\n",
        "\\color{blue}{t[k]}&=\\color{blue}{t[0]}+\\color{blue}{k}\\color{blue}{\\Delta t},\\\\\n",
        "n&=\\frac{b-a}{\\Delta t}\\\\\n",
        "&\\text{ for } k=0, \\cdots n.\\\\\n",
        "\\end{align*}\n",
        "Once again this can be simply put into words:\n",
        "\\begin{align*}\n",
        "\\color{red}{\\text{ \"Future\" }}&=\\color{green}{\\text{ \"Current Info\" }}+\\color{blue}{\\text{ time-step } }\\times\\text{ \"Dynamics of the system which is a function of } \\color{blue}{ \\text{ time }} \\text{ and }\\color{green}{ \\text{ Current Info.\" }}\n",
        "\\end{align*}"
      ],
      "id": "972a55c4"
    },
    {
      "cell_type": "code",
      "metadata": {
        "cellView": "form",
        "execution": {
          "iopub.execute_input": "2021-07-01T11:38:48.500447Z",
          "iopub.status.busy": "2021-07-01T11:38:48.489694Z",
          "iopub.status.idle": "2021-07-01T11:38:48.755540Z",
          "shell.execute_reply": "2021-07-01T11:38:48.755078Z"
        },
        "id": "d84f02ed"
      },
      "source": [
        "# @markdown *Execute this cell to visualize time steps*\n",
        "dt  =1\n",
        "t  =np.arange(1, 5+dt/2, dt) # Time from 1 to 5 years in 0.1 steps\n",
        "with plt.xkcd():\n",
        "    fig = plt.figure(figsize=(8, 2))\n",
        "    plt.plot(t, 0*t, ':o')\n",
        "    plt.plot(t[0] ,0*t[0],':go',label='Initial Condition')\n",
        "    plt.text(t[0]-0.1, 0*t[0]-0.03, r'$t_0$')\n",
        "    plt.text(t[1]-0.1, 0*t[0]-0.03, r'$t_1$')\n",
        "    plt.text(t[2]-0.1, 0*t[0]-0.03, r'$t_2$')\n",
        "    plt.text(t[3]-0.1, 0*t[0]-0.03, r'$t_3$')\n",
        "    plt.text(t[4]-0.1, 0*t[0]-0.03,r'$t_4$')\n",
        "    plt.text(t[0]+0.5, 0*t[0]+0.02, r'$\\Delta t$')\n",
        "    plt.text(t[1]+0.5, 0*t[0]+0.02, r'$\\Delta t$')\n",
        "    plt.text(t[2]+0.5, 0*t[0]+0.02, r'$\\Delta t$')\n",
        "    plt.text(t[3]+0.5, 0*t[0]+0.02, r'$\\Delta t$')\n",
        "    plt.yticks([])#plt.ylabel('Population (millions)')\n",
        "    plt.xlabel('time(years)')\n",
        "    plt.show()"
      ],
      "id": "d84f02ed",
      "execution_count": null,
      "outputs": []
    },
    {
      "cell_type": "markdown",
      "metadata": {
        "id": "279ea532"
      },
      "source": [
        "### Coding Exercise 1.3: Step, step, step\n",
        "Given the population differential equation:\n",
        "\\begin{align*}\n",
        "\\\\\n",
        "\\frac{d}{dt}\\,p(t) &= 0.3 p(t),\\\\\n",
        "\\end{align*}\n",
        "and the initial condition:\n",
        "\\begin{align*}\n",
        "\\\\\n",
        "p(t_0=1)&=e^{0.3},\n",
        "\\end{align*}\n",
        "\n",
        "\n",
        "code the difference equation:\n",
        "\n",
        "\\begin{align*}\n",
        "\\color{red}{p[k+1]}&=\\color{green}{p[k]}+\\color{blue}{\\Delta t} (\\color{blue}{0.3} \\color{green}{p[k]}),\\\\\n",
        "\\color{green}{p[0]}&=e^{0.3},\\quad \\text{Initial Condition,}\\\\\n",
        "&\\text{for } k=0,1,\\cdots 4,\\\\\n",
        "\\end{align*}\n",
        "\n",
        "to estimate the population on the interval $[1,5]$ with a time-step $\\Delta t=1$, denoted by `dt` in code."
      ],
      "id": "279ea532"
    },
    {
      "cell_type": "code",
      "metadata": {
        "execution": {
          "iopub.execute_input": "2021-07-01T11:38:48.762842Z",
          "iopub.status.busy": "2021-07-01T11:38:48.761143Z",
          "iopub.status.idle": "2021-07-01T11:38:48.835786Z",
          "shell.execute_reply": "2021-07-01T11:38:48.834185Z"
        },
        "id": "8b872e66"
      },
      "source": [
        "# Time step\n",
        "dt = 1\n",
        "\n",
        "# Make time range from 1 to 5 years with step size dt\n",
        "t = np.arange(1, 5+dt/2, dt)\n",
        "\n",
        "# Get number of steps\n",
        "n = len(t)\n",
        "\n",
        "# Initialize p array\n",
        "p = np.zeros(n)\n",
        "p[0] = np.exp(0.3*t[0]) # initial condition\n",
        "\n",
        "# Loop over steps\n",
        "for k in range(n-1):\n",
        "\n",
        "  ########################################################################\n",
        "  ## TODO for students\n",
        "  ## Complete line of code and remove\n",
        "  raise NotImplementedError(\"Student exercise: calculate the population step for each time point\")\n",
        "  ########################################################################\n",
        "\n",
        "  # Calculate the population step\n",
        "  p[k+1] = ...\n",
        "\n",
        "# Visualize\n",
        "visualize_population_approx(t, p)"
      ],
      "id": "8b872e66",
      "execution_count": null,
      "outputs": []
    },
    {
      "cell_type": "markdown",
      "metadata": {
        "execution": {
          "iopub.execute_input": "2021-07-01T11:38:48.842805Z",
          "iopub.status.busy": "2021-07-01T11:38:48.842294Z",
          "iopub.status.idle": "2021-07-01T11:38:49.167483Z",
          "shell.execute_reply": "2021-07-01T11:38:49.167902Z"
        },
        "id": "LHAKHn_5UzLQ"
      },
      "source": [
        "[*Click for solution*](https://github.com/NeuromatchAcademy/course-content/tree/master//tutorials/W0D4_Calculus/solutions/W0D4_Tutorial3_Solution_dffaca6b.py)\n",
        "\n",
        "*Example output:*\n",
        "\n",
        "<img alt='Solution hint' align='left' width=832.0 height=544.0 src=https://raw.githubusercontent.com/NeuromatchAcademy/course-content/master/tutorials/W0D4_Calculus/static/W0D4_Tutorial3_Solution_dffaca6b_0.png>\n",
        "\n"
      ],
      "id": "LHAKHn_5UzLQ"
    },
    {
      "cell_type": "markdown",
      "metadata": {
        "id": "d9301447"
      },
      "source": [
        "The error is smaller for 4 time-steps than taking one large time step from 1 to 5 but do note that the error is increasing for each step. This is known as __global error__ so the futher in time you want to predict, the larger the error.\n",
        "You can read the theorems [here.](https://colab.research.google.com/github/john-s-butler-dit/Numerical-Analysis-Python/blob/master/Chapter%2001%20-%20Euler%20Methods/102_Euler_method_with_Theorems_nonlinear_Growth_function.ipynb) "
      ],
      "id": "d9301447"
    },
    {
      "cell_type": "markdown",
      "metadata": {
        "id": "b419bf50"
      },
      "source": [
        "---\n",
        "# Section 2: Euler method for the leaky integrate and fire\n",
        "\n",
        "\n",
        "*Estimated timing to here from start of tutorial: 26 min*"
      ],
      "id": "b419bf50"
    },
    {
      "cell_type": "code",
      "metadata": {
        "cellView": "form",
        "execution": {
          "iopub.execute_input": "2021-07-01T11:38:49.178895Z",
          "iopub.status.busy": "2021-07-01T11:38:49.178313Z",
          "iopub.status.idle": "2021-07-01T11:38:49.266402Z",
          "shell.execute_reply": "2021-07-01T11:38:49.263418Z"
        },
        "id": "JOA7EzauxIV6"
      },
      "source": [
        "# @title Video 3: Leaky integrate and fire\n",
        "from ipywidgets import widgets\n",
        "\n",
        "out2 = widgets.Output()\n",
        "with out2:\n",
        "  from IPython.display import IFrame\n",
        "  class BiliVideo(IFrame):\n",
        "      def __init__(self, id, page=1, width=400, height=300, **kwargs):\n",
        "          self.id=id\n",
        "          src = 'https://player.bilibili.com/player.html?bvid={0}&page={1}'.format(id, page)\n",
        "          super(BiliVideo, self).__init__(src, width, height, **kwargs)\n",
        "\n",
        "  video = BiliVideo(id=\"BV1k5411T7by\", width=854, height=480, fs=1)\n",
        "  print('Video available at https://www.bilibili.com/video/{0}'.format(video.id))\n",
        "  display(video)\n",
        "\n",
        "out1 = widgets.Output()\n",
        "with out1:\n",
        "  from IPython.display import YouTubeVideo\n",
        "  video = YouTubeVideo(id=\"T85OcgY7xjo\", width=854, height=480, fs=1, rel=0)\n",
        "  print('Video available at https://youtube.com/watch?v=' + video.id)\n",
        "  display(video)\n",
        "\n",
        "out = widgets.Tab([out1, out2])\n",
        "out.set_title(0, 'Youtube')\n",
        "out.set_title(1, 'Bilibili')\n",
        "\n",
        "display(out)"
      ],
      "id": "JOA7EzauxIV6",
      "execution_count": null,
      "outputs": []
    },
    {
      "cell_type": "markdown",
      "metadata": {
        "id": "Zjro4hXwxU8O"
      },
      "source": [
        "<details>\n",
        "<summary> <font color='blue'>Click here for text recap of video </font></summary>\n",
        "\n",
        "The Leaky Integrate and Fire (LIF) differential equation is:\n",
        "\n",
        "\\begin{align}\n",
        "\\frac{dV}{dt} = \\frac{-(V-E_L) + R_mI(t)}{\\tau_m}\\,\n",
        "\\end{align}\n",
        "\n",
        "where $\\tau_m$ is the time constant, $V$ is the membrane potential, $E_L$ is the resting potential, $R_m$ is leak resistance and $I(t)$ is the external input current. \n",
        "\n",
        "The solution of the LIF can be estimated by applying the Euler method to give the difference equation:\n",
        "\n",
        "\\begin{align}\n",
        "\\frac{\\color{red}{V[k+1]}-\\color{green}{V[k]}}{\\color{blue}{\\Delta t}}=\\big(\\frac{-(\\color{green}{V[k]}-\\color{blue}{E_L}) + \\color{blue}{R_m}I[k]}{\\color{blue}{\\tau_m}}\\big),\\\\\n",
        "\\end{align}\n",
        "where $V[k]$ is the estimate of the membrane potential at time point $t[k]$.\n",
        "Re-arranging the equation such that all the known terms are on the right gives:\n",
        "\n",
        "\\begin{align}\n",
        "\\color{red}{V[k+1]}=\\color{green}{V[k]}+\\color{blue}{\\Delta t}\\big(\\frac{-(\\color{green}{V[k]}-\\color{blue}{E_L}) + \\color{blue}{R_m}I[k]}{\\color{blue}{\\tau_m}}\\big),\\\\\n",
        "\\text{for } k=0\\cdots n-1,\n",
        "\\end{align}\n",
        "\n",
        "where $\\color{red}{V[k+1]}$ is the unknown membrane potential at $t[k+1]$, $\\color{green}{V[k]} $ is known membrane potential, $\\color{blue}{E_L}$, $\\color{blue}{R_m}$ and $\\color{blue}{\\tau_m}$ are known parameters, $\\color{blue}{\\Delta t}$ is a chosen time-step and  $I(t_k)$ is a function for an external input current."
      ],
      "id": "Zjro4hXwxU8O"
    },
    {
      "cell_type": "markdown",
      "metadata": {
        "id": "1efb9d89"
      },
      "source": [
        "## Coding Exercise 2: LIF and Euler\n",
        "Code the difference equation for the LIF:\n",
        "\n",
        "\\begin{align}\n",
        "\\color{red}{V[k+1]}=\\color{green}{V[k]}+\\color{blue}{\\Delta t}\\big(\\frac{-(\\color{green}{V[k]}-\\color{blue}{E_L}) + \\color{blue}{R_m}I[k]}{\\color{blue}{\\tau_m}}\\big),\\\\\n",
        "\\text{for } k=0\\cdots n-1,\n",
        "\\end{align}\n",
        "\n",
        "with the given parameters set as:\n",
        "* `V_reset = -75,`\n",
        "* `E_L = -75,`\n",
        "* `tau_m = 10,`\n",
        "* `R_m = 10.`\n",
        "\n",
        "We will then visualize the result.\n",
        "The figure has three panels:\n",
        "* the top panel is the sinusoidal input, $I$, \n",
        "* the middle panel is the estimate membrane potential $V_k$. To illustrate a spike, $V_k$ is set to $0$ and then reset, \n",
        "* the bottom panel is the raster plot with each dot indicating a spike.\n",
        "\n",
        "\n"
      ],
      "id": "1efb9d89"
    },
    {
      "cell_type": "code",
      "metadata": {
        "execution": {
          "iopub.execute_input": "2021-07-01T11:38:49.283656Z",
          "iopub.status.busy": "2021-07-01T11:38:49.277064Z",
          "iopub.status.idle": "2021-07-01T11:38:49.286412Z",
          "shell.execute_reply": "2021-07-01T11:38:49.285887Z"
        },
        "id": "4e7d29bb"
      },
      "source": [
        "def Euler_Integrate_and_Fire(I, time, dt):\n",
        "  \"\"\"\n",
        "  Args:\n",
        "    I: Input\n",
        "    time: time\n",
        "    dt: time-step\n",
        "  Returns:\n",
        "    Spike: Spike count\n",
        "    Spike_time: Spike times\n",
        "    V: membrane potential esitmated by the Euler method\n",
        "  \"\"\"\n",
        "\n",
        "  Spike = 0\n",
        "  tau_m = 10\n",
        "  R_m = 10\n",
        "  t_isi = 0\n",
        "  V_reset = E_L = -75\n",
        "  n = len(time)\n",
        "  V = V_reset * np.ones(n)\n",
        "  V_th = -50\n",
        "  Spike_time = []\n",
        "\n",
        "  for k in range(n-1):\n",
        "    #######################################################################\n",
        "    ## TODO for students: calculate the estimate solution of V at t[i+1]\n",
        "    ## Complete line of codes for dV and remove\n",
        "    ## Run the code in Section 5.1 or 5.2 to see the output!\n",
        "    raise NotImplementedError(\"Student exercise: calculate the estimate solution of V at t[i+1]\")\n",
        "    ########################################################################\n",
        "\n",
        "    dV = ...\n",
        "    V[k+1] = V[k] + dt*dV\n",
        "\n",
        "    # Discontinuity for Spike\n",
        "    if V[k] > V_th:\n",
        "      V[k] = 0\n",
        "      V[k+1] = V_reset\n",
        "      t_isi = time[k]\n",
        "      Spike = Spike + 1\n",
        "      Spike_time = np.append(Spike_time, time[k])\n",
        "\n",
        "  return Spike, Spike_time, V\n",
        "\n",
        "# Set up time step and current\n",
        "dt = 1\n",
        "t = np.arange(0, 1000, dt)\n",
        "I = np.sin(4 * 2 * np.pi * t/1000) + 2\n",
        "\n",
        "# Model integrate and fire neuron\n",
        "Spike, Spike_time, V = Euler_Integrate_and_Fire(I, t, dt)\n",
        "\n",
        "# Visualize\n",
        "plot_IF(t, V,I,Spike_time)"
      ],
      "id": "4e7d29bb",
      "execution_count": null,
      "outputs": []
    },
    {
      "cell_type": "markdown",
      "metadata": {
        "execution": {
          "iopub.execute_input": "2021-07-01T11:38:49.379268Z",
          "iopub.status.busy": "2021-07-01T11:38:49.311926Z",
          "iopub.status.idle": "2021-07-01T11:38:49.822614Z",
          "shell.execute_reply": "2021-07-01T11:38:49.823305Z"
        },
        "id": "55785e26"
      },
      "source": [
        "[*Click for solution*](https://github.com/NeuromatchAcademy/course-content/tree/master//tutorials/W0D4_Calculus/solutions/W0D4_Tutorial3_Solution_874eaa29.py)\n",
        "\n",
        "*Example output:*\n",
        "\n",
        "<img alt='Solution hint' align='left' width=1696.0 height=555.0 src=https://raw.githubusercontent.com/NeuromatchAcademy/course-content/master/tutorials/W0D4_Calculus/static/W0D4_Tutorial3_Solution_874eaa29_0.png>\n",
        "\n"
      ],
      "id": "55785e26"
    },
    {
      "cell_type": "markdown",
      "metadata": {
        "id": "0d322dc9"
      },
      "source": [
        "As electrophysiologists normally listen to spikes when conducting experiments,  listen to the music of the LIF neuron below. Note: this does not work on all browsers so just move on if you can't hear the audio."
      ],
      "id": "0d322dc9"
    },
    {
      "cell_type": "code",
      "metadata": {
        "cellView": "form",
        "execution": {
          "iopub.execute_input": "2021-07-01T11:38:49.870341Z",
          "iopub.status.busy": "2021-07-01T11:38:49.844243Z",
          "iopub.status.idle": "2021-07-01T11:38:50.480111Z",
          "shell.execute_reply": "2021-07-01T11:38:50.480945Z"
        },
        "id": "cd8f60c2"
      },
      "source": [
        "# @markdown *Execute this cell to visualize the LIF for sinusoidal input*\n",
        "\n",
        "dt = 1\n",
        "t = np.arange(0, 1000, dt)\n",
        "I = np.sin(4 * 2 * np.pi * t/1000) + 2\n",
        "Spike, Spike_time, V = Euler_Integrate_and_Fire(I, t, dt)\n",
        "\n",
        "plot_IF(t, V,I,Spike_time)\n",
        "plt.show()\n",
        "ipd.Audio(V, rate=1000/dt)"
      ],
      "id": "cd8f60c2",
      "execution_count": null,
      "outputs": []
    },
    {
      "cell_type": "markdown",
      "metadata": {
        "id": "L5o2liqz3bxi"
      },
      "source": [
        "---\n",
        "# Section 3: Systems of differential equations\n",
        "\n",
        "\n",
        "*Estimated timing to here from start of tutorial: 34 min*"
      ],
      "id": "L5o2liqz3bxi"
    },
    {
      "cell_type": "code",
      "metadata": {
        "cellView": "form",
        "execution": {
          "iopub.execute_input": "2021-07-01T11:38:50.492422Z",
          "iopub.status.busy": "2021-07-01T11:38:50.488853Z",
          "iopub.status.idle": "2021-07-01T11:38:50.581470Z",
          "shell.execute_reply": "2021-07-01T11:38:50.580881Z"
        },
        "id": "RkM3-RucX2c-"
      },
      "source": [
        "# @title Video 4: Systems of differential equations\n",
        "from ipywidgets import widgets\n",
        "\n",
        "out2 = widgets.Output()\n",
        "with out2:\n",
        "  from IPython.display import IFrame\n",
        "  class BiliVideo(IFrame):\n",
        "      def __init__(self, id, page=1, width=400, height=300, **kwargs):\n",
        "          self.id=id\n",
        "          src = 'https://player.bilibili.com/player.html?bvid={0}&page={1}'.format(id, page)\n",
        "          super(BiliVideo, self).__init__(src, width, height, **kwargs)\n",
        "\n",
        "  video = BiliVideo(id=\"BV1XV411s76a\", width=854, height=480, fs=1)\n",
        "  print('Video available at https://www.bilibili.com/video/{0}'.format(video.id))\n",
        "  display(video)\n",
        "\n",
        "out1 = widgets.Output()\n",
        "with out1:\n",
        "  from IPython.display import YouTubeVideo\n",
        "  video = YouTubeVideo(id=\"A3Puozl9nEs\", width=854, height=480, fs=1, rel=0)\n",
        "  print('Video available at https://youtube.com/watch?v=' + video.id)\n",
        "  display(video)\n",
        "\n",
        "out = widgets.Tab([out1, out2])\n",
        "out.set_title(0, 'Youtube')\n",
        "out.set_title(1, 'Bilibili')\n",
        "\n",
        "display(out)"
      ],
      "id": "RkM3-RucX2c-",
      "execution_count": null,
      "outputs": []
    },
    {
      "cell_type": "markdown",
      "metadata": {
        "id": "dTy23IBPZxYG"
      },
      "source": [
        "## Section 3.1: Using Euler to approximate a simple system\n",
        "\n",
        "*Estimated timing to here from start of tutorial: 40 min*"
      ],
      "id": "dTy23IBPZxYG"
    },
    {
      "cell_type": "markdown",
      "metadata": {
        "id": "85df22b9"
      },
      "source": [
        "<details>\n",
        "<summary> <font color='blue'>Click here for text recap of relevant part of video </font></summary>\n",
        "\n",
        "To get to grips with solving a system of differential equations using the Euler method, we will simplify the Wilson Cowan model, a set of equations that will be explored in more detail in the Dynamical Systems day.\n",
        "Looking at systems of differential equations will also allow us to introduce the concept of a phase-plane plot which is a method of investigating how different processes interact.\n",
        "\n",
        "In the previous section we looked at the LIF model for a single neuron. We now model a collection of neurons using a differential equation which describes the firing rate of a population of neurons. \n",
        "We will model the firing rate $r$ of two types of populations of neurons which interact, the excitation population firing rate $r_E$ and inhibition population firing rate $r_I$. These firing rates of neurons regulate each other by weighted connections $w$. The directed graph below illustrates this.\n",
        "\n",
        "Our system of differential equations is a linear version of the Wilson Cowan model. Consider the equations, \n",
        "\n",
        "\\begin{align}\n",
        "\\tau_E \\frac{dr_E}{dt} &= w_{EE}r_E+w_{EI}r_I, \\\\\n",
        "\\tau_I \\frac{dr_I}{dt} &= w_{IE}r_E+w_{II}r_I\n",
        "\\end{align}\n",
        "\n",
        "$r_E(t)$ represents the average activation (or firing rate) of the excitatory population at time $t$, and $r_I(t)$ the activation (or firing rate) of the inhibitory population. The parameters $\\tau_E$ and $\\tau_I$ control the timescales of the dynamics of each population. Connection strengths are given by: $w_{EE}$ (E $\\rightarrow$ E), $w_{EI}$ (I $\\rightarrow$ E), $w_{IE}$ (E $\\rightarrow$ I), and $w_{II}$ (I $\\rightarrow$ I). The terms $w_{EI}$ and $w_{IE}$ represent connections from inhibitory to excitatory population and vice versa, respectively.\n",
        "\n",
        "To start we will further simplify the linear system of equations by setting $w_{EE}$ and $w_{II}$ to zero, we now have the equations \n",
        "\n",
        "\\begin{align}\n",
        "\\tau_E \\frac{dr_E}{dt} &= w_{EI}r_I, \\\\\n",
        "\\tau_I \\frac{dr_I}{dt} &= w_{IE}r_E, \\qquad (1)\n",
        "\\end{align}\n",
        "\n",
        "where $\\tau_E=100$ and $\\tau_I=120$, no internal connection $w_{EE}=w_{II}=0$, and $w_{EI}=-1$ and $w_{IE}=1$,\n",
        "with the initial conditions\n",
        "\n",
        "\\begin{align}\n",
        "r_E(0)=30, \\\\ \n",
        "r_I(0)=20.\n",
        "\\end{align}\n",
        "\n",
        "The solution can be approximated using the Euler method such that we have the difference equations:\n",
        "\n",
        "\\begin{align*}\n",
        "\\frac{\\color{red}{r_E[k+1]}-\\color{green}{r_E[k]}}{\\color{blue}{\\Delta t}}&=\\big(\\frac{\\color{blue}{w_{EI}}\\color{green}{r_I[k]}}{\\color{blue}{\\tau_E}}\\big),\\\\\n",
        "\\frac{\\color{red}{r_I[k+1]}-\\color{green}{r_I[k]}}{\\color{blue}{\\Delta t}}&=\\big(\\frac{\\color{blue}{w_{IE}}\\color{green}{r_E[k]}}{\\color{blue}{\\tau_I}}\\big),\\\\\n",
        "\\end{align*}\n",
        "where $r_E[k]$ and $r_I[k]$ are the numerical estimates of the firing rate of the excitation population $r_E(t[k])$ and inhibition population $r_I(t[k])$ and $\\Delta t$ is the time-step.\n",
        "\n",
        "Re-arranging the equation such that all the known terms are on the right gives:\n",
        "\n",
        "\\begin{align*}\n",
        "\\color{red}{r_E[k+1]}&=\\color{green}{r_E[k]}+\\color{blue}{\\Delta t}\\big(\\frac{\\color{blue}{w_{EI}}\\color{green}{r_I[k]}}{\\color{blue}{\\tau_E}}\\big),\\\\\n",
        "\\color{red}{r_I[k+1]}&=\\color{green}{r_I[k]}+\\color{blue}{\\Delta t}\\big(\\frac{\\color{blue}{w_{IE}}\\color{green}{r_E[k]}}{\\color{blue}{\\tau_I}}\\big),\\\\\n",
        "&\\text{ for  } k=0, \\cdots , n-1,\\\\\\\\\n",
        "r_E[0]&=30,\\\\\n",
        "r_I[0]&=20.\\\\\n",
        "\\end{align*}\n",
        "\n",
        "where $\\color{red}{r_E[k+1]}$ and  $\\color{red}{r_I[k+1]}$ are unknown, $\\color{green}{r_E[k]} $ and  $\\color{green}{r_I[k]} $ are known, $\\color{blue}{w_{EI}}=-1$, $\\color{blue}{w_{IE}}=1$ and $\\color{blue}{\\tau_E}=100ms$ and $\\color{blue}{\\tau_I}=120ms$  are known parameters and $\\color{blue}{\\Delta t}=0.01ms$ is a chosen time-step.\n",
        "</details>\n",
        "\n"
      ],
      "id": "85df22b9"
    },
    {
      "cell_type": "markdown",
      "metadata": {
        "id": "47Ad_pNxE4Y-"
      },
      "source": [
        "\n",
        "\n",
        "![Linear_Wilson.png](data:image/png;base64,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)"
      ],
      "id": "47Ad_pNxE4Y-"
    },
    {
      "cell_type": "markdown",
      "metadata": {
        "id": "067b5f6e"
      },
      "source": [
        "### Coding Exercise 3.1: Euler on a Simple System \n",
        "\n",
        "Our difference equations are: \n",
        "\n",
        "\\begin{align*}\n",
        "\\color{red}{r_E[k+1]}&=\\color{green}{r_E[k]}+\\color{blue}{\\Delta t}\\big(\\frac{\\color{blue}{w_{EI}}\\color{green}{r_I[k]}}{\\color{blue}{\\tau_E}}\\big),\\\\\n",
        "\\color{red}{r_I[k+1]}&=\\color{green}{r_I[k]}+\\color{blue}{\\Delta t}\\big(\\frac{\\color{blue}{w_{IE}}\\color{green}{r_E[k]}}{\\color{blue}{\\tau_I}}\\big),\\\\\n",
        "&\\text{ for  } k=0, \\cdots , n-1,\\\\\\\\\n",
        "r_E[0]&=30,\\\\\n",
        "r_I[0]&=20.\\\\\n",
        "\\end{align*}\n",
        "\n",
        "where $\\color{red}{r_E[k+1]}$ and  $\\color{red}{r_I[k+1]}$ are unknown, $\\color{green}{r_E[k]} $ and  $\\color{green}{r_I[k]} $ are known, $\\color{blue}{w_{EI}}=-1$, $\\color{blue}{w_{IE}}=1$ and $\\color{blue}{\\tau_E}=100ms$ and $\\color{blue}{\\tau_I}=120ms$  are known parameters and $\\color{blue}{\\Delta t}=0.01ms$ is a chosen time-step.\n",
        "__Code the difference equations to estimate $r_{E}$ and $r_{I}$.__\n",
        "\n",
        "Note that the equations have to estimated in the same `for` loop as they depend on each other."
      ],
      "id": "067b5f6e"
    },
    {
      "cell_type": "code",
      "metadata": {
        "execution": {
          "iopub.execute_input": "2021-07-01T11:38:50.594670Z",
          "iopub.status.busy": "2021-07-01T11:38:50.594096Z",
          "iopub.status.idle": "2021-07-01T11:38:50.602522Z",
          "shell.execute_reply": "2021-07-01T11:38:50.601985Z"
        },
        "id": "e1514105"
      },
      "source": [
        "def Euler_Simple_Linear_System(t, dt):\n",
        "  \"\"\"\n",
        "  Args:\n",
        "    time: time\n",
        "  dt  : time-step\n",
        "  Returns:\n",
        "    r_E : Excitation Firing Rate\n",
        "    r_I : Inhibition Firing Rate\n",
        "\n",
        "  \"\"\"\n",
        "\n",
        "  # Set up parameters\n",
        "  tau_E = 100\n",
        "  tau_I = 120\n",
        "  n = len(t)\n",
        "  r_I = np.zeros(n)\n",
        "  r_I[0] = 20\n",
        "  r_E = np.zeros(n)\n",
        "  r_E[0] = 30\n",
        "\n",
        "  #######################################################################\n",
        "  ## TODO for students: calculate the estimate solutions of r_E and r_I at t[i+1]\n",
        "  ## Complete line of codes for dr_E and dr_I and remove\n",
        "  raise NotImplementedError(\"Student exercise: calculate the estimate solutions of r_E and r_I at t[i+1]\")\n",
        "  ########################################################################\n",
        "\n",
        "  # Loop over time steps\n",
        "  for k in range(n-1):\n",
        "\n",
        "    # Estimate r_e\n",
        "    dr_E = ...\n",
        "    r_E[k+1] = r_E[k] + dt*dr_E\n",
        "\n",
        "    # Estimate r_i\n",
        "    dr_I = ...\n",
        "    r_I[k+1] = r_I[k] + dt*dr_I\n",
        "\n",
        "  return r_E, r_I\n",
        "\n",
        "# Set up dt, t\n",
        "dt = 0.1 # time-step\n",
        "t = np.arange(0, 1000, dt)\n",
        "\n",
        "# Run Euler method\n",
        "r_E, r_I = Euler_Simple_Linear_System(t, dt)\n",
        "\n",
        "# Visualize\n",
        "plot_rErI(t, r_E, r_I)"
      ],
      "id": "e1514105",
      "execution_count": null,
      "outputs": []
    },
    {
      "cell_type": "markdown",
      "metadata": {
        "execution": {
          "iopub.execute_input": "2021-07-01T11:38:50.608483Z",
          "iopub.status.busy": "2021-07-01T11:38:50.607946Z",
          "iopub.status.idle": "2021-07-01T11:38:50.947917Z",
          "shell.execute_reply": "2021-07-01T11:38:50.948786Z"
        },
        "id": "JnLfmtc5ZWXz"
      },
      "source": [
        "[*Click for solution*](https://github.com/NeuromatchAcademy/course-content/tree/master//tutorials/W0D4_Calculus/solutions/W0D4_Tutorial3_Solution_77fad457.py)\n",
        "\n",
        "*Example output:*\n",
        "\n",
        "<img alt='Solution hint' align='left' width=832.0 height=544.0 src=https://raw.githubusercontent.com/NeuromatchAcademy/course-content/master/tutorials/W0D4_Calculus/static/W0D4_Tutorial3_Solution_77fad457_0.png>\n",
        "\n"
      ],
      "id": "JnLfmtc5ZWXz"
    },
    {
      "cell_type": "markdown",
      "metadata": {
        "id": "Fk-EvkAOImKR"
      },
      "source": [
        "### Think! 3.1: Simple Euler solution to the Wilson Cowan model\n",
        "\n",
        "1. Is the simulation biologically plausible?\n",
        "2. What is the effect of combined excitation and inhibition?\n"
      ],
      "id": "Fk-EvkAOImKR"
    },
    {
      "cell_type": "markdown",
      "metadata": {
        "execution": {
          "iopub.execute_input": "2021-07-01T11:38:50.953486Z",
          "iopub.status.busy": "2021-07-01T11:38:50.952870Z",
          "iopub.status.idle": "2021-07-01T11:38:50.957939Z",
          "shell.execute_reply": "2021-07-01T11:38:50.958410Z"
        },
        "id": "i3L1OGeUgZEe"
      },
      "source": [
        "[*Click for solution*](https://github.com/NeuromatchAcademy/course-content/tree/master//tutorials/W0D4_Calculus/solutions/W0D4_Tutorial3_Solution_5bbd8b66.py)\n",
        "\n"
      ],
      "id": "i3L1OGeUgZEe"
    },
    {
      "cell_type": "markdown",
      "metadata": {
        "id": "Cw-R4Yd4QCTH"
      },
      "source": [
        "## Section 3.2: Phase Plane Plot and Nullcline\n",
        "\n",
        "\n",
        "*Estimated timing to here from start of tutorial: 50 min*\n",
        "\n",
        "<details>\n",
        "<summary> <font color='blue'>Click here for text recap of relevant part of video </font></summary>\n",
        "\n",
        "When there are two differential equations describing the interaction of two processes like excitation $r_{E}$ and inhibition $r_{I}$ that are  dependent on each other they can be plotted as a function of each other, which is known as a phase plane plot. The phase plane plot can give insight give insight into the state of the system but more about that later in Neuromatch Academy.\n",
        "\n",
        "In the animated figure below, the panel of the left shows the excitation firing rate $r_E$ and the inhibition firing rate $r_I$ as a function of time. The panel on the right hand side is the phase plane plot which shows the inhibition firing rate $r_I$ as a function of excitation firing rate $r_E$.\n",
        "\n",
        "An addition to the phase plane plot are the \"nullcline\". These lines plot when the rate of change $\\frac{d}{dt}$ of the variables is equal to $0$. We saw a variation of this for a single differential equation in the differential equation tutorial.\n",
        "\n",
        "As we have two differential equations we set $\\frac{dr_E}{dt}=0$ and $\\frac{dr_I}{dt}=0$ which gives the equations,\n",
        "\n",
        "\\begin{align}\n",
        "0&= w_{EI}r_I, \\\\\n",
        "0&= w_{IE}r_E,\\\\\n",
        "\\end{align}\n",
        "\n",
        "these are a unique example as they are a vertical and horizontal line. Where the lines cross is the stable point which the $r_E(t)$ excitatory population and $r_I(t)$ the inhibitory population orbit around."
      ],
      "id": "Cw-R4Yd4QCTH"
    },
    {
      "cell_type": "markdown",
      "metadata": {
        "id": "ecb0c3bf"
      },
      "source": [
        "\n",
        "![Figure1_E_I.gif](data:image/gif;base64,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)\n"
      ],
      "id": "ecb0c3bf"
    },
    {
      "cell_type": "markdown",
      "metadata": {
        "id": "98f3c696"
      },
      "source": [
        "### Think! 6.1: Discuss the Plots\n",
        "\n",
        "1. Which representation is more intuitive (and useful), the time plot or the phase plane plot?\n",
        "2. Why do we only see one circle? \n",
        "3. What do the quadrants represent?\n"
      ],
      "id": "98f3c696"
    },
    {
      "cell_type": "code",
      "metadata": {
        "cellView": "form",
        "execution": {
          "iopub.execute_input": "2021-07-01T11:38:50.986887Z",
          "iopub.status.busy": "2021-07-01T11:38:50.985804Z",
          "iopub.status.idle": "2021-07-01T11:38:51.626364Z",
          "shell.execute_reply": "2021-07-01T11:38:51.625939Z"
        },
        "id": "036d3fb5"
      },
      "source": [
        "# @markdown Execute the code to plot the solution to the system\n",
        "plot_rErI_Simple(t, r_E, r_I)"
      ],
      "id": "036d3fb5",
      "execution_count": null,
      "outputs": []
    },
    {
      "cell_type": "markdown",
      "metadata": {
        "execution": {
          "iopub.execute_input": "2021-07-01T11:38:51.631718Z",
          "iopub.status.busy": "2021-07-01T11:38:51.630684Z",
          "iopub.status.idle": "2021-07-01T11:38:51.633325Z",
          "shell.execute_reply": "2021-07-01T11:38:51.633756Z"
        },
        "id": "Sfa1foAYhB13"
      },
      "source": [
        "[*Click for solution*](https://github.com/NeuromatchAcademy/course-content/tree/master//tutorials/W0D4_Calculus/solutions/W0D4_Tutorial3_Solution_0f722767.py)\n",
        "\n"
      ],
      "id": "Sfa1foAYhB13"
    },
    {
      "cell_type": "markdown",
      "metadata": {
        "id": "5a278386"
      },
      "source": [
        "## Section 3.3: Adding internal connections\n",
        "\n",
        "*Estimated timing to here from start of tutorial: 57 min*\n",
        "\n",
        "Building up the equations in the previous section we re-introduce internal connections $w_{EE}$, $w_{II}$. The two coupled differential equations, each representing the dynamics of the excitatory or inhibitory population are now:\n",
        "\n",
        "\\begin{align}\n",
        "\\tau_E \\frac{dr_E}{dt} &=w_{EE}r_E +w_{EI}r_I, \\\\\n",
        "\\tau_I \\frac{dr_I}{dt} &=w_{IE}r_E +w_{II}r_I ,\n",
        "\\end{align}\n",
        "\n",
        "where $\\tau_E=100$ and $\\tau_I=120$, $w_{EE}=1$ and $w_{II}=-1$, and $w_{EI}=-5$ and $w_{IE}=0.6$,\n",
        "with the initial conditions\n",
        "\n",
        "\\begin{align}\n",
        "r_E(0)=30, \\\\ \n",
        "r_I(0)=20.\n",
        "\\end{align}\n",
        "\n",
        "The solutions can be approximated using the Euler method such that the equations become:\n",
        "\n",
        "\\begin{align*}\n",
        "\\frac{\\color{red}{rE_{k+1}}-\\color{green}{rE_k}}{\\color{blue}{\\Delta t}}&=\\big(\\frac{\\color{blue}{w_{EE}}\\color{green}{rE_k}+\\color{blue}{w_{EI}}\\color{green}{rI_k}}{\\color{blue}{\\tau_E}}\\big),\\\\\n",
        "\\frac{\\color{red}{rI_{k+1}}-\\color{green}{rI_k}}{\\color{blue}{\\Delta t}}&=\\big(\\frac{\\color{blue}{w_{II}}\\color{green}{rI_k}+\\color{blue}{w_{IE}}\\color{green}{rE_k}}{\\color{blue}{\\tau_I}}\\big),\\\\\n",
        "\\end{align*}\n",
        "where $r_E[k]$ and $r_I[k]$ are the numerical estimates of the firing rate of the excitation population $r_E(t_k)$ and inhibition population $r_I(t_K)$ and $\\Delta t$ is the time-step.\n",
        "\n",
        "Re-arranging the equation such that all the known terms are on the right gives:\n",
        "\n",
        "\\begin{align*}\n",
        "\\color{red}{rE_{k+1}}&=\\color{green}{rE_k}+\\color{blue}{\\Delta t}\\big(\\frac{\\color{blue}{w_{EE}}\\color{green}{rE_k}+\\color{blue}{w_{EI}}\\color{green}{rI_k}}{\\color{blue}{\\tau_E}}\\big),\\\\\n",
        "\\color{red}{rI_{k+1}}&=\\color{green}{rI_k}+\\color{blue}{\\Delta t}\\big(\\frac{\\color{blue}{w_{II}}\\color{green}{rI_k}+\\color{blue}{w_{IE}}\\color{green}{rE_k}}{\\color{blue}{\\tau_I}}\\big),\\\\\n",
        "&\\text{ for } k=0, \\cdots n-1,\\\\\\\\\n",
        "rE_0&=30,\\\\\n",
        "rI_0&=20.\\\\\n",
        "\\end{align*}\n",
        "where $\\color{red}{rE_{k+1}}$ and  $\\color{red}{rI_{k+1}}$ are unknown, $\\color{green}{rE_{k}} $ and  $\\color{green}{rI_{k}} $ are known, $\\color{blue}{w_{EI}}=-1$, $\\color{blue}{w_{IE}}=1$, $\\color{blue}{w_{EE}}=1$,  $\\color{blue}{w_{II}}=-1$ and $\\color{blue}{\\tau_E}=100$ and $\\color{blue}{\\tau_I}=120$  are known parameters and $\\color{blue}{\\Delta t}=0.1$ is a chosen time-step.\n"
      ],
      "id": "5a278386"
    },
    {
      "cell_type": "markdown",
      "metadata": {
        "id": "byUkHQNsJDF-"
      },
      "source": [
        "### Think! 3.3: Oscillations\n",
        "\n",
        "\n",
        "The code below implements and visualizes the linear Wilson-Cowan model.\n",
        "\n",
        "1. What will happen to the oscillations if the time period is extended? \n",
        "2. How would you control or predict the oscillations? "
      ],
      "id": "byUkHQNsJDF-"
    },
    {
      "cell_type": "code",
      "metadata": {
        "cellView": "form",
        "execution": {
          "iopub.execute_input": "2021-07-01T11:38:51.672320Z",
          "iopub.status.busy": "2021-07-01T11:38:51.650556Z",
          "iopub.status.idle": "2021-07-01T11:38:51.959579Z",
          "shell.execute_reply": "2021-07-01T11:38:51.959070Z"
        },
        "id": "e00d88fb"
      },
      "source": [
        "# @markdown *Execute this cell to visualize the Linear Willson-Cowan*\n",
        "\n",
        "def Euler_Linear_System_Matrix(t, dt, w_EE=1):\n",
        "  \"\"\"\n",
        "  Args:\n",
        "    time: time\n",
        "    dt: time-step\n",
        "    w_EE: Excitation to excitation weight\n",
        "  Returns:\n",
        "    r_E: Excitation Firing Rate\n",
        "    r_I: Inhibition Firing Rate\n",
        "    N_Er: Nullclines for drE/dt=0\n",
        "    N_Ir: Nullclines for drI/dt=0\n",
        "  \"\"\"\n",
        "\n",
        "  tau_E = 100\n",
        "  tau_I = 120\n",
        "  n = len(t)\n",
        "  r_I = 20*np.ones(n)\n",
        "  r_E = 30*np.ones(n)\n",
        "  w_EI = -5\n",
        "  w_IE = 0.6\n",
        "  w_II = -1\n",
        "\n",
        "  for k in range(n-1):\n",
        "\n",
        "    # Calculate the derivatives of the E and I populations\n",
        "    drE = (w_EI*r_I[k] + w_EE*r_E[k]) / tau_E\n",
        "    r_E[k+1] = r_E[k] + dt*drE\n",
        "\n",
        "    drI = (w_II*r_I[k] + w_IE*r_E[k]) / tau_I\n",
        "    r_I[k+1] = r_I[k] + dt*drI\n",
        "\n",
        "\n",
        "  N_Er = -w_EE / w_EI*r_E\n",
        "  N_Ir = -w_IE / w_II*r_E\n",
        "\n",
        "  return r_E, r_I, N_Er, N_Ir\n",
        "\n",
        "\n",
        "dt = 0.1 # time-step\n",
        "t = np.arange(0, 1000, dt)\n",
        "r_E, r_I, _, _ = Euler_Linear_System_Matrix(t, dt)\n",
        "plot_rErI(t, r_E, r_I)"
      ],
      "id": "e00d88fb",
      "execution_count": null,
      "outputs": []
    },
    {
      "cell_type": "markdown",
      "metadata": {
        "execution": {
          "iopub.execute_input": "2021-07-01T11:38:51.964547Z",
          "iopub.status.busy": "2021-07-01T11:38:51.963991Z",
          "iopub.status.idle": "2021-07-01T11:38:51.968408Z",
          "shell.execute_reply": "2021-07-01T11:38:51.967961Z"
        },
        "id": "1ACUE5rriyyR"
      },
      "source": [
        "[*Click for solution*](https://github.com/NeuromatchAcademy/course-content/tree/master//tutorials/W0D4_Calculus/solutions/W0D4_Tutorial3_Solution_df2aee4c.py)\n",
        "\n"
      ],
      "id": "1ACUE5rriyyR"
    },
    {
      "cell_type": "markdown",
      "metadata": {
        "id": "261b8f71"
      },
      "source": [
        "## Section 3.4 Phase Plane and Nullclines Part 2\n",
        "\n",
        "*Estimated timing to here from start of tutorial: 62 min*\n",
        "\n",
        "Like before, we have two differential equations so we can plot the results on a phase plane. We can also calculate the Nullclines when we set $\\frac{dr_E}{dt}=0$ and $\\frac{dr_I}{dt}=0$ which gives,\n",
        "\\begin{align}\n",
        "0&= w_{EE}r_E+w_{EI}r_I, \\\\\n",
        "0&= w_{IE}r_E+w_{II}r_I,\n",
        "\\end{align}\n",
        "re-arranging as two lines\n",
        "\\begin{align}\n",
        "r_I&= -\\frac{w_{EE}}{w_{EI}}r_E, \\\\\n",
        "r_I&= -\\frac{w_{IE}}{w_{II}}r_E, \n",
        "\\end{align}\n",
        "which crosses at the stable point. \n",
        "\n",
        "The panel on the left shows excitation firing rate $r_E$ and inhibition firing rate  $r_I$ as a function of time. On the right side the phase plane plot shows inhibition firing rate $r_I$ as a function of excitation firing rate $r_E$ with the Nullclines for $\\frac{dr_E}{dt}=0$ and $\\frac{dr_I}{dt}=0.$"
      ],
      "id": "261b8f71"
    },
    {
      "cell_type": "code",
      "metadata": {
        "cellView": "form",
        "execution": {
          "iopub.execute_input": "2021-07-01T11:38:51.973093Z",
          "iopub.status.busy": "2021-07-01T11:38:51.972586Z",
          "iopub.status.idle": "2021-07-01T11:38:52.695546Z",
          "shell.execute_reply": "2021-07-01T11:38:52.695036Z"
        },
        "id": "3ca5f555"
      },
      "source": [
        "# @markdown *Run this cell to visualize the phase plane*\n",
        "dt = 0.1 # time-step\n",
        "t = np.arange(0, 1000, dt)\n",
        "r_E, r_I, N_Er, N_Ir = Euler_Linear_System_Matrix(t, dt)\n",
        "plot_rErI_Matrix(t, r_E, r_I, N_Er, N_Ir)"
      ],
      "id": "3ca5f555",
      "execution_count": null,
      "outputs": []
    },
    {
      "cell_type": "markdown",
      "metadata": {
        "id": "4d220e96"
      },
      "source": [
        "### Interactive Demo 3.4: A small change changes everything\n",
        "We will illustrate that even changing one parameter in a system of differential equations can have a large impact on the solutions of the excitation firing rate $r_E$ and inhibition firing rate $r_I$.\n",
        "Interact with the widget below to change the size of $w_{EE}$.\n",
        "\n",
        "Take note of:\n",
        "1. How the solution changes for positive and negative of $w_{EE}$. Pay close attention to the axis.\n",
        "\n",
        "2. How would you maintain a stable oscillation."
      ],
      "id": "4d220e96"
    },
    {
      "cell_type": "code",
      "metadata": {
        "cellView": "form",
        "execution": {
          "iopub.execute_input": "2021-07-01T11:38:52.716090Z",
          "iopub.status.busy": "2021-07-01T11:38:52.715529Z",
          "iopub.status.idle": "2021-07-01T11:38:53.410264Z",
          "shell.execute_reply": "2021-07-01T11:38:53.409689Z"
        },
        "id": "42724aca"
      },
      "source": [
        "# @markdown Make sure you execute this cell to enable the widget!\n",
        "my_layout.width = '450px'\n",
        "@widgets.interact(\n",
        "    w_EE=widgets.FloatSlider(1, min=-1., max=2., step=.1,\n",
        "                                layout=my_layout)\n",
        ")\n",
        "\n",
        "def Pop_widget(w_EE):\n",
        "  dt = 0.1 # time-step\n",
        "  t = np.arange(0,1000,dt)\n",
        "  r_E, r_I, N_Er, N_Ir = Euler_Linear_System_Matrix(t, dt, w_EE)\n",
        "  plot_rErI_Matrix(t, r_E, r_I, N_Er, N_Ir)\n",
        "  plt.show()"
      ],
      "id": "42724aca",
      "execution_count": null,
      "outputs": []
    },
    {
      "cell_type": "markdown",
      "metadata": {
        "id": "1268fd80"
      },
      "source": [
        "---\n",
        "# Summary\n",
        "\n",
        "*Estimated timing of tutorial: 70 minutes*\n",
        "\n"
      ],
      "id": "1268fd80"
    },
    {
      "cell_type": "code",
      "metadata": {
        "cellView": "form",
        "execution": {
          "iopub.execute_input": "2021-07-01T11:38:53.414711Z",
          "iopub.status.busy": "2021-07-01T11:38:53.414174Z",
          "iopub.status.idle": "2021-07-01T11:38:53.509138Z",
          "shell.execute_reply": "2021-07-01T11:38:53.507299Z"
        },
        "id": "cEcFr2llcl-l"
      },
      "source": [
        "# @title Video 5: Summary\n",
        "from ipywidgets import widgets\n",
        "\n",
        "out2 = widgets.Output()\n",
        "with out2:\n",
        "  from IPython.display import IFrame\n",
        "  class BiliVideo(IFrame):\n",
        "      def __init__(self, id, page=1, width=400, height=300, **kwargs):\n",
        "          self.id=id\n",
        "          src = 'https://player.bilibili.com/player.html?bvid={0}&page={1}'.format(id, page)\n",
        "          super(BiliVideo, self).__init__(src, width, height, **kwargs)\n",
        "\n",
        "  video = BiliVideo(id=\"BV1wM4y1g78M\", width=854, height=480, fs=1)\n",
        "  print('Video available at https://www.bilibili.com/video/{0}'.format(video.id))\n",
        "  display(video)\n",
        "\n",
        "out1 = widgets.Output()\n",
        "with out1:\n",
        "  from IPython.display import YouTubeVideo\n",
        "  video = YouTubeVideo(id=\"5UmGgboSc40\", width=854, height=480, fs=1, rel=0)\n",
        "  print('Video available at https://youtube.com/watch?v=' + video.id)\n",
        "  display(video)\n",
        "\n",
        "out = widgets.Tab([out1, out2])\n",
        "out.set_title(0, 'Youtube')\n",
        "out.set_title(1, 'Bilibili')\n",
        "\n",
        "display(out)"
      ],
      "id": "cEcFr2llcl-l",
      "execution_count": null,
      "outputs": []
    },
    {
      "cell_type": "markdown",
      "metadata": {
        "id": "-JZJWqTnitQx"
      },
      "source": [
        "Using pretty much the formula for the slope of a line, the solution of differential equation can be estimated with reasonable accuracy. \n",
        "This will be much more relevant when dealing with more complicated (non-linear) differential equations where there is no known exact solution."
      ],
      "id": "-JZJWqTnitQx"
    },
    {
      "cell_type": "markdown",
      "metadata": {
        "id": "a038940e"
      },
      "source": [
        "---\n",
        "# Links to Neuromatch Days\n",
        "\n",
        "The Euler method is used to estimate differential equations in a number of different Neuromatch days:\n",
        "* The LIF model is discussed in more details in Model Types (Week 1 Day 1) and  Biological Neuron Models (Week 2 Day 3).\n",
        "* Drift Diffusion model which is a differential equation for decision making is discussed in Linear Systems (Week 2 Day 2).\n",
        "* Phase-plane plots are discussed in Linear Systems (Week 2 Day 2) and Dynamic Networks (Week 2 Day 4).\n",
        "* The Wilson-Cowan model is discussed in Dynamic Networks (Week 2 Day 4).\n",
        "\n",
        "\n"
      ],
      "id": "a038940e"
    },
    {
      "cell_type": "markdown",
      "metadata": {
        "id": "a307a8fa"
      },
      "source": [
        "---\n",
        "# References \n",
        "1. Lotka, A. L, (1920)   Analytical note on certain rhythmic  relations inorganic  systems.Proceedings of the National Academy of Sciences,6(7):410–415,1920.\n",
        "\n",
        "2. Brunel N, van Rossum MC. Lapicque's 1907 paper: from frogs to integrate-and-fire. Biol Cybern. 2007 Dec;97(5-6):337-9. doi: 10.1007/s00422-007-0190-0. Epub 2007 Oct 30. PMID: 17968583.\n",
        "\n",
        "\n",
        "\n",
        "# Bibliography\n",
        "1. Dayan, P., & Abbott, L. F. (2001). Theoretical neuroscience: computational and mathematical modeling of neural systems. Computational Neuroscience Series.\n",
        "2. Strogatz, S. Nonlinear dynamics and chaos: with applications to physics, biology, chemistry, and engineering (studies in nonlinearity), Westview Press; 2 edition (29 July 2014)\n",
        "\n",
        "## Supplemental Popular Reading List\n",
        "1. Lindsay, G. (2021). Models of the Mind: How Physics, Engineering and Mathematics Have Shaped Our Understanding of the Brain. Bloomsbury Publishing.\n",
        "2. Strogatz, S. (2004). Sync: The emerging science of spontaneous order. Penguin UK.\n",
        "\n",
        "## Popular Podcast\n",
        "1. Strogatz, S. (Host). (2020-), Joy of X  https://www.quantamagazine.org/tag/the-joy-of-x/ Quanta Magazine"
      ],
      "id": "a307a8fa"
    },
    {
      "cell_type": "markdown",
      "metadata": {
        "id": "_bnKhPLwobY9"
      },
      "source": [
        "---\n",
        "# Bonus"
      ],
      "id": "_bnKhPLwobY9"
    },
    {
      "cell_type": "markdown",
      "metadata": {
        "id": "3c9b3f6e"
      },
      "source": [
        "---\n",
        "## Bonus Section 1: The 4th Order Runge Kutta\n",
        "Another popular numerical method to estimate the solution of differential equations of the general form: \n",
        "$$ \\frac{d}{dt}y=f(t,y)$$\n",
        "is the 4th Order Runge Kutta: \n",
        "$$k_1=f(t_k,y_k),$$\n",
        "$$k_2=f(t_k+\\frac{\\Delta t}{2},y_k+\\frac{\\Delta t}{2}k_1),$$\n",
        "$$k_3=f(t_k+\\frac{\\Delta t}{2},y_k+\\frac{\\Delta t}{2}k_2),$$\n",
        "$$k_4=f(t_k+\\Delta t,y_k+\\Delta tk_3),$$\n",
        "$$y_{k+1}=y_{k}+\\frac{\\Delta t}{6}(k_1+2k_2+2k_3+k_4),$$\n",
        "for $k=0,1,\\cdots,n-1$,\n",
        "which is more accurate than the Euler method.\n",
        "\n",
        "Given the population differential equation\n",
        "\\begin{align*}\n",
        "\\\\\n",
        "\\frac{d}{dt}\\,p(t) &= 0.3 p(t),\\\\\n",
        "p(t_0=1)&=e^{0.3}\\quad \\text{Initial Condition},\n",
        "\\end{align*}\n",
        "the 4th Runge Kutta difference equation is\n",
        "\\begin{align*}\n",
        "k_1&=0.3\\color{green}{p[k]},\\\\\n",
        "k_2&=0.3(\\color{green}{p[k]}+\\frac{\\Delta t}{2}k_1),\\\\\n",
        "k_3&=0.3(\\color{green}{p[k]}+\\frac{\\Delta t}{2}k_2),\\\\\n",
        "k_4&=0.3(\\color{green}{p[k]}+k_3),\\\\\n",
        "\\color{red}{p_{k[k]}}&=\\color{green}{p[k]}+\\frac{\\color{blue}{\\Delta t}}{6}( \\color{green}{k_1+2k_2+2k_3+k_4})\\\\\n",
        "&\\text{for } k=0,1,\\cdots 4\n",
        "\\end{align*}\n",
        "to estimate the population for $\\Delta t=0.5$.\n",
        "\n",
        "The code is implemented below. Note how much more accurate the 4th Order Runge Kutta (yellow) is compared to the Euler Method (blue). The 4th order Runge Kutta is of order 4 which means that if you half the time-step $\\Delta t$ the error decreases by a factor of $\\Delta t^4$.\n"
      ],
      "id": "3c9b3f6e"
    },
    {
      "cell_type": "code",
      "metadata": {
        "cellView": "form",
        "execution": {
          "iopub.execute_input": "2021-07-01T11:38:53.516248Z",
          "iopub.status.busy": "2021-07-01T11:38:53.515744Z",
          "iopub.status.idle": "2021-07-01T11:38:53.898628Z",
          "shell.execute_reply": "2021-07-01T11:38:53.898152Z"
        },
        "id": "7b936428"
      },
      "source": [
        "# @markdown *Execute this cell to show the difference between the Runge Kutta Method and the Euler Method*\n",
        "\n",
        "\n",
        "def RK4(dt=0.5):\n",
        "  t=np.arange(1, 5+dt/2, dt)\n",
        "  t_fine=np.arange(1, 5+0.1/2, 0.1)\n",
        "  n = len(t)\n",
        "  p = np.ones(n)\n",
        "  pRK4 = np.ones(n)\n",
        "  p[0] = np.exp(0.3*t[0])\n",
        "  pRK4[0] = np.exp(0.3*t[0])# Initial Condition\n",
        "\n",
        "  with plt.xkcd():\n",
        "\n",
        "    fig = plt.figure(figsize=(6, 4))\n",
        "    plt.plot(t, np.exp(0.3*t), 'k', label='Exact Solution')\n",
        "\n",
        "    for i in range(n-1):\n",
        "      dp = dt*0.3*p[i]\n",
        "      p[i+1] = p[i] + dp # Euler\n",
        "      k1 = 0.3*(pRK4[i])\n",
        "      k2 = 0.3*(pRK4[i] + dt/2*k1)\n",
        "      k3 = 0.3*(pRK4[i] + dt/2*k2)\n",
        "      k4 = 0.3*(pRK4[i] + dt*k3)\n",
        "      pRK4[i+1] = pRK4[i] + dt/6 *(k1 + 2*k2 + 2*k3 + k4)\n",
        "\n",
        "    plt.plot(t_fine, np.exp(0.3*t_fine), label='Exact')\n",
        "    plt.plot(t, p,':ro', label='Euler Estimate')\n",
        "    plt.plot(t, pRK4,':co',  label='4th Order Runge Kutta Estimate')\n",
        "\n",
        "    plt.ylabel('Population (millions)')\n",
        "    plt.legend()\n",
        "    plt.xlabel('Time (years)')\n",
        "    plt.show()\n",
        "\n",
        "# @markdown Make sure you execute this cell to enable the widget!\n",
        "my_layout.width = '450px'\n",
        "@widgets.interact(\n",
        "    dt=widgets.FloatSlider(0.5, min=.1, max=4., step=.1,\n",
        "                                layout=my_layout)\n",
        ")\n",
        "def Pop_widget(dt):\n",
        "    RK4(dt)"
      ],
      "id": "7b936428",
      "execution_count": null,
      "outputs": []
    },
    {
      "cell_type": "markdown",
      "metadata": {
        "id": "W7ziQulJL6Kl"
      },
      "source": [
        "**Bonus Reference 1: A full course on numerical methods in Python**\n",
        "\n",
        "For a full course on Numerical Methods for differential Equations you can look here https://github.com/john-s-butler-dit/Numerical-Analysis-Python"
      ],
      "id": "W7ziQulJL6Kl"
    },
    {
      "cell_type": "markdown",
      "metadata": {
        "id": "jXpJytN7dgYn"
      },
      "source": [
        "---\n",
        "## Bonus  Section 2: Neural oscillations are a start toward understanding brain activity rather than the end\n",
        "\n",
        "The differential equations we have discussed above are all to simulate neuronal processes, another way differential equations can be used is to motivate experimental findings.\n",
        "\n",
        "A great deal of experimental and neurophysiological studies have investigated whether the brain oscillates and/or entrain to a stimulus.\n",
        "An issue with these studies is that there is not a consistent  definition of what constitutes an oscillation. Right now it is a bit of I know one when I see one problem.\n",
        "\n",
        "\n",
        "In an essay from May 2021 in PLOS Biology by Keith Dowling (a past Neuromatch TA) and M. Florencia Assaneo discussed a mathematical way of thinking about what should be expected experimentally  when studying  oscillations. In the essay they propose that instead of thinking about the brain we should look at this question from the mathematical side, to motivate what can be defined as an oscillation. \n",
        "\n",
        "To do this they used Stuart–Landau equations, which is a system of differential equations\n",
        "\\begin{align}\n",
        " \\frac{dx}{dt} &=\\lambda x-\\omega y -\\gamma (x^2+y^2)x+s\\\\\n",
        " \\frac{dy}{dt} &=\\lambda y+\\omega x -\\gamma (x^2+y^2)y \n",
        "\\end{align}\n",
        "\n",
        "where $s$ is input to the system, and $\\lambda$, $\\omega$ and $\\gamma$ are parameters.\n",
        "\n",
        "The Stuart–Landau equations are a well described system of non-linear differential equations that generate oscillations. For their purpose,  Dowling and  Assaneo used the equations to motivate what experimenters should expect when conducting experiments looking for oscillations. \n",
        "In their paper, using the Stuart–Landau equations, they outline \n",
        "* \"What is an oscillator?\"\n",
        "* \"What an oscillator is not\"\n",
        "* \"Not all that oscillates is an oscillator\"\n",
        "* \"Not all oscillators are alike.\"\n",
        "\n",
        "The Euler form of the Stuart–Landau system of equations is:\n",
        "\\begin{align*}\n",
        "\\color{red}{x_{k+1}}&=\\color{green}{x_k}+\\color{blue}{\\Delta t}\\big(\\lambda \\color{green}{x_k}-\\omega \\color{green}{y_k} -\\gamma (\\color{green}{x_k}^2+\\color{green}{y_k}^2)\\color{green}{x_k}+s\\big),\\\\\n",
        "\\color{red}{y_{k+1}}&=\\color{green}{y_k}+\\color{blue}{\\Delta t}\\big(\\lambda \\color{green}{y_k}+\\omega \\color{green}{x_k} -\\gamma (\\color{green}{x_k}^2+\\color{green}{y_k}^2)\\color{green}{y_k} \\big),\\\\\n",
        "&\\text{ for } k=0, \\cdots n-1,\\\\\n",
        "x_0&=1,\\\\\n",
        "y_0&=1,\\\\\n",
        "\\end{align*}\n",
        "with $ \\Delta t=0.1/1000$ ms.\n"
      ],
      "id": "jXpJytN7dgYn"
    },
    {
      "cell_type": "code",
      "metadata": {
        "cellView": "form",
        "execution": {
          "iopub.execute_input": "2021-07-01T11:38:53.910508Z",
          "iopub.status.busy": "2021-07-01T11:38:53.909298Z",
          "iopub.status.idle": "2021-07-01T11:38:53.911069Z",
          "shell.execute_reply": "2021-07-01T11:38:53.911481Z"
        },
        "id": "5b9e30cc"
      },
      "source": [
        "# @title Helper functions\n",
        "def plot_Stuart_Landa(t, x, y, s):\n",
        "  \"\"\"\n",
        "    Args:\n",
        "      t  : time\n",
        "      x  : x\n",
        "      y  : y\n",
        "      s : input\n",
        "    Returns:\n",
        "      figure with two panels\n",
        "      top panel: Input as a function of time\n",
        "      bottom panel: x\n",
        "  \"\"\"\n",
        "\n",
        "  with plt.xkcd():\n",
        "    fig = plt.figure(figsize=(14, 4))\n",
        "    gs = gridspec.GridSpec(2, 2,  height_ratios=[1, 4], width_ratios=[4, 1])\n",
        "\n",
        "    # PLOT OF INPUT\n",
        "    plt.subplot(gs[0])\n",
        "    plt.ylabel(r'$s$')\n",
        "    plt.plot(t, s, 'g')\n",
        "    #plt.ylim((2,4))\n",
        "\n",
        "    # PLOT OF ACTIVITY\n",
        "    plt.subplot(gs[2])\n",
        "    plt.plot(t ,x)\n",
        "    plt.ylabel(r'x')\n",
        "    plt.xlabel(r't')\n",
        "    plt.subplot(gs[3])\n",
        "    plt.plot(x,y)\n",
        "    plt.plot(x[0], y[0],'go')\n",
        "    plt.xlabel(r'x')\n",
        "    plt.ylabel(r'y')\n",
        "    plt.show()\n",
        "\n",
        "\n",
        "def Euler_Stuart_Landau(s,time,dt,lamba=0.1,gamma=1,k=25):\n",
        "  \"\"\"\n",
        "  Args:\n",
        "    I: Input\n",
        "    time: time\n",
        "    dt: time-step\n",
        "  \"\"\"\n",
        "\n",
        "  n = len(time)\n",
        "  omega = 4 * 2*np.pi\n",
        "  x = np.zeros(n)\n",
        "  y = np.zeros(n)\n",
        "  x[0] = 1\n",
        "  y[0] = 1\n",
        "\n",
        "  for i in range(n-1):\n",
        "    dx = lamba*x[i] - omega*y[i] - gamma*(x[i]*x[i] + y[i]*y[i])*x[i] + k*s[i]\n",
        "    x[i+1] = x[i] + dt*dx\n",
        "    dy = lamba*y[i] + omega*x[i] - gamma*(x[i]*x[i] + y[i]*y[i])*y[i]\n",
        "    y[i+1] = y[i] + dt*dy\n",
        "\n",
        "  return x, y"
      ],
      "id": "5b9e30cc",
      "execution_count": null,
      "outputs": []
    },
    {
      "cell_type": "markdown",
      "metadata": {
        "id": "H5inj2EKJyqN"
      },
      "source": [
        "### Bonus 2.1: What is an Oscillator?\n",
        "Doelling & Assaneo (2021), using the Stuart–Landau system, show different possible states of an oscillator by manipulating the $\\lambda$ term in the equation. \n",
        "From the paper: \"this qualitative change in behavior takes place at λ = 0: For λ < 0, the system decays to a stable equilibrium, while for λ > 0, it keeps oscillating.\"\n",
        "\n",
        "This illustrates an oscillations does not have to maintain all the time, so experimentally we should not expect perfectly maintained oscillations. We see this all the time in $\\alpha$ band oscillations in EEG the oscillations come and go."
      ],
      "id": "H5inj2EKJyqN"
    },
    {
      "cell_type": "markdown",
      "metadata": {
        "id": "5MyIOK9w_qjd"
      },
      "source": [
        "#### Interactive Demo Bonus 2.1 \n",
        "The plot below shows the estimated solution of the Stuart–Landau system with a base frequency $\\omega$ set to $4\\times 2\\pi$, $\\gamma=1$ and $k=25$ over 3 seconds. The input to the system $s(t)$ is plotted in the top panel, $x$ as a function of time in the the bottom panel and on the right the phase plane plot of $x$ and $y$. You can manipulate $\\lambda$ to see how the oscillations change."
      ],
      "id": "5MyIOK9w_qjd"
    },
    {
      "cell_type": "code",
      "metadata": {
        "cellView": "form",
        "execution": {
          "iopub.execute_input": "2021-07-01T11:38:53.931087Z",
          "iopub.status.busy": "2021-07-01T11:38:53.929865Z",
          "iopub.status.idle": "2021-07-01T11:38:54.598442Z",
          "shell.execute_reply": "2021-07-01T11:38:54.597952Z"
        },
        "id": "LAnBGRU5crfG"
      },
      "source": [
        "# @markdown Make sure you execute this cell to enable the widget!\n",
        "dt=0.1/1000\n",
        "t=np.arange(0, 3, dt)\n",
        "\n",
        "my_layout.width = '450px'\n",
        "@widgets.interact(\n",
        "    lamda=widgets.FloatSlider(1, min=-1., max=5., step=0.5,\n",
        "                                layout=my_layout)\n",
        ")\n",
        "\n",
        "def Pop_widget(lamda):\n",
        "    s=np.zeros(len(t))\n",
        "    x,y=Euler_Stuart_Landau(s,t,dt,lamda)\n",
        "    plot_Stuart_Landa(t, x, y, s)\n",
        "    plt.show()"
      ],
      "id": "LAnBGRU5crfG",
      "execution_count": null,
      "outputs": []
    },
    {
      "cell_type": "markdown",
      "metadata": {
        "id": "q2OMPLOoKGtr"
      },
      "source": [
        "### Bonus 2.2 : Not all oscillators are alike"
      ],
      "id": "q2OMPLOoKGtr"
    },
    {
      "cell_type": "markdown",
      "metadata": {
        "id": "NLOVdwN5_ypj"
      },
      "source": [
        "#### Interactive Demo Bonus 2: Stuart-Landau System \n",
        "The plot below shows estimated solution of the Stuart–Landau system with a base frequency of 4Hz by stetting $\\omega$ to $4\\times 2\\pi$, $\\lambda=1$, $\\gamma=1$ and $k=50$ over 3 seconds the input to the system $s(t)=\\sin(freq 2\\pi t) $ in the top panel, $x$ as a function of time in the the bottom panel and on the right the phase plane plot of $x$ and $y$. \n",
        "\n",
        "You can manipulate the frequency $freq$ of the input to see how the oscillations change and for frequencies $freq$ further and further from the base frequency of 4Hz the oscillations breaks down.\n",
        "\n",
        "This shoes that if you have an oscillating input into an oscillator with it does not have to respond by oscillating about could even breakdown. Hence the frequency of the input oscillation is important to the system. \n",
        "So if you flash something at 50Hz, for example, the visual system might not follow the signal but that does not mean the visual system is not an oscillator it might just be the wrong frequency.   "
      ],
      "id": "NLOVdwN5_ypj"
    },
    {
      "cell_type": "code",
      "metadata": {
        "cellView": "form",
        "execution": {
          "iopub.execute_input": "2021-07-01T11:38:54.622976Z",
          "iopub.status.busy": "2021-07-01T11:38:54.621503Z",
          "iopub.status.idle": "2021-07-01T11:38:55.263064Z",
          "shell.execute_reply": "2021-07-01T11:38:55.262246Z"
        },
        "id": "XPuVG5f4clxt"
      },
      "source": [
        "# @markdown Make sure you execute this cell to enable the widget!\n",
        "dt=0.1/1000\n",
        "t=np.arange(0, 3, dt)\n",
        "\n",
        "my_layout.width = '450px'\n",
        "@widgets.interact(\n",
        "    freq=widgets.FloatSlider(4, min=0.5, max=10., step=0.5,\n",
        "                                layout=my_layout)\n",
        ")\n",
        "\n",
        "def Pop_widget(freq):\n",
        "    s = np.sin(freq * 2*np.pi * t)\n",
        "\n",
        "    x, y = Euler_Stuart_Landau(s, t, dt, lamba=1, gamma=.1, k=50)\n",
        "    plot_Stuart_Landa(t, x, y, s)"
      ],
      "id": "XPuVG5f4clxt",
      "execution_count": null,
      "outputs": []
    },
    {
      "cell_type": "markdown",
      "metadata": {
        "id": "1cWYP3SNL1Mh"
      },
      "source": [
        "**Bonus Reference 2**\n",
        "\n",
        "[Doelling, K. B., & Assaneo, M. F. (2021). Neural oscillations are a start toward understanding brain activity rather than the end. PLoS biology, 19(5), e3001234.](https://journals.plos.org/plosbiology/article?id=10.1371/journal.pbio.3001234)\n"
      ],
      "id": "1cWYP3SNL1Mh"
    }
  ]
}