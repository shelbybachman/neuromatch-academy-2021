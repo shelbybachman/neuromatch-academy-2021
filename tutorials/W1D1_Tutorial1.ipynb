{
  "nbformat": 4,
  "nbformat_minor": 0,
  "metadata": {
    "colab": {
      "name": "W1D1_Tutorial1",
      "provenance": [],
      "collapsed_sections": [],
      "include_colab_link": true
    },
    "kernel": {
      "display_name": "Python 3",
      "language": "python",
      "name": "python3"
    },
    "kernelspec": {
      "display_name": "Python 3",
      "name": "python3"
    },
    "language_info": {
      "codemirror_mode": {
        "name": "ipython",
        "version": 3
      },
      "file_extension": ".py",
      "mimetype": "text/x-python",
      "name": "python",
      "nbconvert_exporter": "python",
      "pygments_lexer": "ipython3",
      "version": "3.7.10"
    },
    "widgets": {
      "application/vnd.jupyter.widget-state+json": {
        "654aa57f9621400eb5ed3eeb33f92eb3": {
          "model_module": "@jupyter-widgets/controls",
          "model_name": "TabModel",
          "state": {
            "_view_name": "TabView",
            "_dom_classes": [],
            "_titles": {
              "0": "Youtube",
              "1": "Bilibili"
            },
            "_model_name": "TabModel",
            "_view_module": "@jupyter-widgets/controls",
            "selected_index": 0,
            "_model_module_version": "1.5.0",
            "_view_count": null,
            "_view_module_version": "1.5.0",
            "box_style": "",
            "layout": "IPY_MODEL_d9840a227c4648fa8da50f82b7243d3d",
            "_model_module": "@jupyter-widgets/controls",
            "children": [
              "IPY_MODEL_06bb2d0e4d1f4433b696e67e42edc1b3",
              "IPY_MODEL_56b98ae6fc104b5bbf80fe26ae4af6a9"
            ]
          }
        },
        "d9840a227c4648fa8da50f82b7243d3d": {
          "model_module": "@jupyter-widgets/base",
          "model_name": "LayoutModel",
          "state": {
            "_view_name": "LayoutView",
            "grid_template_rows": null,
            "right": null,
            "justify_content": null,
            "_view_module": "@jupyter-widgets/base",
            "overflow": null,
            "_model_module_version": "1.2.0",
            "_view_count": null,
            "flex_flow": null,
            "width": null,
            "min_width": null,
            "border": null,
            "align_items": null,
            "bottom": null,
            "_model_module": "@jupyter-widgets/base",
            "top": null,
            "grid_column": null,
            "overflow_y": null,
            "overflow_x": null,
            "grid_auto_flow": null,
            "grid_area": null,
            "grid_template_columns": null,
            "flex": null,
            "_model_name": "LayoutModel",
            "justify_items": null,
            "grid_row": null,
            "max_height": null,
            "align_content": null,
            "visibility": null,
            "align_self": null,
            "height": null,
            "min_height": null,
            "padding": null,
            "grid_auto_rows": null,
            "grid_gap": null,
            "max_width": null,
            "order": null,
            "_view_module_version": "1.2.0",
            "grid_template_areas": null,
            "object_position": null,
            "object_fit": null,
            "grid_auto_columns": null,
            "margin": null,
            "display": null,
            "left": null
          }
        },
        "06bb2d0e4d1f4433b696e67e42edc1b3": {
          "model_module": "@jupyter-widgets/output",
          "model_name": "OutputModel",
          "state": {
            "_view_name": "OutputView",
            "msg_id": "",
            "_dom_classes": [],
            "_model_name": "OutputModel",
            "outputs": [
              {
                "output_type": "stream",
                "metadata": {
                  "tags": []
                },
                "text": "Video available at https://youtube.com/watch?v=KgqR_jbjMQg\n",
                "stream": "stdout"
              },
              {
                "output_type": "display_data",
                "metadata": {
                  "tags": []
                },
                "text/html": "\n        <iframe\n            width=\"854\"\n            height=\"480\"\n            src=\"https://www.youtube.com/embed/KgqR_jbjMQg?fs=1&rel=0\"\n            frameborder=\"0\"\n            allowfullscreen\n        ></iframe>\n        ",
                "text/plain": "<IPython.lib.display.YouTubeVideo at 0x7fc27fc4c510>",
                "image/jpeg": "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\n"
              }
            ],
            "_view_module": "@jupyter-widgets/output",
            "_model_module_version": "1.0.0",
            "_view_count": null,
            "_view_module_version": "1.0.0",
            "layout": "IPY_MODEL_03c06080cdb34c8eb1ca8d1814171489",
            "_model_module": "@jupyter-widgets/output"
          }
        },
        "56b98ae6fc104b5bbf80fe26ae4af6a9": {
          "model_module": "@jupyter-widgets/output",
          "model_name": "OutputModel",
          "state": {
            "_view_name": "OutputView",
            "msg_id": "",
            "_dom_classes": [],
            "_model_name": "OutputModel",
            "outputs": [
              {
                "output_type": "stream",
                "metadata": {
                  "tags": []
                },
                "text": "Video available at https://www.bilibili.com/video/BV1mz4y1X7ot\n",
                "stream": "stdout"
              },
              {
                "output_type": "display_data",
                "metadata": {
                  "tags": []
                },
                "text/html": "\n        <iframe\n            width=\"854\"\n            height=\"480\"\n            src=\"https://player.bilibili.com/player.html?bvid=BV1mz4y1X7ot&page=1?fs=1\"\n            frameborder=\"0\"\n            allowfullscreen\n        ></iframe>\n        ",
                "text/plain": "<__main__.BiliVideo at 0x7fc2719808d0>"
              }
            ],
            "_view_module": "@jupyter-widgets/output",
            "_model_module_version": "1.0.0",
            "_view_count": null,
            "_view_module_version": "1.0.0",
            "layout": "IPY_MODEL_ff000686b90c4c4b9228063d0f5bc661",
            "_model_module": "@jupyter-widgets/output"
          }
        },
        "03c06080cdb34c8eb1ca8d1814171489": {
          "model_module": "@jupyter-widgets/base",
          "model_name": "LayoutModel",
          "state": {
            "_view_name": "LayoutView",
            "grid_template_rows": null,
            "right": null,
            "justify_content": null,
            "_view_module": "@jupyter-widgets/base",
            "overflow": null,
            "_model_module_version": "1.2.0",
            "_view_count": null,
            "flex_flow": null,
            "width": null,
            "min_width": null,
            "border": null,
            "align_items": null,
            "bottom": null,
            "_model_module": "@jupyter-widgets/base",
            "top": null,
            "grid_column": null,
            "overflow_y": null,
            "overflow_x": null,
            "grid_auto_flow": null,
            "grid_area": null,
            "grid_template_columns": null,
            "flex": null,
            "_model_name": "LayoutModel",
            "justify_items": null,
            "grid_row": null,
            "max_height": null,
            "align_content": null,
            "visibility": null,
            "align_self": null,
            "height": null,
            "min_height": null,
            "padding": null,
            "grid_auto_rows": null,
            "grid_gap": null,
            "max_width": null,
            "order": null,
            "_view_module_version": "1.2.0",
            "grid_template_areas": null,
            "object_position": null,
            "object_fit": null,
            "grid_auto_columns": null,
            "margin": null,
            "display": null,
            "left": null
          }
        },
        "ff000686b90c4c4b9228063d0f5bc661": {
          "model_module": "@jupyter-widgets/base",
          "model_name": "LayoutModel",
          "state": {
            "_view_name": "LayoutView",
            "grid_template_rows": null,
            "right": null,
            "justify_content": null,
            "_view_module": "@jupyter-widgets/base",
            "overflow": null,
            "_model_module_version": "1.2.0",
            "_view_count": null,
            "flex_flow": null,
            "width": null,
            "min_width": null,
            "border": null,
            "align_items": null,
            "bottom": null,
            "_model_module": "@jupyter-widgets/base",
            "top": null,
            "grid_column": null,
            "overflow_y": null,
            "overflow_x": null,
            "grid_auto_flow": null,
            "grid_area": null,
            "grid_template_columns": null,
            "flex": null,
            "_model_name": "LayoutModel",
            "justify_items": null,
            "grid_row": null,
            "max_height": null,
            "align_content": null,
            "visibility": null,
            "align_self": null,
            "height": null,
            "min_height": null,
            "padding": null,
            "grid_auto_rows": null,
            "grid_gap": null,
            "max_width": null,
            "order": null,
            "_view_module_version": "1.2.0",
            "grid_template_areas": null,
            "object_position": null,
            "object_fit": null,
            "grid_auto_columns": null,
            "margin": null,
            "display": null,
            "left": null
          }
        },
        "a59427e520f64cf28b70082dfe735ecf": {
          "model_module": "@jupyter-widgets/controls",
          "model_name": "TabModel",
          "state": {
            "_view_name": "TabView",
            "_dom_classes": [],
            "_titles": {
              "0": "Youtube",
              "1": "Bilibili"
            },
            "_model_name": "TabModel",
            "_view_module": "@jupyter-widgets/controls",
            "selected_index": 0,
            "_model_module_version": "1.5.0",
            "_view_count": null,
            "_view_module_version": "1.5.0",
            "box_style": "",
            "layout": "IPY_MODEL_b256439b59164d1f8389d54590d53c44",
            "_model_module": "@jupyter-widgets/controls",
            "children": [
              "IPY_MODEL_b8217382eff04a3a80cf7768af70865f",
              "IPY_MODEL_e0ef746ebe764fde9bf2f7dfac5cd72e"
            ]
          }
        },
        "b256439b59164d1f8389d54590d53c44": {
          "model_module": "@jupyter-widgets/base",
          "model_name": "LayoutModel",
          "state": {
            "_view_name": "LayoutView",
            "grid_template_rows": null,
            "right": null,
            "justify_content": null,
            "_view_module": "@jupyter-widgets/base",
            "overflow": null,
            "_model_module_version": "1.2.0",
            "_view_count": null,
            "flex_flow": null,
            "width": null,
            "min_width": null,
            "border": null,
            "align_items": null,
            "bottom": null,
            "_model_module": "@jupyter-widgets/base",
            "top": null,
            "grid_column": null,
            "overflow_y": null,
            "overflow_x": null,
            "grid_auto_flow": null,
            "grid_area": null,
            "grid_template_columns": null,
            "flex": null,
            "_model_name": "LayoutModel",
            "justify_items": null,
            "grid_row": null,
            "max_height": null,
            "align_content": null,
            "visibility": null,
            "align_self": null,
            "height": null,
            "min_height": null,
            "padding": null,
            "grid_auto_rows": null,
            "grid_gap": null,
            "max_width": null,
            "order": null,
            "_view_module_version": "1.2.0",
            "grid_template_areas": null,
            "object_position": null,
            "object_fit": null,
            "grid_auto_columns": null,
            "margin": null,
            "display": null,
            "left": null
          }
        },
        "b8217382eff04a3a80cf7768af70865f": {
          "model_module": "@jupyter-widgets/output",
          "model_name": "OutputModel",
          "state": {
            "_view_name": "OutputView",
            "msg_id": "",
            "_dom_classes": [],
            "_model_name": "OutputModel",
            "outputs": [
              {
                "output_type": "stream",
                "metadata": {
                  "tags": []
                },
                "text": "Video available at https://youtube.com/watch?v=oHwYWUI_o1U\n",
                "stream": "stdout"
              },
              {
                "output_type": "display_data",
                "metadata": {
                  "tags": []
                },
                "text/html": "\n        <iframe\n            width=\"854\"\n            height=\"480\"\n            src=\"https://www.youtube.com/embed/oHwYWUI_o1U?fs=1&rel=0\"\n            frameborder=\"0\"\n            allowfullscreen\n        ></iframe>\n        ",
                "text/plain": "<IPython.lib.display.YouTubeVideo at 0x7fc27fc4c510>",
                "image/jpeg": "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\n"
              }
            ],
            "_view_module": "@jupyter-widgets/output",
            "_model_module_version": "1.0.0",
            "_view_count": null,
            "_view_module_version": "1.0.0",
            "layout": "IPY_MODEL_673f4f0081e14ec8bf2f1256dd92581d",
            "_model_module": "@jupyter-widgets/output"
          }
        },
        "e0ef746ebe764fde9bf2f7dfac5cd72e": {
          "model_module": "@jupyter-widgets/output",
          "model_name": "OutputModel",
          "state": {
            "_view_name": "OutputView",
            "msg_id": "",
            "_dom_classes": [],
            "_model_name": "OutputModel",
            "outputs": [
              {
                "output_type": "stream",
                "metadata": {
                  "tags": []
                },
                "text": "Video available at https://www.bilibili.com/video/BV1Hp4y1S7Au\n",
                "stream": "stdout"
              },
              {
                "output_type": "display_data",
                "metadata": {
                  "tags": []
                },
                "text/html": "\n        <iframe\n            width=\"854\"\n            height=\"480\"\n            src=\"https://player.bilibili.com/player.html?bvid=BV1Hp4y1S7Au&page=1?fs=1\"\n            frameborder=\"0\"\n            allowfullscreen\n        ></iframe>\n        ",
                "text/plain": "<__main__.BiliVideo at 0x7fc27197f410>"
              }
            ],
            "_view_module": "@jupyter-widgets/output",
            "_model_module_version": "1.0.0",
            "_view_count": null,
            "_view_module_version": "1.0.0",
            "layout": "IPY_MODEL_025730bda40c4eeba539102e6b27a58b",
            "_model_module": "@jupyter-widgets/output"
          }
        },
        "673f4f0081e14ec8bf2f1256dd92581d": {
          "model_module": "@jupyter-widgets/base",
          "model_name": "LayoutModel",
          "state": {
            "_view_name": "LayoutView",
            "grid_template_rows": null,
            "right": null,
            "justify_content": null,
            "_view_module": "@jupyter-widgets/base",
            "overflow": null,
            "_model_module_version": "1.2.0",
            "_view_count": null,
            "flex_flow": null,
            "width": null,
            "min_width": null,
            "border": null,
            "align_items": null,
            "bottom": null,
            "_model_module": "@jupyter-widgets/base",
            "top": null,
            "grid_column": null,
            "overflow_y": null,
            "overflow_x": null,
            "grid_auto_flow": null,
            "grid_area": null,
            "grid_template_columns": null,
            "flex": null,
            "_model_name": "LayoutModel",
            "justify_items": null,
            "grid_row": null,
            "max_height": null,
            "align_content": null,
            "visibility": null,
            "align_self": null,
            "height": null,
            "min_height": null,
            "padding": null,
            "grid_auto_rows": null,
            "grid_gap": null,
            "max_width": null,
            "order": null,
            "_view_module_version": "1.2.0",
            "grid_template_areas": null,
            "object_position": null,
            "object_fit": null,
            "grid_auto_columns": null,
            "margin": null,
            "display": null,
            "left": null
          }
        },
        "025730bda40c4eeba539102e6b27a58b": {
          "model_module": "@jupyter-widgets/base",
          "model_name": "LayoutModel",
          "state": {
            "_view_name": "LayoutView",
            "grid_template_rows": null,
            "right": null,
            "justify_content": null,
            "_view_module": "@jupyter-widgets/base",
            "overflow": null,
            "_model_module_version": "1.2.0",
            "_view_count": null,
            "flex_flow": null,
            "width": null,
            "min_width": null,
            "border": null,
            "align_items": null,
            "bottom": null,
            "_model_module": "@jupyter-widgets/base",
            "top": null,
            "grid_column": null,
            "overflow_y": null,
            "overflow_x": null,
            "grid_auto_flow": null,
            "grid_area": null,
            "grid_template_columns": null,
            "flex": null,
            "_model_name": "LayoutModel",
            "justify_items": null,
            "grid_row": null,
            "max_height": null,
            "align_content": null,
            "visibility": null,
            "align_self": null,
            "height": null,
            "min_height": null,
            "padding": null,
            "grid_auto_rows": null,
            "grid_gap": null,
            "max_width": null,
            "order": null,
            "_view_module_version": "1.2.0",
            "grid_template_areas": null,
            "object_position": null,
            "object_fit": null,
            "grid_auto_columns": null,
            "margin": null,
            "display": null,
            "left": null
          }
        },
        "4e0ebbc88d6940df832ebc6113526563": {
          "model_module": "@jupyter-widgets/controls",
          "model_name": "TabModel",
          "state": {
            "_view_name": "TabView",
            "_dom_classes": [],
            "_titles": {
              "0": "Youtube",
              "1": "Bilibili"
            },
            "_model_name": "TabModel",
            "_view_module": "@jupyter-widgets/controls",
            "selected_index": 0,
            "_model_module_version": "1.5.0",
            "_view_count": null,
            "_view_module_version": "1.5.0",
            "box_style": "",
            "layout": "IPY_MODEL_6430ddb5d5114de5a670f1a92c51e9de",
            "_model_module": "@jupyter-widgets/controls",
            "children": [
              "IPY_MODEL_06f64d98bbe9454cac4ac575ff9c149f",
              "IPY_MODEL_15a417086a3d4df9af27b1d1686bf865"
            ]
          }
        },
        "6430ddb5d5114de5a670f1a92c51e9de": {
          "model_module": "@jupyter-widgets/base",
          "model_name": "LayoutModel",
          "state": {
            "_view_name": "LayoutView",
            "grid_template_rows": null,
            "right": null,
            "justify_content": null,
            "_view_module": "@jupyter-widgets/base",
            "overflow": null,
            "_model_module_version": "1.2.0",
            "_view_count": null,
            "flex_flow": null,
            "width": null,
            "min_width": null,
            "border": null,
            "align_items": null,
            "bottom": null,
            "_model_module": "@jupyter-widgets/base",
            "top": null,
            "grid_column": null,
            "overflow_y": null,
            "overflow_x": null,
            "grid_auto_flow": null,
            "grid_area": null,
            "grid_template_columns": null,
            "flex": null,
            "_model_name": "LayoutModel",
            "justify_items": null,
            "grid_row": null,
            "max_height": null,
            "align_content": null,
            "visibility": null,
            "align_self": null,
            "height": null,
            "min_height": null,
            "padding": null,
            "grid_auto_rows": null,
            "grid_gap": null,
            "max_width": null,
            "order": null,
            "_view_module_version": "1.2.0",
            "grid_template_areas": null,
            "object_position": null,
            "object_fit": null,
            "grid_auto_columns": null,
            "margin": null,
            "display": null,
            "left": null
          }
        },
        "06f64d98bbe9454cac4ac575ff9c149f": {
          "model_module": "@jupyter-widgets/output",
          "model_name": "OutputModel",
          "state": {
            "_view_name": "OutputView",
            "msg_id": "",
            "_dom_classes": [],
            "_model_name": "OutputModel",
            "outputs": [
              {
                "output_type": "stream",
                "metadata": {
                  "tags": []
                },
                "text": "Video available at https://youtube.com/watch?v=QGA5FCW7kkA\n",
                "stream": "stdout"
              },
              {
                "output_type": "display_data",
                "metadata": {
                  "tags": []
                },
                "text/html": "\n        <iframe\n            width=\"854\"\n            height=\"480\"\n            src=\"https://www.youtube.com/embed/QGA5FCW7kkA?fs=1&rel=0\"\n            frameborder=\"0\"\n            allowfullscreen\n        ></iframe>\n        ",
                "text/plain": "<IPython.lib.display.YouTubeVideo at 0x7fc271739f90>",
                "image/jpeg": "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\n"
              }
            ],
            "_view_module": "@jupyter-widgets/output",
            "_model_module_version": "1.0.0",
            "_view_count": null,
            "_view_module_version": "1.0.0",
            "layout": "IPY_MODEL_e778047bbdf541cbac6f7ec4300e3be3",
            "_model_module": "@jupyter-widgets/output"
          }
        },
        "15a417086a3d4df9af27b1d1686bf865": {
          "model_module": "@jupyter-widgets/output",
          "model_name": "OutputModel",
          "state": {
            "_view_name": "OutputView",
            "msg_id": "",
            "_dom_classes": [],
            "_model_name": "OutputModel",
            "outputs": [
              {
                "output_type": "stream",
                "metadata": {
                  "tags": []
                },
                "text": "Video available at https://www.bilibili.com/video/BV1dt4y1Q7C5\n",
                "stream": "stdout"
              },
              {
                "output_type": "display_data",
                "metadata": {
                  "tags": []
                },
                "text/html": "\n        <iframe\n            width=\"854\"\n            height=\"480\"\n            src=\"https://player.bilibili.com/player.html?bvid=BV1dt4y1Q7C5&page=1?fs=1\"\n            frameborder=\"0\"\n            allowfullscreen\n        ></iframe>\n        ",
                "text/plain": "<__main__.BiliVideo at 0x7fc2713707d0>"
              }
            ],
            "_view_module": "@jupyter-widgets/output",
            "_model_module_version": "1.0.0",
            "_view_count": null,
            "_view_module_version": "1.0.0",
            "layout": "IPY_MODEL_71f1227ce8c243caad9a713a8e893dc9",
            "_model_module": "@jupyter-widgets/output"
          }
        },
        "e778047bbdf541cbac6f7ec4300e3be3": {
          "model_module": "@jupyter-widgets/base",
          "model_name": "LayoutModel",
          "state": {
            "_view_name": "LayoutView",
            "grid_template_rows": null,
            "right": null,
            "justify_content": null,
            "_view_module": "@jupyter-widgets/base",
            "overflow": null,
            "_model_module_version": "1.2.0",
            "_view_count": null,
            "flex_flow": null,
            "width": null,
            "min_width": null,
            "border": null,
            "align_items": null,
            "bottom": null,
            "_model_module": "@jupyter-widgets/base",
            "top": null,
            "grid_column": null,
            "overflow_y": null,
            "overflow_x": null,
            "grid_auto_flow": null,
            "grid_area": null,
            "grid_template_columns": null,
            "flex": null,
            "_model_name": "LayoutModel",
            "justify_items": null,
            "grid_row": null,
            "max_height": null,
            "align_content": null,
            "visibility": null,
            "align_self": null,
            "height": null,
            "min_height": null,
            "padding": null,
            "grid_auto_rows": null,
            "grid_gap": null,
            "max_width": null,
            "order": null,
            "_view_module_version": "1.2.0",
            "grid_template_areas": null,
            "object_position": null,
            "object_fit": null,
            "grid_auto_columns": null,
            "margin": null,
            "display": null,
            "left": null
          }
        },
        "71f1227ce8c243caad9a713a8e893dc9": {
          "model_module": "@jupyter-widgets/base",
          "model_name": "LayoutModel",
          "state": {
            "_view_name": "LayoutView",
            "grid_template_rows": null,
            "right": null,
            "justify_content": null,
            "_view_module": "@jupyter-widgets/base",
            "overflow": null,
            "_model_module_version": "1.2.0",
            "_view_count": null,
            "flex_flow": null,
            "width": null,
            "min_width": null,
            "border": null,
            "align_items": null,
            "bottom": null,
            "_model_module": "@jupyter-widgets/base",
            "top": null,
            "grid_column": null,
            "overflow_y": null,
            "overflow_x": null,
            "grid_auto_flow": null,
            "grid_area": null,
            "grid_template_columns": null,
            "flex": null,
            "_model_name": "LayoutModel",
            "justify_items": null,
            "grid_row": null,
            "max_height": null,
            "align_content": null,
            "visibility": null,
            "align_self": null,
            "height": null,
            "min_height": null,
            "padding": null,
            "grid_auto_rows": null,
            "grid_gap": null,
            "max_width": null,
            "order": null,
            "_view_module_version": "1.2.0",
            "grid_template_areas": null,
            "object_position": null,
            "object_fit": null,
            "grid_auto_columns": null,
            "margin": null,
            "display": null,
            "left": null
          }
        },
        "e68886788b2f4199bd1ca98d0cad5cde": {
          "model_module": "@jupyter-widgets/controls",
          "model_name": "VBoxModel",
          "state": {
            "_view_name": "VBoxView",
            "_dom_classes": [
              "widget-interact"
            ],
            "_model_name": "VBoxModel",
            "_view_module": "@jupyter-widgets/controls",
            "_model_module_version": "1.5.0",
            "_view_count": null,
            "_view_module_version": "1.5.0",
            "box_style": "",
            "layout": "IPY_MODEL_c23aedf037f34c7e8a81de1ff93d6c34",
            "_model_module": "@jupyter-widgets/controls",
            "children": [
              "IPY_MODEL_946eed60890e4690b5e0f3f95df17d8b",
              "IPY_MODEL_3024882e4f92463b9cc3aaa4c2225a11",
              "IPY_MODEL_bbf0086e1a2b4e4b967aef4226234cfc",
              "IPY_MODEL_e36731ff35ef4235a40513f88e4a1ca1",
              "IPY_MODEL_005f7dc2e6be40b5830b2dc55fbe4c98",
              "IPY_MODEL_1f3d3a15c83244c9a41734e2d2f005d3",
              "IPY_MODEL_8c30746e11b54cbea32732cb9dd99a71",
              "IPY_MODEL_f5441fdb92ef43fa957b5cc78ccda96f"
            ]
          }
        },
        "c23aedf037f34c7e8a81de1ff93d6c34": {
          "model_module": "@jupyter-widgets/base",
          "model_name": "LayoutModel",
          "state": {
            "_view_name": "LayoutView",
            "grid_template_rows": null,
            "right": null,
            "justify_content": null,
            "_view_module": "@jupyter-widgets/base",
            "overflow": null,
            "_model_module_version": "1.2.0",
            "_view_count": null,
            "flex_flow": null,
            "width": null,
            "min_width": null,
            "border": null,
            "align_items": null,
            "bottom": null,
            "_model_module": "@jupyter-widgets/base",
            "top": null,
            "grid_column": null,
            "overflow_y": null,
            "overflow_x": null,
            "grid_auto_flow": null,
            "grid_area": null,
            "grid_template_columns": null,
            "flex": null,
            "_model_name": "LayoutModel",
            "justify_items": null,
            "grid_row": null,
            "max_height": null,
            "align_content": null,
            "visibility": null,
            "align_self": null,
            "height": null,
            "min_height": null,
            "padding": null,
            "grid_auto_rows": null,
            "grid_gap": null,
            "max_width": null,
            "order": null,
            "_view_module_version": "1.2.0",
            "grid_template_areas": null,
            "object_position": null,
            "object_fit": null,
            "grid_auto_columns": null,
            "margin": null,
            "display": null,
            "left": null
          }
        },
        "946eed60890e4690b5e0f3f95df17d8b": {
          "model_module": "@jupyter-widgets/controls",
          "model_name": "FloatSliderModel",
          "state": {
            "_view_name": "FloatSliderView",
            "style": "IPY_MODEL_209b93ffac1b4a2aafc9c4c81b971f72",
            "_dom_classes": [],
            "description": "exp_scale",
            "step": 250,
            "_model_name": "FloatSliderModel",
            "orientation": "horizontal",
            "max": 20000,
            "_view_module": "@jupyter-widgets/controls",
            "_model_module_version": "1.5.0",
            "value": 7250,
            "_view_count": null,
            "disabled": false,
            "_view_module_version": "1.5.0",
            "min": 0,
            "continuous_update": true,
            "readout_format": ".2f",
            "description_tooltip": null,
            "readout": true,
            "_model_module": "@jupyter-widgets/controls",
            "layout": "IPY_MODEL_e494deb7da944d388cfbe7f17d41eed0"
          }
        },
        "3024882e4f92463b9cc3aaa4c2225a11": {
          "model_module": "@jupyter-widgets/controls",
          "model_name": "FloatSliderModel",
          "state": {
            "_view_name": "FloatSliderView",
            "style": "IPY_MODEL_da08ea771266489c8bb0a58783e974f6",
            "_dom_classes": [],
            "description": "exp_rate",
            "step": 1,
            "_model_name": "FloatSliderModel",
            "orientation": "horizontal",
            "max": 50,
            "_view_module": "@jupyter-widgets/controls",
            "_model_module_version": "1.5.0",
            "value": -10,
            "_view_count": null,
            "disabled": false,
            "_view_module_version": "1.5.0",
            "min": -200,
            "continuous_update": true,
            "readout_format": ".2f",
            "description_tooltip": null,
            "readout": true,
            "_model_module": "@jupyter-widgets/controls",
            "layout": "IPY_MODEL_831fdbb5273b4594b2450f948610e84b"
          }
        },
        "bbf0086e1a2b4e4b967aef4226234cfc": {
          "model_module": "@jupyter-widgets/controls",
          "model_name": "FloatSliderModel",
          "state": {
            "_view_name": "FloatSliderView",
            "style": "IPY_MODEL_e451ee3780bb4ffdb87919f30dfefd35",
            "_dom_classes": [],
            "description": "exp_x0",
            "step": 0.005,
            "_model_name": "FloatSliderModel",
            "orientation": "horizontal",
            "max": 0.5,
            "_view_module": "@jupyter-widgets/controls",
            "_model_module_version": "1.5.0",
            "value": 0.1,
            "_view_count": null,
            "disabled": false,
            "_view_module_version": "1.5.0",
            "min": -0.5,
            "continuous_update": true,
            "readout_format": ".2f",
            "description_tooltip": null,
            "readout": true,
            "_model_module": "@jupyter-widgets/controls",
            "layout": "IPY_MODEL_6a40cec5f2804abda96584023c230c51"
          }
        },
        "e36731ff35ef4235a40513f88e4a1ca1": {
          "model_module": "@jupyter-widgets/controls",
          "model_name": "FloatSliderModel",
          "state": {
            "_view_name": "FloatSliderView",
            "style": "IPY_MODEL_67c92ba9bfa449fcac331325937c0746",
            "_dom_classes": [],
            "description": "inv_scale",
            "step": 10,
            "_model_name": "FloatSliderModel",
            "orientation": "horizontal",
            "max": 300,
            "_view_module": "@jupyter-widgets/controls",
            "_model_module_version": "1.5.0",
            "value": 300,
            "_view_count": null,
            "disabled": false,
            "_view_module_version": "1.5.0",
            "min": 0,
            "continuous_update": true,
            "readout_format": ".2f",
            "description_tooltip": null,
            "readout": true,
            "_model_module": "@jupyter-widgets/controls",
            "layout": "IPY_MODEL_92d22787d70b4f07b69b781bb04509bf"
          }
        },
        "005f7dc2e6be40b5830b2dc55fbe4c98": {
          "model_module": "@jupyter-widgets/controls",
          "model_name": "FloatSliderModel",
          "state": {
            "_view_name": "FloatSliderView",
            "style": "IPY_MODEL_099fbc4922d14fe29d78b1e4c6a6861b",
            "_dom_classes": [],
            "description": "inv_x0",
            "step": 0.01,
            "_model_name": "FloatSliderModel",
            "orientation": "horizontal",
            "max": 0.2,
            "_view_module": "@jupyter-widgets/controls",
            "_model_module_version": "1.5.0",
            "value": 0,
            "_view_count": null,
            "disabled": false,
            "_view_module_version": "1.5.0",
            "min": -0.2,
            "continuous_update": true,
            "readout_format": ".2f",
            "description_tooltip": null,
            "readout": true,
            "_model_module": "@jupyter-widgets/controls",
            "layout": "IPY_MODEL_04a14d9bbeda4ef3971142bad812896a"
          }
        },
        "1f3d3a15c83244c9a41734e2d2f005d3": {
          "model_module": "@jupyter-widgets/controls",
          "model_name": "FloatSliderModel",
          "state": {
            "_view_name": "FloatSliderView",
            "style": "IPY_MODEL_975df628d6ef40a290cb2a9d02af6ad6",
            "_dom_classes": [],
            "description": "lin_slope",
            "step": 10000,
            "_model_name": "FloatSliderModel",
            "orientation": "horizontal",
            "max": 100000,
            "_view_module": "@jupyter-widgets/controls",
            "_model_module_version": "1.5.0",
            "value": -100000,
            "_view_count": null,
            "disabled": false,
            "_view_module_version": "1.5.0",
            "min": -600000,
            "continuous_update": true,
            "readout_format": ".2f",
            "description_tooltip": null,
            "readout": true,
            "_model_module": "@jupyter-widgets/controls",
            "layout": "IPY_MODEL_0945f6edc8814549b08edb73b238d5bc"
          }
        },
        "8c30746e11b54cbea32732cb9dd99a71": {
          "model_module": "@jupyter-widgets/controls",
          "model_name": "FloatSliderModel",
          "state": {
            "_view_name": "FloatSliderView",
            "style": "IPY_MODEL_e168c7e9d2774c1e89604ae4f8129cb5",
            "_dom_classes": [],
            "description": "lin_y0",
            "step": 1000,
            "_model_name": "FloatSliderModel",
            "orientation": "horizontal",
            "max": 40000,
            "_view_module": "@jupyter-widgets/controls",
            "_model_module_version": "1.5.0",
            "value": 10000,
            "_view_count": null,
            "disabled": false,
            "_view_module_version": "1.5.0",
            "min": 0,
            "continuous_update": true,
            "readout_format": ".2f",
            "description_tooltip": null,
            "readout": true,
            "_model_module": "@jupyter-widgets/controls",
            "layout": "IPY_MODEL_892ede23bf104019a33785ef20e714d0"
          }
        },
        "f5441fdb92ef43fa957b5cc78ccda96f": {
          "model_module": "@jupyter-widgets/output",
          "model_name": "OutputModel",
          "state": {
            "_view_name": "OutputView",
            "msg_id": "",
            "_dom_classes": [],
            "_model_name": "OutputModel",
            "outputs": [
              {
                "output_type": "display_data",
                "metadata": {
                  "tags": [],
                  "image/png": {
                    "width": 558,
                    "height": 413
                  },
                  "needs_background": "light"
                },
                "image/png": "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\n",
                "text/plain": "<Figure size 576x432 with 1 Axes>"
              }
            ],
            "_view_module": "@jupyter-widgets/output",
            "_model_module_version": "1.0.0",
            "_view_count": null,
            "_view_module_version": "1.0.0",
            "layout": "IPY_MODEL_fe1d2a46850744648b5e93cab66ac2f4",
            "_model_module": "@jupyter-widgets/output"
          }
        },
        "209b93ffac1b4a2aafc9c4c81b971f72": {
          "model_module": "@jupyter-widgets/controls",
          "model_name": "SliderStyleModel",
          "state": {
            "_view_name": "StyleView",
            "handle_color": null,
            "_model_name": "SliderStyleModel",
            "description_width": "",
            "_view_module": "@jupyter-widgets/base",
            "_model_module_version": "1.5.0",
            "_view_count": null,
            "_view_module_version": "1.2.0",
            "_model_module": "@jupyter-widgets/controls"
          }
        },
        "e494deb7da944d388cfbe7f17d41eed0": {
          "model_module": "@jupyter-widgets/base",
          "model_name": "LayoutModel",
          "state": {
            "_view_name": "LayoutView",
            "grid_template_rows": null,
            "right": null,
            "justify_content": null,
            "_view_module": "@jupyter-widgets/base",
            "overflow": null,
            "_model_module_version": "1.2.0",
            "_view_count": null,
            "flex_flow": null,
            "width": null,
            "min_width": null,
            "border": null,
            "align_items": null,
            "bottom": null,
            "_model_module": "@jupyter-widgets/base",
            "top": null,
            "grid_column": null,
            "overflow_y": null,
            "overflow_x": null,
            "grid_auto_flow": null,
            "grid_area": null,
            "grid_template_columns": null,
            "flex": null,
            "_model_name": "LayoutModel",
            "justify_items": null,
            "grid_row": null,
            "max_height": null,
            "align_content": null,
            "visibility": null,
            "align_self": null,
            "height": null,
            "min_height": null,
            "padding": null,
            "grid_auto_rows": null,
            "grid_gap": null,
            "max_width": null,
            "order": null,
            "_view_module_version": "1.2.0",
            "grid_template_areas": null,
            "object_position": null,
            "object_fit": null,
            "grid_auto_columns": null,
            "margin": null,
            "display": null,
            "left": null
          }
        },
        "da08ea771266489c8bb0a58783e974f6": {
          "model_module": "@jupyter-widgets/controls",
          "model_name": "SliderStyleModel",
          "state": {
            "_view_name": "StyleView",
            "handle_color": null,
            "_model_name": "SliderStyleModel",
            "description_width": "",
            "_view_module": "@jupyter-widgets/base",
            "_model_module_version": "1.5.0",
            "_view_count": null,
            "_view_module_version": "1.2.0",
            "_model_module": "@jupyter-widgets/controls"
          }
        },
        "831fdbb5273b4594b2450f948610e84b": {
          "model_module": "@jupyter-widgets/base",
          "model_name": "LayoutModel",
          "state": {
            "_view_name": "LayoutView",
            "grid_template_rows": null,
            "right": null,
            "justify_content": null,
            "_view_module": "@jupyter-widgets/base",
            "overflow": null,
            "_model_module_version": "1.2.0",
            "_view_count": null,
            "flex_flow": null,
            "width": null,
            "min_width": null,
            "border": null,
            "align_items": null,
            "bottom": null,
            "_model_module": "@jupyter-widgets/base",
            "top": null,
            "grid_column": null,
            "overflow_y": null,
            "overflow_x": null,
            "grid_auto_flow": null,
            "grid_area": null,
            "grid_template_columns": null,
            "flex": null,
            "_model_name": "LayoutModel",
            "justify_items": null,
            "grid_row": null,
            "max_height": null,
            "align_content": null,
            "visibility": null,
            "align_self": null,
            "height": null,
            "min_height": null,
            "padding": null,
            "grid_auto_rows": null,
            "grid_gap": null,
            "max_width": null,
            "order": null,
            "_view_module_version": "1.2.0",
            "grid_template_areas": null,
            "object_position": null,
            "object_fit": null,
            "grid_auto_columns": null,
            "margin": null,
            "display": null,
            "left": null
          }
        },
        "e451ee3780bb4ffdb87919f30dfefd35": {
          "model_module": "@jupyter-widgets/controls",
          "model_name": "SliderStyleModel",
          "state": {
            "_view_name": "StyleView",
            "handle_color": null,
            "_model_name": "SliderStyleModel",
            "description_width": "",
            "_view_module": "@jupyter-widgets/base",
            "_model_module_version": "1.5.0",
            "_view_count": null,
            "_view_module_version": "1.2.0",
            "_model_module": "@jupyter-widgets/controls"
          }
        },
        "6a40cec5f2804abda96584023c230c51": {
          "model_module": "@jupyter-widgets/base",
          "model_name": "LayoutModel",
          "state": {
            "_view_name": "LayoutView",
            "grid_template_rows": null,
            "right": null,
            "justify_content": null,
            "_view_module": "@jupyter-widgets/base",
            "overflow": null,
            "_model_module_version": "1.2.0",
            "_view_count": null,
            "flex_flow": null,
            "width": null,
            "min_width": null,
            "border": null,
            "align_items": null,
            "bottom": null,
            "_model_module": "@jupyter-widgets/base",
            "top": null,
            "grid_column": null,
            "overflow_y": null,
            "overflow_x": null,
            "grid_auto_flow": null,
            "grid_area": null,
            "grid_template_columns": null,
            "flex": null,
            "_model_name": "LayoutModel",
            "justify_items": null,
            "grid_row": null,
            "max_height": null,
            "align_content": null,
            "visibility": null,
            "align_self": null,
            "height": null,
            "min_height": null,
            "padding": null,
            "grid_auto_rows": null,
            "grid_gap": null,
            "max_width": null,
            "order": null,
            "_view_module_version": "1.2.0",
            "grid_template_areas": null,
            "object_position": null,
            "object_fit": null,
            "grid_auto_columns": null,
            "margin": null,
            "display": null,
            "left": null
          }
        },
        "67c92ba9bfa449fcac331325937c0746": {
          "model_module": "@jupyter-widgets/controls",
          "model_name": "SliderStyleModel",
          "state": {
            "_view_name": "StyleView",
            "handle_color": null,
            "_model_name": "SliderStyleModel",
            "description_width": "",
            "_view_module": "@jupyter-widgets/base",
            "_model_module_version": "1.5.0",
            "_view_count": null,
            "_view_module_version": "1.2.0",
            "_model_module": "@jupyter-widgets/controls"
          }
        },
        "92d22787d70b4f07b69b781bb04509bf": {
          "model_module": "@jupyter-widgets/base",
          "model_name": "LayoutModel",
          "state": {
            "_view_name": "LayoutView",
            "grid_template_rows": null,
            "right": null,
            "justify_content": null,
            "_view_module": "@jupyter-widgets/base",
            "overflow": null,
            "_model_module_version": "1.2.0",
            "_view_count": null,
            "flex_flow": null,
            "width": null,
            "min_width": null,
            "border": null,
            "align_items": null,
            "bottom": null,
            "_model_module": "@jupyter-widgets/base",
            "top": null,
            "grid_column": null,
            "overflow_y": null,
            "overflow_x": null,
            "grid_auto_flow": null,
            "grid_area": null,
            "grid_template_columns": null,
            "flex": null,
            "_model_name": "LayoutModel",
            "justify_items": null,
            "grid_row": null,
            "max_height": null,
            "align_content": null,
            "visibility": null,
            "align_self": null,
            "height": null,
            "min_height": null,
            "padding": null,
            "grid_auto_rows": null,
            "grid_gap": null,
            "max_width": null,
            "order": null,
            "_view_module_version": "1.2.0",
            "grid_template_areas": null,
            "object_position": null,
            "object_fit": null,
            "grid_auto_columns": null,
            "margin": null,
            "display": null,
            "left": null
          }
        },
        "099fbc4922d14fe29d78b1e4c6a6861b": {
          "model_module": "@jupyter-widgets/controls",
          "model_name": "SliderStyleModel",
          "state": {
            "_view_name": "StyleView",
            "handle_color": null,
            "_model_name": "SliderStyleModel",
            "description_width": "",
            "_view_module": "@jupyter-widgets/base",
            "_model_module_version": "1.5.0",
            "_view_count": null,
            "_view_module_version": "1.2.0",
            "_model_module": "@jupyter-widgets/controls"
          }
        },
        "04a14d9bbeda4ef3971142bad812896a": {
          "model_module": "@jupyter-widgets/base",
          "model_name": "LayoutModel",
          "state": {
            "_view_name": "LayoutView",
            "grid_template_rows": null,
            "right": null,
            "justify_content": null,
            "_view_module": "@jupyter-widgets/base",
            "overflow": null,
            "_model_module_version": "1.2.0",
            "_view_count": null,
            "flex_flow": null,
            "width": null,
            "min_width": null,
            "border": null,
            "align_items": null,
            "bottom": null,
            "_model_module": "@jupyter-widgets/base",
            "top": null,
            "grid_column": null,
            "overflow_y": null,
            "overflow_x": null,
            "grid_auto_flow": null,
            "grid_area": null,
            "grid_template_columns": null,
            "flex": null,
            "_model_name": "LayoutModel",
            "justify_items": null,
            "grid_row": null,
            "max_height": null,
            "align_content": null,
            "visibility": null,
            "align_self": null,
            "height": null,
            "min_height": null,
            "padding": null,
            "grid_auto_rows": null,
            "grid_gap": null,
            "max_width": null,
            "order": null,
            "_view_module_version": "1.2.0",
            "grid_template_areas": null,
            "object_position": null,
            "object_fit": null,
            "grid_auto_columns": null,
            "margin": null,
            "display": null,
            "left": null
          }
        },
        "975df628d6ef40a290cb2a9d02af6ad6": {
          "model_module": "@jupyter-widgets/controls",
          "model_name": "SliderStyleModel",
          "state": {
            "_view_name": "StyleView",
            "handle_color": null,
            "_model_name": "SliderStyleModel",
            "description_width": "",
            "_view_module": "@jupyter-widgets/base",
            "_model_module_version": "1.5.0",
            "_view_count": null,
            "_view_module_version": "1.2.0",
            "_model_module": "@jupyter-widgets/controls"
          }
        },
        "0945f6edc8814549b08edb73b238d5bc": {
          "model_module": "@jupyter-widgets/base",
          "model_name": "LayoutModel",
          "state": {
            "_view_name": "LayoutView",
            "grid_template_rows": null,
            "right": null,
            "justify_content": null,
            "_view_module": "@jupyter-widgets/base",
            "overflow": null,
            "_model_module_version": "1.2.0",
            "_view_count": null,
            "flex_flow": null,
            "width": null,
            "min_width": null,
            "border": null,
            "align_items": null,
            "bottom": null,
            "_model_module": "@jupyter-widgets/base",
            "top": null,
            "grid_column": null,
            "overflow_y": null,
            "overflow_x": null,
            "grid_auto_flow": null,
            "grid_area": null,
            "grid_template_columns": null,
            "flex": null,
            "_model_name": "LayoutModel",
            "justify_items": null,
            "grid_row": null,
            "max_height": null,
            "align_content": null,
            "visibility": null,
            "align_self": null,
            "height": null,
            "min_height": null,
            "padding": null,
            "grid_auto_rows": null,
            "grid_gap": null,
            "max_width": null,
            "order": null,
            "_view_module_version": "1.2.0",
            "grid_template_areas": null,
            "object_position": null,
            "object_fit": null,
            "grid_auto_columns": null,
            "margin": null,
            "display": null,
            "left": null
          }
        },
        "e168c7e9d2774c1e89604ae4f8129cb5": {
          "model_module": "@jupyter-widgets/controls",
          "model_name": "SliderStyleModel",
          "state": {
            "_view_name": "StyleView",
            "handle_color": null,
            "_model_name": "SliderStyleModel",
            "description_width": "",
            "_view_module": "@jupyter-widgets/base",
            "_model_module_version": "1.5.0",
            "_view_count": null,
            "_view_module_version": "1.2.0",
            "_model_module": "@jupyter-widgets/controls"
          }
        },
        "892ede23bf104019a33785ef20e714d0": {
          "model_module": "@jupyter-widgets/base",
          "model_name": "LayoutModel",
          "state": {
            "_view_name": "LayoutView",
            "grid_template_rows": null,
            "right": null,
            "justify_content": null,
            "_view_module": "@jupyter-widgets/base",
            "overflow": null,
            "_model_module_version": "1.2.0",
            "_view_count": null,
            "flex_flow": null,
            "width": null,
            "min_width": null,
            "border": null,
            "align_items": null,
            "bottom": null,
            "_model_module": "@jupyter-widgets/base",
            "top": null,
            "grid_column": null,
            "overflow_y": null,
            "overflow_x": null,
            "grid_auto_flow": null,
            "grid_area": null,
            "grid_template_columns": null,
            "flex": null,
            "_model_name": "LayoutModel",
            "justify_items": null,
            "grid_row": null,
            "max_height": null,
            "align_content": null,
            "visibility": null,
            "align_self": null,
            "height": null,
            "min_height": null,
            "padding": null,
            "grid_auto_rows": null,
            "grid_gap": null,
            "max_width": null,
            "order": null,
            "_view_module_version": "1.2.0",
            "grid_template_areas": null,
            "object_position": null,
            "object_fit": null,
            "grid_auto_columns": null,
            "margin": null,
            "display": null,
            "left": null
          }
        },
        "fe1d2a46850744648b5e93cab66ac2f4": {
          "model_module": "@jupyter-widgets/base",
          "model_name": "LayoutModel",
          "state": {
            "_view_name": "LayoutView",
            "grid_template_rows": null,
            "right": null,
            "justify_content": null,
            "_view_module": "@jupyter-widgets/base",
            "overflow": null,
            "_model_module_version": "1.2.0",
            "_view_count": null,
            "flex_flow": null,
            "width": null,
            "min_width": null,
            "border": null,
            "align_items": null,
            "bottom": null,
            "_model_module": "@jupyter-widgets/base",
            "top": null,
            "grid_column": null,
            "overflow_y": null,
            "overflow_x": null,
            "grid_auto_flow": null,
            "grid_area": null,
            "grid_template_columns": null,
            "flex": null,
            "_model_name": "LayoutModel",
            "justify_items": null,
            "grid_row": null,
            "max_height": null,
            "align_content": null,
            "visibility": null,
            "align_self": null,
            "height": null,
            "min_height": null,
            "padding": null,
            "grid_auto_rows": null,
            "grid_gap": null,
            "max_width": null,
            "order": null,
            "_view_module_version": "1.2.0",
            "grid_template_areas": null,
            "object_position": null,
            "object_fit": null,
            "grid_auto_columns": null,
            "margin": null,
            "display": null,
            "left": null
          }
        }
      }
    }
  },
  "cells": [
    {
      "cell_type": "markdown",
      "metadata": {
        "id": "view-in-github",
        "colab_type": "text"
      },
      "source": [
        "<a href=\"https://colab.research.google.com/github/shelbybachman/neuromatch-academy-2021/blob/main/W1D1_Tutorial1.ipynb\" target=\"_parent\"><img src=\"https://colab.research.google.com/assets/colab-badge.svg\" alt=\"Open In Colab\"/></a>"
      ]
    },
    {
      "cell_type": "markdown",
      "metadata": {
        "id": "Ns_C-wnbro3J"
      },
      "source": [
        "# Tutorial 1: \"What\" models\n",
        "**Week 1, Day 1: Model Types**\n",
        "\n",
        "**By Neuromatch Academy**\n",
        "\n",
        "__Content creators:__ Matt Laporte, Byron Galbraith, Konrad Kording\n",
        "\n",
        "__Content reviewers:__ Dalin Guo, Aishwarya Balwani, Madineh Sarvestani, Maryam Vaziri-Pashkam, Michael Waskom, Ella Batty\n",
        "\n",
        "We would like to acknowledge [Steinmetz _et al._ (2019)](https://www.nature.com/articles/s41586-019-1787-x) for sharing their data, a subset of which is used here.\n"
      ]
    },
    {
      "cell_type": "markdown",
      "metadata": {
        "id": "wTUhXwBBro3N"
      },
      "source": [
        "**Our 2021 Sponsors, including Presenting Sponsor Facebook Reality Labs**\n",
        "\n",
        "<p align='center'><img src='https://github.com/NeuromatchAcademy/widgets/blob/master/sponsors.png?raw=True'/></p>"
      ]
    },
    {
      "cell_type": "markdown",
      "metadata": {
        "id": "Uc3qcYSPro3N"
      },
      "source": [
        "___\n",
        "# Tutorial Objectives\n",
        "\n",
        "*Estimated timing of tutorial: 50 minutes*\n",
        "\n",
        "This is tutorial 1 of a 3-part series on different flavors of models used to understand neural data. In this tutorial we will explore 'What' models, used to describe the data. To understand what our data looks like, we will visualize it in different ways. Then we will compare it to simple mathematical models. Specifically, we will:\n",
        "\n",
        "- Load a dataset with spiking activity from hundreds of neurons and understand how it is organized\n",
        "- Make plots to visualize characteristics of the spiking activity across the population\n",
        "- Compute the distribution of \"inter-spike intervals\" (ISIs) for a single neuron\n",
        "- Consider several formal models of this distribution's shape and fit them to the data \"by hand\""
      ]
    },
    {
      "cell_type": "code",
      "metadata": {
        "cellView": "form",
        "execution": {
          "iopub.execute_input": "2021-07-03T17:54:16.068512Z",
          "iopub.status.busy": "2021-07-03T17:54:16.067851Z",
          "iopub.status.idle": "2021-07-03T17:54:16.078805Z",
          "shell.execute_reply": "2021-07-03T17:54:16.079308Z"
        },
        "id": "KwG7AHxYro3O",
        "colab": {
          "base_uri": "https://localhost:8080/",
          "height": 502
        },
        "outputId": "6887de32-dbe5-4f52-8729-0b57e1edf17e"
      },
      "source": [
        "# @title Tutorial slides\n",
        "\n",
        "# @markdown These are the slides for the videos in all tutorials today\n",
        "from IPython.display import IFrame\n",
        "IFrame(src=f\"https://mfr.ca-1.osf.io/render?url=https://osf.io/6dxwe/?direct%26mode=render%26action=download%26mode=render\", width=854, height=480)"
      ],
      "execution_count": null,
      "outputs": [
        {
          "output_type": "execute_result",
          "data": {
            "text/html": [
              "\n",
              "        <iframe\n",
              "            width=\"854\"\n",
              "            height=\"480\"\n",
              "            src=\"https://mfr.ca-1.osf.io/render?url=https://osf.io/6dxwe/?direct%26mode=render%26action=download%26mode=render\"\n",
              "            frameborder=\"0\"\n",
              "            allowfullscreen\n",
              "        ></iframe>\n",
              "        "
            ],
            "text/plain": [
              "<IPython.lib.display.IFrame at 0x7fc27197f3d0>"
            ]
          },
          "metadata": {
            "tags": []
          },
          "execution_count": 92
        }
      ]
    },
    {
      "cell_type": "code",
      "metadata": {
        "cellView": "form",
        "execution": {
          "iopub.execute_input": "2021-07-03T17:54:16.087459Z",
          "iopub.status.busy": "2021-07-03T17:54:16.086818Z",
          "iopub.status.idle": "2021-07-03T17:54:16.200795Z",
          "shell.execute_reply": "2021-07-03T17:54:16.198330Z"
        },
        "id": "veminjOzro3Q",
        "colab": {
          "base_uri": "https://localhost:8080/",
          "height": 582,
          "referenced_widgets": [
            "654aa57f9621400eb5ed3eeb33f92eb3",
            "d9840a227c4648fa8da50f82b7243d3d",
            "06bb2d0e4d1f4433b696e67e42edc1b3",
            "56b98ae6fc104b5bbf80fe26ae4af6a9",
            "03c06080cdb34c8eb1ca8d1814171489",
            "ff000686b90c4c4b9228063d0f5bc661"
          ]
        },
        "outputId": "c5fa52a1-e7d1-4a78-ccdd-166d0c6cebd3"
      },
      "source": [
        "# @title Video 1: \"What\" Models\n",
        "from ipywidgets import widgets\n",
        "\n",
        "out2 = widgets.Output()\n",
        "with out2:\n",
        "  from IPython.display import IFrame\n",
        "  class BiliVideo(IFrame):\n",
        "      def __init__(self, id, page=1, width=400, height=300, **kwargs):\n",
        "          self.id=id\n",
        "          src = 'https://player.bilibili.com/player.html?bvid={0}&page={1}'.format(id, page)\n",
        "          super(BiliVideo, self).__init__(src, width, height, **kwargs)\n",
        "\n",
        "  video = BiliVideo(id=\"BV1mz4y1X7ot\", width=854, height=480, fs=1)\n",
        "  print('Video available at https://www.bilibili.com/video/{0}'.format(video.id))\n",
        "  display(video)\n",
        "\n",
        "out1 = widgets.Output()\n",
        "with out1:\n",
        "  from IPython.display import YouTubeVideo\n",
        "  video = YouTubeVideo(id=\"KgqR_jbjMQg\", width=854, height=480, fs=1, rel=0)\n",
        "  print('Video available at https://youtube.com/watch?v=' + video.id)\n",
        "  display(video)\n",
        "\n",
        "out = widgets.Tab([out1, out2])\n",
        "out.set_title(0, 'Youtube')\n",
        "out.set_title(1, 'Bilibili')\n",
        "\n",
        "display(out)"
      ],
      "execution_count": null,
      "outputs": [
        {
          "output_type": "display_data",
          "data": {
            "application/vnd.jupyter.widget-view+json": {
              "model_id": "654aa57f9621400eb5ed3eeb33f92eb3",
              "version_minor": 0,
              "version_major": 2
            },
            "text/plain": [
              "Tab(children=(Output(), Output()), _titles={'0': 'Youtube', '1': 'Bilibili'})"
            ]
          },
          "metadata": {
            "tags": []
          }
        }
      ]
    },
    {
      "cell_type": "markdown",
      "metadata": {
        "id": "GXKVcrv_ro3Q"
      },
      "source": [
        "# Setup\n",
        "\n"
      ]
    },
    {
      "cell_type": "markdown",
      "metadata": {
        "id": "eQLjGql-ro3R"
      },
      "source": [
        "Python requires you to explictly \"import\" libraries before their functions are available to use. We will always specify our imports at the beginning of each notebook or script."
      ]
    },
    {
      "cell_type": "code",
      "metadata": {
        "execution": {
          "iopub.execute_input": "2021-07-03T17:54:16.207642Z",
          "iopub.status.busy": "2021-07-03T17:54:16.207031Z",
          "iopub.status.idle": "2021-07-03T17:54:18.019171Z",
          "shell.execute_reply": "2021-07-03T17:54:18.018238Z"
        },
        "pycharm": {
          "name": "#%%\n"
        },
        "id": "BKNnmePUro3S"
      },
      "source": [
        "import numpy as np\n",
        "import matplotlib.pyplot as plt"
      ],
      "execution_count": null,
      "outputs": []
    },
    {
      "cell_type": "markdown",
      "metadata": {
        "id": "_o_EUPJ5ro3S"
      },
      "source": [
        "Tutorial notebooks typically begin with several set-up steps that are hidden from view by default.\n",
        "\n",
        "**Important:** Even though the code is hidden, you still need to run it so that the rest of the notebook can work properly. Step through each cell, either by pressing the play button in the upper-left-hand corner or with a keyboard shortcut (`Cmd-Return` on a Mac, `Ctrl-Enter` otherwise). A number will appear inside the brackets (e.g. `[3]`) to tell you that the cell was executed and what order that happened in.\n",
        "\n",
        "If you are curious to see what is going on inside each cell, you can double click to expand. Once expanded, double-click the white space to the right of the editor to collapse again."
      ]
    },
    {
      "cell_type": "code",
      "metadata": {
        "cellView": "form",
        "execution": {
          "iopub.execute_input": "2021-07-03T17:54:18.035304Z",
          "iopub.status.busy": "2021-07-03T17:54:18.031341Z",
          "iopub.status.idle": "2021-07-03T17:54:18.199819Z",
          "shell.execute_reply": "2021-07-03T17:54:18.200358Z"
        },
        "pycharm": {
          "name": "#%%\n"
        },
        "id": "IjGlpXqpro3T"
      },
      "source": [
        "# @title Figure Settings\n",
        "import ipywidgets as widgets #interactive display\n",
        "\n",
        "%matplotlib inline\n",
        "%config InlineBackend.figure_format = 'retina'\n",
        "plt.style.use(\"https://raw.githubusercontent.com/NeuromatchAcademy/course-content/master/nma.mplstyle\")"
      ],
      "execution_count": null,
      "outputs": []
    },
    {
      "cell_type": "code",
      "metadata": {
        "cellView": "form",
        "execution": {
          "iopub.execute_input": "2021-07-03T17:54:18.206360Z",
          "iopub.status.busy": "2021-07-03T17:54:18.202786Z",
          "iopub.status.idle": "2021-07-03T17:54:18.209079Z",
          "shell.execute_reply": "2021-07-03T17:54:18.209943Z"
        },
        "id": "pvO-tXxpro3U"
      },
      "source": [
        "# @title Plotting functions\n",
        "\n",
        "def plot_isis(single_neuron_isis):\n",
        "  plt.hist(single_neuron_isis, bins=50, histtype=\"stepfilled\")\n",
        "  plt.axvline(single_neuron_isis.mean(), color=\"orange\", label=\"Mean ISI\")\n",
        "  plt.xlabel(\"ISI duration (s)\")\n",
        "  plt.ylabel(\"Number of spikes\")\n",
        "  plt.legend()"
      ],
      "execution_count": null,
      "outputs": []
    },
    {
      "cell_type": "code",
      "metadata": {
        "cellView": "form",
        "execution": {
          "iopub.execute_input": "2021-07-03T17:54:18.216099Z",
          "iopub.status.busy": "2021-07-03T17:54:18.215112Z",
          "iopub.status.idle": "2021-07-03T17:54:20.671000Z",
          "shell.execute_reply": "2021-07-03T17:54:20.671442Z"
        },
        "pycharm": {
          "name": "#%%\n"
        },
        "id": "uztFIXdEro3V"
      },
      "source": [
        "#@title Data retrieval\n",
        "#@markdown This cell downloads the example dataset that we will use in this tutorial.\n",
        "import io\n",
        "import requests\n",
        "r = requests.get('https://osf.io/sy5xt/download')\n",
        "if r.status_code != 200:\n",
        "  print('Failed to download data')\n",
        "else:\n",
        "  spike_times = np.load(io.BytesIO(r.content), allow_pickle=True)['spike_times']"
      ],
      "execution_count": null,
      "outputs": []
    },
    {
      "cell_type": "markdown",
      "metadata": {
        "id": "igjiY5v4ro3V"
      },
      "source": [
        "---\n",
        "\n",
        "# Section 1: Exploring the Steinmetz dataset\n",
        "\n",
        "In this tutorial we will explore the structure of a neuroscience dataset.\n",
        "\n",
        "We consider a subset of data from a study of [Steinmetz _et al._ (2019)](https://www.nature.com/articles/s41586-019-1787-x). In this study, Neuropixels probes were implanted in the brains of mice. Electrical potentials were measured by hundreds of electrodes along the length of each probe. Each electrode's measurements captured local variations in the electric field due to nearby spiking neurons. A spike sorting algorithm was used to infer spike times and cluster spikes according to common origin: a single cluster of sorted spikes is causally attributed to a single neuron.\n",
        "\n",
        "In particular, a single recording session of spike times and neuron assignments was loaded and assigned to `spike_times` in the preceding setup.\n",
        "\n",
        "Typically a dataset comes with some information about its structure. However, this information may be incomplete. You might also apply some transformations or \"pre-processing\" to create a working representation of the data of interest, which might go partly undocumented depending on the circumstances. In any case it is important to be able to use the available tools to investigate unfamiliar aspects of a data structure.\n",
        "\n",
        "Let's see what our data looks like..."
      ]
    },
    {
      "cell_type": "markdown",
      "metadata": {
        "id": "IyYxroXoro3W"
      },
      "source": [
        "## Section 1.1: Warming up with `spike_times`"
      ]
    },
    {
      "cell_type": "markdown",
      "metadata": {
        "id": "oIBiY5B6ro3X"
      },
      "source": [
        "What is the Python type of our variable?"
      ]
    },
    {
      "cell_type": "code",
      "metadata": {
        "execution": {
          "iopub.execute_input": "2021-07-03T17:54:20.676871Z",
          "iopub.status.busy": "2021-07-03T17:54:20.676106Z",
          "iopub.status.idle": "2021-07-03T17:54:20.682191Z",
          "shell.execute_reply": "2021-07-03T17:54:20.681644Z"
        },
        "pycharm": {
          "name": "#%%\n"
        },
        "id": "VmZzmYKJro3X",
        "colab": {
          "base_uri": "https://localhost:8080/"
        },
        "outputId": "f74089c8-5047-49e1-999a-995c305dbd01"
      },
      "source": [
        "type(spike_times)"
      ],
      "execution_count": null,
      "outputs": [
        {
          "output_type": "execute_result",
          "data": {
            "text/plain": [
              "numpy.ndarray"
            ]
          },
          "metadata": {
            "tags": []
          },
          "execution_count": 98
        }
      ]
    },
    {
      "cell_type": "markdown",
      "metadata": {
        "id": "Vr25xYLkro3X"
      },
      "source": [
        "You should see `numpy.ndarray`, which means that it's a normal NumPy array.\n",
        "\n",
        "If you see an error message, it probably means that you did not execute the set-up cells at the top of the notebook. So go ahead and make sure to do that.\n",
        "\n",
        "Once everything is running properly, we can ask the next question about the dataset: what's its shape?"
      ]
    },
    {
      "cell_type": "code",
      "metadata": {
        "execution": {
          "iopub.execute_input": "2021-07-03T17:54:20.686733Z",
          "iopub.status.busy": "2021-07-03T17:54:20.686101Z",
          "iopub.status.idle": "2021-07-03T17:54:20.691916Z",
          "shell.execute_reply": "2021-07-03T17:54:20.692367Z"
        },
        "pycharm": {
          "name": "#%%\n"
        },
        "id": "xtUMVcCpro3Y",
        "colab": {
          "base_uri": "https://localhost:8080/"
        },
        "outputId": "733adacd-2b5b-4487-8f4c-2ad6b6c43192"
      },
      "source": [
        "spike_times.shape"
      ],
      "execution_count": null,
      "outputs": [
        {
          "output_type": "execute_result",
          "data": {
            "text/plain": [
              "(734,)"
            ]
          },
          "metadata": {
            "tags": []
          },
          "execution_count": 99
        }
      ]
    },
    {
      "cell_type": "markdown",
      "metadata": {
        "id": "DmaR_YKfro3Y"
      },
      "source": [
        "There are 734 entries in one dimension, and no other dimensions. What is the Python type of the first entry, and what is *its* shape?"
      ]
    },
    {
      "cell_type": "code",
      "metadata": {
        "execution": {
          "iopub.execute_input": "2021-07-03T17:54:20.697800Z",
          "iopub.status.busy": "2021-07-03T17:54:20.697199Z",
          "iopub.status.idle": "2021-07-03T17:54:20.701384Z",
          "shell.execute_reply": "2021-07-03T17:54:20.700890Z"
        },
        "pycharm": {
          "name": "#%%\n"
        },
        "id": "M6LAKe-rro3Y",
        "colab": {
          "base_uri": "https://localhost:8080/"
        },
        "outputId": "fd7a93ce-1974-4cb4-aba2-5940909c14e0"
      },
      "source": [
        "idx = 0\n",
        "print(\n",
        "  type(spike_times[idx]),\n",
        "  spike_times[idx].shape,\n",
        "  sep=\"\\n\",\n",
        ")"
      ],
      "execution_count": null,
      "outputs": [
        {
          "output_type": "stream",
          "text": [
            "<class 'numpy.ndarray'>\n",
            "(826,)\n"
          ],
          "name": "stdout"
        }
      ]
    },
    {
      "cell_type": "markdown",
      "metadata": {
        "id": "vfXiN1poro3Z"
      },
      "source": [
        "It's also a NumPy array with a 1D shape! Why didn't this show up as a second dimension in the shape of `spike_times`? That is, why not `spike_times.shape == (734, 826)`?\n",
        "\n",
        "To investigate, let's check another entry."
      ]
    },
    {
      "cell_type": "code",
      "metadata": {
        "execution": {
          "iopub.execute_input": "2021-07-03T17:54:20.710021Z",
          "iopub.status.busy": "2021-07-03T17:54:20.707287Z",
          "iopub.status.idle": "2021-07-03T17:54:20.712941Z",
          "shell.execute_reply": "2021-07-03T17:54:20.712371Z"
        },
        "pycharm": {
          "name": "#%%\n"
        },
        "id": "79kCSGq2ro3Z",
        "colab": {
          "base_uri": "https://localhost:8080/"
        },
        "outputId": "e54bca0d-f282-4497-e1b1-ee018eca50ff"
      },
      "source": [
        "idx = 321\n",
        "print(\n",
        "  type(spike_times[idx]),\n",
        "  spike_times[idx].shape,\n",
        "  sep=\"\\n\",\n",
        ")"
      ],
      "execution_count": null,
      "outputs": [
        {
          "output_type": "stream",
          "text": [
            "<class 'numpy.ndarray'>\n",
            "(9723,)\n"
          ],
          "name": "stdout"
        }
      ]
    },
    {
      "cell_type": "markdown",
      "metadata": {
        "id": "8tCaKU_dro3Z"
      },
      "source": [
        "It's also a 1D NumPy array, but it has a different shape. Checking the NumPy types of the values in these arrays, and their first few elements, we see they are composed of floating point numbers (not another level of `np.ndarray`):"
      ]
    },
    {
      "cell_type": "code",
      "metadata": {
        "execution": {
          "iopub.execute_input": "2021-07-03T17:54:20.722331Z",
          "iopub.status.busy": "2021-07-03T17:54:20.720941Z",
          "iopub.status.idle": "2021-07-03T17:54:20.724840Z",
          "shell.execute_reply": "2021-07-03T17:54:20.724270Z"
        },
        "pycharm": {
          "name": "#%%\n"
        },
        "id": "rgEUqJf2ro3Z",
        "colab": {
          "base_uri": "https://localhost:8080/"
        },
        "outputId": "91499539-c379-455e-f301-badbef5306c1"
      },
      "source": [
        "i_neurons = [0, 321]\n",
        "i_print = slice(0, 5)\n",
        "\n",
        "for i in i_neurons:\n",
        "  print(\n",
        "    \"Neuron {}:\".format(i),\n",
        "    spike_times[i].dtype,\n",
        "    spike_times[i][i_print],\n",
        "    \"\\n\",\n",
        "    sep=\"\\n\"\n",
        "  )"
      ],
      "execution_count": null,
      "outputs": [
        {
          "output_type": "stream",
          "text": [
            "Neuron 0:\n",
            "float32\n",
            "[ 0.8149   14.822467 24.9646   25.1436   38.8709  ]\n",
            "\n",
            "\n",
            "Neuron 321:\n",
            "float32\n",
            "[1.0698667 1.1536334 1.2403667 1.7072    1.799    ]\n",
            "\n",
            "\n"
          ],
          "name": "stdout"
        }
      ]
    },
    {
      "cell_type": "markdown",
      "metadata": {
        "id": "5_DlUHUgro3a"
      },
      "source": [
        "Note that this time we've checked the NumPy `dtype` rather than the Python variable type. These two arrays contain floating point numbers (\"floats\") with 32 bits of precision.\n",
        "\n",
        "The basic picture is coming together:\n",
        "- `spike_times` is 1D, its entries are NumPy arrays, and its length is the number of neurons (734): by indexing it, we select a subset of neurons.\n",
        "- An array in `spike_times` is also 1D and corresponds to a single neuron; its entries are floating point numbers, and its length is the number of spikes attributed to that neuron. By indexing it, we select a subset of spike times for that neuron.\n",
        "\n",
        "Visually, you can think of the data structure as looking something like this:\n",
        "\n",
        "```\n",
        "| . . . . . |\n",
        "| . . . . . . . . |\n",
        "| . . . |\n",
        "| . . . . . . . |\n",
        "```\n",
        "\n",
        "Before moving on, we'll calculate and store the number of neurons in the dataset and the number of spikes per neuron:"
      ]
    },
    {
      "cell_type": "code",
      "metadata": {
        "execution": {
          "iopub.execute_input": "2021-07-03T17:54:20.731464Z",
          "iopub.status.busy": "2021-07-03T17:54:20.730149Z",
          "iopub.status.idle": "2021-07-03T17:54:20.733629Z",
          "shell.execute_reply": "2021-07-03T17:54:20.733072Z"
        },
        "pycharm": {
          "name": "#%%\n"
        },
        "id": "N1UXraEQro3b",
        "colab": {
          "base_uri": "https://localhost:8080/"
        },
        "outputId": "980cfde6-fad1-4590-f9a3-465a86e71cfc"
      },
      "source": [
        "n_neurons = len(spike_times)\n",
        "total_spikes_per_neuron = [len(spike_times_i) for spike_times_i in spike_times]\n",
        "\n",
        "print(f\"Number of neurons: {n_neurons}\")\n",
        "print(f\"Number of spikes for first five neurons: {total_spikes_per_neuron[:5]}\")"
      ],
      "execution_count": null,
      "outputs": [
        {
          "output_type": "stream",
          "text": [
            "Number of neurons: 734\n",
            "Number of spikes for first five neurons: [826, 2818, 3953, 646, 1115]\n"
          ],
          "name": "stdout"
        }
      ]
    },
    {
      "cell_type": "code",
      "metadata": {
        "cellView": "form",
        "execution": {
          "iopub.execute_input": "2021-07-03T17:54:20.748484Z",
          "iopub.status.busy": "2021-07-03T17:54:20.746673Z",
          "iopub.status.idle": "2021-07-03T17:54:20.806460Z",
          "shell.execute_reply": "2021-07-03T17:54:20.803939Z"
        },
        "id": "iCEx5i4bro3b",
        "colab": {
          "base_uri": "https://localhost:8080/",
          "height": 582,
          "referenced_widgets": [
            "a59427e520f64cf28b70082dfe735ecf",
            "b256439b59164d1f8389d54590d53c44",
            "b8217382eff04a3a80cf7768af70865f",
            "e0ef746ebe764fde9bf2f7dfac5cd72e",
            "673f4f0081e14ec8bf2f1256dd92581d",
            "025730bda40c4eeba539102e6b27a58b"
          ]
        },
        "outputId": "bc7457f9-cc23-4a5c-eecc-3282051929d0"
      },
      "source": [
        "# @title Video 2: Exploring the dataset\n",
        "from ipywidgets import widgets\n",
        "\n",
        "out2 = widgets.Output()\n",
        "with out2:\n",
        "  from IPython.display import IFrame\n",
        "  class BiliVideo(IFrame):\n",
        "      def __init__(self, id, page=1, width=400, height=300, **kwargs):\n",
        "          self.id=id\n",
        "          src = 'https://player.bilibili.com/player.html?bvid={0}&page={1}'.format(id, page)\n",
        "          super(BiliVideo, self).__init__(src, width, height, **kwargs)\n",
        "\n",
        "  video = BiliVideo(id=\"BV1Hp4y1S7Au\", width=854, height=480, fs=1)\n",
        "  print('Video available at https://www.bilibili.com/video/{0}'.format(video.id))\n",
        "  display(video)\n",
        "\n",
        "out1 = widgets.Output()\n",
        "with out1:\n",
        "  from IPython.display import YouTubeVideo\n",
        "  video = YouTubeVideo(id=\"oHwYWUI_o1U\", width=854, height=480, fs=1, rel=0)\n",
        "  print('Video available at https://youtube.com/watch?v=' + video.id)\n",
        "  display(video)\n",
        "\n",
        "out = widgets.Tab([out1, out2])\n",
        "out.set_title(0, 'Youtube')\n",
        "out.set_title(1, 'Bilibili')\n",
        "\n",
        "display(out)"
      ],
      "execution_count": null,
      "outputs": [
        {
          "output_type": "display_data",
          "data": {
            "application/vnd.jupyter.widget-view+json": {
              "model_id": "a59427e520f64cf28b70082dfe735ecf",
              "version_minor": 0,
              "version_major": 2
            },
            "text/plain": [
              "Tab(children=(Output(), Output()), _titles={'0': 'Youtube', '1': 'Bilibili'})"
            ]
          },
          "metadata": {
            "tags": []
          }
        }
      ]
    },
    {
      "cell_type": "markdown",
      "metadata": {
        "id": "nn82Ynryro3b"
      },
      "source": [
        "## Section 1.2: Getting warmer: counting and plotting total spike counts\n",
        "\n",
        "As we've seen, the number of spikes over the entire recording is variable between neurons. More generally, some neurons tend to spike more than others in a given period. Lets explore what the distribution of spiking looks like across all the neurons in the dataset."
      ]
    },
    {
      "cell_type": "markdown",
      "metadata": {
        "id": "Av-9i9NUro3b"
      },
      "source": [
        "Are most neurons \"loud\" or \"quiet\", compared to the average? To see, we'll define bins of constant width in terms of total spikes and count the neurons that fall in each bin. This is known as a \"histogram\".\n",
        "\n",
        "You can plot a histogram with the matplotlib function `plt.hist`. If you just need to compute it, you can use the numpy function `np.histogram` instead."
      ]
    },
    {
      "cell_type": "code",
      "metadata": {
        "execution": {
          "iopub.execute_input": "2021-07-03T17:54:20.831106Z",
          "iopub.status.busy": "2021-07-03T17:54:20.830471Z",
          "iopub.status.idle": "2021-07-03T17:54:21.104468Z",
          "shell.execute_reply": "2021-07-03T17:54:21.103509Z"
        },
        "pycharm": {
          "name": "#%%\n"
        },
        "id": "aZzJP-emro3b",
        "colab": {
          "base_uri": "https://localhost:8080/",
          "height": 431
        },
        "outputId": "c4d37e00-a25a-4b88-e13d-e48bbe6668fd"
      },
      "source": [
        "plt.hist(total_spikes_per_neuron, bins=50, histtype=\"stepfilled\")\n",
        "plt.xlabel(\"Total spikes per neuron\")\n",
        "plt.ylabel(\"Number of neurons\");"
      ],
      "execution_count": null,
      "outputs": [
        {
          "output_type": "display_data",
          "data": {
            "image/png": "[encoded data removed]",
            "text/plain": [
              "<Figure size 576x432 with 1 Axes>"
            ]
          },
          "metadata": {
            "tags": [],
            "image/png": {
              "width": 558,
              "height": 414
            },
            "needs_background": "light"
          }
        }
      ]
    },
    {
      "cell_type": "markdown",
      "metadata": {
        "id": "3TPEf4SAro3c"
      },
      "source": [
        "Let's see what percentage of neurons have a below-average spike count:"
      ]
    },
    {
      "cell_type": "code",
      "metadata": {
        "execution": {
          "iopub.execute_input": "2021-07-03T17:54:21.109765Z",
          "iopub.status.busy": "2021-07-03T17:54:21.109111Z",
          "iopub.status.idle": "2021-07-03T17:54:21.113872Z",
          "shell.execute_reply": "2021-07-03T17:54:21.113384Z"
        },
        "pycharm": {
          "name": "#%%\n"
        },
        "id": "WuFyWP6Xro3c",
        "colab": {
          "base_uri": "https://localhost:8080/"
        },
        "outputId": "89990d49-9dbf-4b92-c72c-67820258b2c4"
      },
      "source": [
        "mean_spike_count = np.mean(total_spikes_per_neuron)\n",
        "frac_below_mean = (total_spikes_per_neuron < mean_spike_count).mean()\n",
        "print(f\"{frac_below_mean:2.1%} of neurons are below the mean\")"
      ],
      "execution_count": null,
      "outputs": [
        {
          "output_type": "stream",
          "text": [
            "68.0% of neurons are below the mean\n"
          ],
          "name": "stdout"
        }
      ]
    },
    {
      "cell_type": "markdown",
      "metadata": {
        "id": "8XZgWlUFro3c"
      },
      "source": [
        "We can also see this by adding the average spike count to the histogram plot:"
      ]
    },
    {
      "cell_type": "code",
      "metadata": {
        "execution": {
          "iopub.execute_input": "2021-07-03T17:54:21.143165Z",
          "iopub.status.busy": "2021-07-03T17:54:21.142193Z",
          "iopub.status.idle": "2021-07-03T17:54:21.408641Z",
          "shell.execute_reply": "2021-07-03T17:54:21.408096Z"
        },
        "pycharm": {
          "name": "#%%\n"
        },
        "id": "Ngx7MSxkro3c",
        "colab": {
          "base_uri": "https://localhost:8080/",
          "height": 431
        },
        "outputId": "7e1cdb5e-b38c-46d4-8114-719cc09ea764"
      },
      "source": [
        "plt.hist(total_spikes_per_neuron, bins=50, histtype=\"stepfilled\")\n",
        "plt.xlabel(\"Total spikes per neuron\")\n",
        "plt.ylabel(\"Number of neurons\")\n",
        "plt.axvline(mean_spike_count, color=\"orange\", label=\"Mean neuron\")\n",
        "plt.legend();"
      ],
      "execution_count": null,
      "outputs": [
        {
          "output_type": "display_data",
          "data": {
            "image/png": "[encoded data removed]",
            "text/plain": [
              "<Figure size 576x432 with 1 Axes>"
            ]
          },
          "metadata": {
            "tags": [],
            "image/png": {
              "width": 558,
              "height": 414
            },
            "needs_background": "light"
          }
        }
      ]
    },
    {
      "cell_type": "markdown",
      "metadata": {
        "id": "R0GWdBn4ro3d"
      },
      "source": [
        "This shows that the majority of neurons are relatively \"quiet\" compared to the mean, while a small number of neurons are exceptionally \"loud\": they must have spiked more often to reach a large count.\n",
        "\n",
        "### Coding Exercise 1.2: Comparing mean and median neurons\n",
        "\n",
        "If the mean neuron is more active than 68% of the population, what does that imply about the relationship between the mean neuron and the median neuron?\n",
        "\n",
        "*Exercise objective:* Reproduce the plot above, but add the median neuron.\n"
      ]
    },
    {
      "cell_type": "code",
      "metadata": {
        "execution": {
          "iopub.execute_input": "2021-07-03T17:54:21.417212Z",
          "iopub.status.busy": "2021-07-03T17:54:21.416528Z",
          "iopub.status.idle": "2021-07-03T17:54:21.534528Z",
          "shell.execute_reply": "2021-07-03T17:54:21.532642Z"
        },
        "pycharm": {
          "name": "#%%\n"
        },
        "id": "w6UmAGkDro3d",
        "colab": {
          "base_uri": "https://localhost:8080/",
          "height": 449
        },
        "outputId": "e9ed049b-481d-4a53-bc61-eabda7fb9c51"
      },
      "source": [
        "#################################################################################\n",
        "## TODO for students:\n",
        "# Fill out function and remove\n",
        "#raise NotImplementedError(\"Student exercise: complete histogram plotting with median\")\n",
        "#################################################################################\n",
        "\n",
        "# Compute median spike count\n",
        "median_spike_count = np.median(total_spikes_per_neuron)\n",
        "\n",
        "# Visualize median, mean, and histogram\n",
        "plt.hist(total_spikes_per_neuron, bins=50, histtype=\"stepfilled\")\n",
        "plt.axvline(median_spike_count, color=\"limegreen\", label=\"Median neuron\")\n",
        "plt.axvline(mean_spike_count, color=\"orange\", label=\"Mean neuron\")\n",
        "plt.xlabel(\"Total spikes per neuron\")\n",
        "plt.ylabel(\"Number of neurons\")\n",
        "plt.legend()"
      ],
      "execution_count": null,
      "outputs": [
        {
          "output_type": "execute_result",
          "data": {
            "text/plain": [
              "<matplotlib.legend.Legend at 0x7fc27181ed90>"
            ]
          },
          "metadata": {
            "tags": []
          },
          "execution_count": 108
        },
        {
          "output_type": "display_data",
          "data": {
            "image/png": "[encoded data removed]",
            "text/plain": [
              "<Figure size 576x432 with 1 Axes>"
            ]
          },
          "metadata": {
            "tags": [],
            "image/png": {
              "width": 558,
              "height": 414
            },
            "needs_background": "light"
          }
        }
      ]
    },
    {
      "cell_type": "markdown",
      "metadata": {
        "execution": {
          "iopub.execute_input": "2021-07-03T17:54:21.567423Z",
          "iopub.status.busy": "2021-07-03T17:54:21.566322Z",
          "iopub.status.idle": "2021-07-03T17:54:21.931828Z",
          "shell.execute_reply": "2021-07-03T17:54:21.932371Z"
        },
        "pycharm": {
          "name": "#%%\n"
        },
        "id": "duGJCBI-ro3e"
      },
      "source": [
        "[*Click for solution*](https://github.com/NeuromatchAcademy/course-content/tree/master//tutorials/W1D1_ModelTypes/solutions/W1D1_Tutorial1_Solution_9af91fe0.py)\n",
        "\n",
        "*Example output:*\n",
        "\n",
        "<img alt='Solution hint' align='left' width=1116.0 height=827.0 src=https://raw.githubusercontent.com/NeuromatchAcademy/course-content/master/tutorials/W1D1_ModelTypes/static/W1D1_Tutorial1_Solution_9af91fe0_0.png>\n",
        "\n"
      ]
    },
    {
      "cell_type": "markdown",
      "metadata": {
        "id": "cDAJVK9Lro3e"
      },
      "source": [
        "\n",
        "*Bonus:* The median is the 50th percentile. What about other percentiles? Can you show the interquartile range on the histogram?"
      ]
    },
    {
      "cell_type": "markdown",
      "metadata": {
        "id": "8jlFcewlro3f"
      },
      "source": [
        "---\n",
        "\n",
        "# Section 2: Visualizing neuronal spiking activity\n",
        "\n",
        "*Estimated timing to here from start of tutorial: 15 min*"
      ]
    },
    {
      "cell_type": "markdown",
      "metadata": {
        "id": "p6ku-BdBro3f"
      },
      "source": [
        "## Section 2.1: Getting a subset of the data\n",
        "\n",
        "Now we'll visualize trains of spikes. Because the recordings are long, we will first define a short time interval and restrict the visualization to only the spikes in this interval. We defined a helper function, `restrict_spike_times`, to do this for you. If you call `help()` on the function, it will tell you a little bit about itself:"
      ]
    },
    {
      "cell_type": "code",
      "metadata": {
        "cellView": "form",
        "execution": {
          "iopub.execute_input": "2021-07-03T17:54:21.939391Z",
          "iopub.status.busy": "2021-07-03T17:54:21.938026Z",
          "iopub.status.idle": "2021-07-03T17:54:21.940041Z",
          "shell.execute_reply": "2021-07-03T17:54:21.940561Z"
        },
        "id": "cGMCljfuro3f"
      },
      "source": [
        "# @markdown Execute this cell for helper function `restrict_spike_times`\n",
        "def restrict_spike_times(spike_times, interval):\n",
        "  \"\"\"Given a spike_time dataset, restrict to spikes within given interval.\n",
        "\n",
        "  Args:\n",
        "    spike_times (sequence of np.ndarray): List or array of arrays,\n",
        "      each inner array has spike times for a single neuron.\n",
        "    interval (tuple): Min, max time values; keep min <= t < max.\n",
        "\n",
        "  Returns:\n",
        "    np.ndarray: like `spike_times`, but only within `interval`\n",
        "  \"\"\"\n",
        "  interval_spike_times = []\n",
        "  for spikes in spike_times:\n",
        "    interval_mask = (spikes >= interval[0]) & (spikes < interval[1])\n",
        "    interval_spike_times.append(spikes[interval_mask])\n",
        "  return np.array(interval_spike_times, object)"
      ],
      "execution_count": null,
      "outputs": []
    },
    {
      "cell_type": "code",
      "metadata": {
        "execution": {
          "iopub.execute_input": "2021-07-03T17:54:21.946273Z",
          "iopub.status.busy": "2021-07-03T17:54:21.944852Z",
          "iopub.status.idle": "2021-07-03T17:54:21.948195Z",
          "shell.execute_reply": "2021-07-03T17:54:21.947642Z"
        },
        "pycharm": {
          "name": "#%%\n"
        },
        "id": "PbR9D0vXro3f",
        "colab": {
          "base_uri": "https://localhost:8080/"
        },
        "outputId": "1406b583-f69d-4fc6-aea6-3003fcde2eef"
      },
      "source": [
        "help(restrict_spike_times)"
      ],
      "execution_count": null,
      "outputs": [
        {
          "output_type": "stream",
          "text": [
            "Help on function restrict_spike_times in module __main__:\n",
            "\n",
            "restrict_spike_times(spike_times, interval)\n",
            "    Given a spike_time dataset, restrict to spikes within given interval.\n",
            "    \n",
            "    Args:\n",
            "      spike_times (sequence of np.ndarray): List or array of arrays,\n",
            "        each inner array has spike times for a single neuron.\n",
            "      interval (tuple): Min, max time values; keep min <= t < max.\n",
            "    \n",
            "    Returns:\n",
            "      np.ndarray: like `spike_times`, but only within `interval`\n",
            "\n"
          ],
          "name": "stdout"
        }
      ]
    },
    {
      "cell_type": "code",
      "metadata": {
        "execution": {
          "iopub.execute_input": "2021-07-03T17:54:21.952491Z",
          "iopub.status.busy": "2021-07-03T17:54:21.951885Z",
          "iopub.status.idle": "2021-07-03T17:54:21.967180Z",
          "shell.execute_reply": "2021-07-03T17:54:21.966623Z"
        },
        "pycharm": {
          "name": "#%%\n"
        },
        "id": "zidirkkiro3f"
      },
      "source": [
        "t_interval = (5, 15)  # units are seconds after start of recording\n",
        "interval_spike_times = restrict_spike_times(spike_times, t_interval)"
      ],
      "execution_count": null,
      "outputs": []
    },
    {
      "cell_type": "markdown",
      "metadata": {
        "id": "ieF1b_Ubro3f"
      },
      "source": [
        "Is this a representative interval? What fraction of the total spikes fall in this interval?"
      ]
    },
    {
      "cell_type": "code",
      "metadata": {
        "execution": {
          "iopub.execute_input": "2021-07-03T17:54:21.973917Z",
          "iopub.status.busy": "2021-07-03T17:54:21.972504Z",
          "iopub.status.idle": "2021-07-03T17:54:21.976061Z",
          "shell.execute_reply": "2021-07-03T17:54:21.975519Z"
        },
        "pycharm": {
          "name": "#%%\n"
        },
        "id": "GXyOQ7Pzro3g",
        "colab": {
          "base_uri": "https://localhost:8080/"
        },
        "outputId": "a0676c53-5adf-4df9-c291-642028426b1b"
      },
      "source": [
        "original_counts = sum([len(spikes) for spikes in spike_times])\n",
        "interval_counts = sum([len(spikes) for spikes in interval_spike_times])\n",
        "frac_interval_spikes = interval_counts / original_counts\n",
        "print(f\"{frac_interval_spikes:.2%} of the total spikes are in the interval\")"
      ],
      "execution_count": null,
      "outputs": [
        {
          "output_type": "stream",
          "text": [
            "0.33% of the total spikes are in the interval\n"
          ],
          "name": "stdout"
        }
      ]
    },
    {
      "cell_type": "markdown",
      "metadata": {
        "id": "W4-ImrwKro3g"
      },
      "source": [
        "How does this compare to the ratio between the interval duration and the experiment duration? (What fraction of the total time is in this interval?)\n",
        "\n",
        "We can approximate the experiment duration by taking the minimum and maximum spike time in the whole dataset. To do that, we \"concatenate\" all of the neurons into one array and then use `np.ptp` (\"peak-to-peak\") to get the difference between the maximum and minimum value:"
      ]
    },
    {
      "cell_type": "code",
      "metadata": {
        "execution": {
          "iopub.execute_input": "2021-07-03T17:54:21.980602Z",
          "iopub.status.busy": "2021-07-03T17:54:21.980011Z",
          "iopub.status.idle": "2021-07-03T17:54:21.999935Z",
          "shell.execute_reply": "2021-07-03T17:54:22.000568Z"
        },
        "pycharm": {
          "name": "#%%\n"
        },
        "id": "OZuXy1PLro3g",
        "colab": {
          "base_uri": "https://localhost:8080/"
        },
        "outputId": "779ec743-dab2-44d1-cf02-ba18d5fd9eb1"
      },
      "source": [
        "spike_times_flat = np.concatenate(spike_times)\n",
        "experiment_duration = np.ptp(spike_times_flat)\n",
        "interval_duration = t_interval[1] - t_interval[0]\n",
        "\n",
        "frac_interval_time = interval_duration / experiment_duration\n",
        "print(f\"{frac_interval_time:.2%} of the total time is in the interval\")"
      ],
      "execution_count": null,
      "outputs": [
        {
          "output_type": "stream",
          "text": [
            "0.37% of the total time is in the interval\n"
          ],
          "name": "stdout"
        }
      ]
    },
    {
      "cell_type": "markdown",
      "metadata": {
        "id": "csCxhMhJro3h"
      },
      "source": [
        "These two values—the fraction of total spikes and the fraction of total time—are similar. This suggests the average spike rate of the neuronal population is not very different in this interval compared to the entire recording.\n",
        "\n",
        "## Section 2.2: Plotting spike trains and rasters\n",
        "\n",
        "Now that we have a representative subset, we're ready to plot the spikes, using the matplotlib `plt.eventplot` function. Let's look at a single neuron first:"
      ]
    },
    {
      "cell_type": "code",
      "metadata": {
        "execution": {
          "iopub.execute_input": "2021-07-03T17:54:22.019853Z",
          "iopub.status.busy": "2021-07-03T17:54:22.019192Z",
          "iopub.status.idle": "2021-07-03T17:54:22.196514Z",
          "shell.execute_reply": "2021-07-03T17:54:22.195642Z"
        },
        "pycharm": {
          "name": "#%%\n"
        },
        "id": "JownZHkaro3i",
        "colab": {
          "base_uri": "https://localhost:8080/",
          "height": 431
        },
        "outputId": "e2da2481-8995-4056-bf17-37554a8cb452"
      },
      "source": [
        "neuron_idx = 1\n",
        "plt.eventplot(interval_spike_times[neuron_idx], color=\".2\")\n",
        "plt.xlabel(\"Time (s)\")\n",
        "plt.yticks([]);"
      ],
      "execution_count": null,
      "outputs": [
        {
          "output_type": "display_data",
          "data": {
            "image/png": "[encoded data removed]",
            "text/plain": [
              "<Figure size 576x432 with 1 Axes>"
            ]
          },
          "metadata": {
            "tags": [],
            "image/png": {
              "width": 557,
              "height": 414
            },
            "needs_background": "light"
          }
        }
      ]
    },
    {
      "cell_type": "markdown",
      "metadata": {
        "id": "3yPQyFQ8ro3i"
      },
      "source": [
        "We can also plot multiple neurons. Here are three:"
      ]
    },
    {
      "cell_type": "code",
      "metadata": {
        "execution": {
          "iopub.execute_input": "2021-07-03T17:54:22.270761Z",
          "iopub.status.busy": "2021-07-03T17:54:22.270162Z",
          "iopub.status.idle": "2021-07-03T17:54:22.424884Z",
          "shell.execute_reply": "2021-07-03T17:54:22.423869Z"
        },
        "pycharm": {
          "name": "#%%\n"
        },
        "id": "fxpvQUyoro3i",
        "colab": {
          "base_uri": "https://localhost:8080/",
          "height": 430
        },
        "outputId": "7b9c6dc9-6ff8-416a-b312-ea330574d79d"
      },
      "source": [
        "neuron_idx = [1, 11, 51]\n",
        "plt.eventplot(interval_spike_times[neuron_idx], color=\".2\")\n",
        "plt.xlabel(\"Time (s)\")\n",
        "plt.yticks([]);"
      ],
      "execution_count": null,
      "outputs": [
        {
          "output_type": "display_data",
          "data": {
            "image/png": "[encoded data removed]",
            "text/plain": [
              "<Figure size 576x432 with 1 Axes>"
            ]
          },
          "metadata": {
            "tags": [],
            "image/png": {
              "width": 557,
              "height": 413
            },
            "needs_background": "light"
          }
        }
      ]
    },
    {
      "cell_type": "markdown",
      "metadata": {
        "id": "b-ltMvPAro3i"
      },
      "source": [
        "This makes a \"raster\" plot, where the spikes from each neuron appear in a different row.\n",
        "\n",
        "Plotting a large number of neurons can give you a sense for the characteristics in the population. Let's show every 5th neuron that was recorded:"
      ]
    },
    {
      "cell_type": "code",
      "metadata": {
        "execution": {
          "iopub.execute_input": "2021-07-03T17:54:22.439900Z",
          "iopub.status.busy": "2021-07-03T17:54:22.438828Z",
          "iopub.status.idle": "2021-07-03T17:54:22.879608Z",
          "shell.execute_reply": "2021-07-03T17:54:22.878363Z"
        },
        "pycharm": {
          "name": "#%%\n"
        },
        "id": "YM1S28AGro3j",
        "colab": {
          "base_uri": "https://localhost:8080/",
          "height": 430
        },
        "outputId": "4501c187-1e8c-4407-c22d-e0e8b5e26a69"
      },
      "source": [
        "neuron_idx = np.arange(0, len(spike_times), 5)\n",
        "plt.eventplot(interval_spike_times[neuron_idx], color=\".2\")\n",
        "plt.xlabel(\"Time (s)\")\n",
        "plt.yticks([]);"
      ],
      "execution_count": null,
      "outputs": [
        {
          "output_type": "display_data",
          "data": {
            "image/png": "[encoded data removed]",
            "text/plain": [
              "<Figure size 576x432 with 1 Axes>"
            ]
          },
          "metadata": {
            "tags": [],
            "image/png": {
              "width": 558,
              "height": 413
            },
            "needs_background": "light"
          }
        }
      ]
    },
    {
      "cell_type": "markdown",
      "metadata": {
        "id": "HV4nyv4Vro3k"
      },
      "source": [
        "*Question*: How does the information in this plot relate to the histogram of total spike counts that you saw above?"
      ]
    },
    {
      "cell_type": "markdown",
      "metadata": {
        "execution": {
          "iopub.execute_input": "2021-07-03T17:54:22.884637Z",
          "iopub.status.busy": "2021-07-03T17:54:22.883994Z",
          "iopub.status.idle": "2021-07-03T17:54:22.889216Z",
          "shell.execute_reply": "2021-07-03T17:54:22.890231Z"
        },
        "id": "lnOGO3itro3k"
      },
      "source": [
        "[*Click for solution*](https://github.com/NeuromatchAcademy/course-content/tree/master//tutorials/W1D1_ModelTypes/solutions/W1D1_Tutorial1_Solution_b01195c9.py)\n",
        "\n"
      ]
    },
    {
      "cell_type": "code",
      "metadata": {
        "cellView": "form",
        "execution": {
          "iopub.execute_input": "2021-07-03T17:54:22.903300Z",
          "iopub.status.busy": "2021-07-03T17:54:22.902309Z",
          "iopub.status.idle": "2021-07-03T17:54:22.968449Z",
          "shell.execute_reply": "2021-07-03T17:54:22.967927Z"
        },
        "id": "ECv76xJPro3k",
        "colab": {
          "base_uri": "https://localhost:8080/",
          "height": 582,
          "referenced_widgets": [
            "4e0ebbc88d6940df832ebc6113526563",
            "6430ddb5d5114de5a670f1a92c51e9de",
            "06f64d98bbe9454cac4ac575ff9c149f",
            "15a417086a3d4df9af27b1d1686bf865",
            "e778047bbdf541cbac6f7ec4300e3be3",
            "71f1227ce8c243caad9a713a8e893dc9"
          ]
        },
        "outputId": "972cb21a-bccf-4183-de4c-7453d93417b1"
      },
      "source": [
        "# @title Video 3: Visualizing activity\n",
        "from ipywidgets import widgets\n",
        "\n",
        "out2 = widgets.Output()\n",
        "with out2:\n",
        "  from IPython.display import IFrame\n",
        "  class BiliVideo(IFrame):\n",
        "      def __init__(self, id, page=1, width=400, height=300, **kwargs):\n",
        "          self.id=id\n",
        "          src = 'https://player.bilibili.com/player.html?bvid={0}&page={1}'.format(id, page)\n",
        "          super(BiliVideo, self).__init__(src, width, height, **kwargs)\n",
        "\n",
        "  video = BiliVideo(id=\"BV1dt4y1Q7C5\", width=854, height=480, fs=1)\n",
        "  print('Video available at https://www.bilibili.com/video/{0}'.format(video.id))\n",
        "  display(video)\n",
        "\n",
        "out1 = widgets.Output()\n",
        "with out1:\n",
        "  from IPython.display import YouTubeVideo\n",
        "  video = YouTubeVideo(id=\"QGA5FCW7kkA\", width=854, height=480, fs=1, rel=0)\n",
        "  print('Video available at https://youtube.com/watch?v=' + video.id)\n",
        "  display(video)\n",
        "\n",
        "out = widgets.Tab([out1, out2])\n",
        "out.set_title(0, 'Youtube')\n",
        "out.set_title(1, 'Bilibili')\n",
        "\n",
        "display(out)"
      ],
      "execution_count": null,
      "outputs": [
        {
          "output_type": "display_data",
          "data": {
            "application/vnd.jupyter.widget-view+json": {
              "model_id": "4e0ebbc88d6940df832ebc6113526563",
              "version_minor": 0,
              "version_major": 2
            },
            "text/plain": [
              "Tab(children=(Output(), Output()), _titles={'0': 'Youtube', '1': 'Bilibili'})"
            ]
          },
          "metadata": {
            "tags": []
          }
        }
      ]
    },
    {
      "cell_type": "markdown",
      "metadata": {
        "id": "5uZKETszro3l"
      },
      "source": [
        "---\n",
        "\n",
        "# Section 3: Inter-spike intervals and their distributions\n",
        "\n",
        "*Estimated timing to here from start of tutorial: 25 min*"
      ]
    },
    {
      "cell_type": "markdown",
      "metadata": {
        "id": "LhLf3ZaJro3l"
      },
      "source": [
        "Given the ordered arrays of spike times for each neuron in `spike_times`, which we've just visualized, what can we ask next?\n",
        "\n",
        "Scientific questions are informed by existing models. So, what knowledge do we already have that can inform questions about this data?\n",
        "\n",
        "We know that there are physical constraints on neuron spiking. Spiking costs energy, which the neuron's cellular machinery can only obtain at a finite rate. Therefore neurons should have a refractory period: they can only fire as quickly as their metabolic processes can support, and there is a minimum delay between consecutive spikes of the same neuron.\n",
        "\n",
        "More generally, we can ask \"how long does a neuron wait to spike again?\" or \"what is the longest a neuron will wait?\" Can we transform spike times into something else, to address questions like these more directly?\n",
        "\n",
        "We can consider the inter-spike times (or interspike intervals: ISIs). These are simply the time differences between consecutive spikes of the same neuron.\n",
        "\n",
        "### Exercise 3: Plot the distribution of ISIs for a single neuron\n",
        "\n",
        "*Exercise objective:* make a histogram, like we did for spike counts, to show the distribution of ISIs for one of the neurons in the dataset.\n",
        "\n",
        "Do this in three steps:\n",
        "\n",
        "1. Extract the spike times for one of the neurons\n",
        "2. Compute the ISIs (the amount of time between spikes, or equivalently, the difference between adjacent spike times)\n",
        "3. Plot a histogram with the array of individual ISIs"
      ]
    },
    {
      "cell_type": "code",
      "metadata": {
        "execution": {
          "iopub.execute_input": "2021-07-03T17:54:22.982203Z",
          "iopub.status.busy": "2021-07-03T17:54:22.981593Z",
          "iopub.status.idle": "2021-07-03T17:54:22.989786Z",
          "shell.execute_reply": "2021-07-03T17:54:22.989137Z"
        },
        "pycharm": {
          "name": "#%%\n"
        },
        "id": "9-FRObodro3l",
        "colab": {
          "base_uri": "https://localhost:8080/",
          "height": 430
        },
        "outputId": "241a21e2-bc9f-4f0c-c509-57ff6a4d65c6"
      },
      "source": [
        "def compute_single_neuron_isis(spike_times, neuron_idx):\n",
        "  \"\"\"Compute a vector of ISIs for a single neuron given spike times.\n",
        "\n",
        "  Args:\n",
        "    spike_times (list of 1D arrays): Spike time dataset, with the first\n",
        "      dimension corresponding to different neurons.\n",
        "    neuron_idx (int): Index of the unit to compute ISIs for.\n",
        "\n",
        "  Returns:\n",
        "    isis (1D array): Duration of time between each spike from one neuron.\n",
        "  \"\"\"\n",
        "  #############################################################################\n",
        "  # Students: Fill in missing code (...) and comment or remove the next line\n",
        "  #raise NotImplementedError(\"Exercise: compute single neuron ISIs\")\n",
        "  #############################################################################\n",
        "\n",
        "  # Extract the spike times for the specified neuron\n",
        "  single_neuron_spikes = spike_times[neuron_idx]\n",
        "\n",
        "  # Compute the ISIs for this set of spikes\n",
        "  # Hint: the function np.diff computes discrete differences along an array\n",
        "  isis = np.diff(single_neuron_spikes)\n",
        "\n",
        "  return isis\n",
        "\n",
        "# Compute ISIs\n",
        "single_neuron_isis = compute_single_neuron_isis(spike_times, neuron_idx=5)\n",
        "\n",
        "# Visualize ISIs\n",
        "plot_isis(single_neuron_isis)"
      ],
      "execution_count": null,
      "outputs": [
        {
          "output_type": "display_data",
          "data": {
            "image/png": "[encoded data removed]",
            "text/plain": [
              "<Figure size 576x432 with 1 Axes>"
            ]
          },
          "metadata": {
            "tags": [],
            "image/png": {
              "width": 557,
              "height": 413
            },
            "needs_background": "light"
          }
        }
      ]
    },
    {
      "cell_type": "markdown",
      "metadata": {
        "execution": {
          "iopub.execute_input": "2021-07-03T17:54:22.998186Z",
          "iopub.status.busy": "2021-07-03T17:54:22.997577Z",
          "iopub.status.idle": "2021-07-03T17:54:23.356486Z",
          "shell.execute_reply": "2021-07-03T17:54:23.355980Z"
        },
        "pycharm": {
          "name": "#%%\n"
        },
        "id": "wqEOvRTIro3l"
      },
      "source": [
        "[*Click for solution*](https://github.com/NeuromatchAcademy/course-content/tree/master//tutorials/W1D1_ModelTypes/solutions/W1D1_Tutorial1_Solution_2972c168.py)\n",
        "\n",
        "*Example output:*\n",
        "\n",
        "<img alt='Solution hint' align='left' width=1116.0 height=828.0 src=https://raw.githubusercontent.com/NeuromatchAcademy/course-content/master/tutorials/W1D1_ModelTypes/static/W1D1_Tutorial1_Solution_2972c168_0.png>\n",
        "\n"
      ]
    },
    {
      "cell_type": "markdown",
      "metadata": {
        "id": "ytewqR8cro3l"
      },
      "source": [
        "---\n",
        "\n",
        "In general, the shorter ISIs are predominant, with counts decreasing rapidly (and smoothly, more or less) with increasing ISI. However, counts also rapidly decrease to zero with _decreasing_ ISI below the maximum of the distribution (8-11 ms). The absence of these very low ISIs agrees with the refractory period hypothesis: the neuron cannot fire quickly enough to populate this region of the ISI distribution.\n",
        "\n",
        "Check the distributions of some other neurons. To resolve various features of the distributions, you might need to play with the value of `n_bins`. Using too few bins might smooth over interesting details, but if you use too many bins, the random variability will start to dominate.\n",
        "\n",
        "You might also want to restrict the range to see the shape of the distribution when focusing on relatively short or long ISIs. *Hint:* `plt.hist` takes a `range` argument"
      ]
    },
    {
      "cell_type": "markdown",
      "metadata": {
        "id": "xlkyEp6Dro3m"
      },
      "source": [
        "---\n",
        "\n",
        "# Section 4: What is the functional form of an ISI distribution?\n",
        "\n",
        "*Estimated timing to here from start of tutorial: 35 min*"
      ]
    },
    {
      "cell_type": "code",
      "metadata": {
        "cellView": "form",
        "execution": {
          "iopub.execute_input": "2021-07-03T17:54:23.369679Z",
          "iopub.status.busy": "2021-07-03T17:54:23.369060Z",
          "iopub.status.idle": "2021-07-03T17:54:23.429414Z",
          "shell.execute_reply": "2021-07-03T17:54:23.428823Z"
        },
        "id": "pi5bPmL5ro3m"
      },
      "source": [
        "# @title Video 4: ISI distribution\n",
        "from ipywidgets import widgets\n",
        "\n",
        "out2 = widgets.Output()\n",
        "with out2:\n",
        "  from IPython.display import IFrame\n",
        "  class BiliVideo(IFrame):\n",
        "      def __init__(self, id, page=1, width=400, height=300, **kwargs):\n",
        "          self.id=id\n",
        "          src = 'https://player.bilibili.com/player.html?bvid={0}&page={1}'.format(id, page)\n",
        "          super(BiliVideo, self).__init__(src, width, height, **kwargs)\n",
        "\n",
        "  video = BiliVideo(id=\"BV1ov411B7Pm\", width=854, height=480, fs=1)\n",
        "  print('Video available at https://www.bilibili.com/video/{0}'.format(video.id))\n",
        "  display(video)\n",
        "\n",
        "out1 = widgets.Output()\n",
        "with out1:\n",
        "  from IPython.display import YouTubeVideo\n",
        "  video = YouTubeVideo(id=\"DHhM80MOTe8\", width=854, height=480, fs=1, rel=0)\n",
        "  print('Video available at https://youtube.com/watch?v=' + video.id)\n",
        "  display(video)\n",
        "\n",
        "out = widgets.Tab([out1, out2])\n",
        "out.set_title(0, 'Youtube')\n",
        "out.set_title(1, 'Bilibili')\n",
        "\n",
        "display(out)"
      ],
      "execution_count": null,
      "outputs": []
    },
    {
      "cell_type": "markdown",
      "metadata": {
        "id": "zi7nqdjwro3m"
      },
      "source": [
        "The ISI histograms seem to follow continuous, monotonically decreasing functions above their maxima. The function is clearly non-linear. Could it belong to a single family of functions?\n",
        "\n",
        "To motivate the idea of using a mathematical function to explain physiological phenomena, let's define a few different function forms that we might expect the relationship to follow: exponential, inverse, and linear."
      ]
    },
    {
      "cell_type": "code",
      "metadata": {
        "execution": {
          "iopub.execute_input": "2021-07-03T17:54:23.445271Z",
          "iopub.status.busy": "2021-07-03T17:54:23.443840Z",
          "iopub.status.idle": "2021-07-03T17:54:23.446205Z",
          "shell.execute_reply": "2021-07-03T17:54:23.446819Z"
        },
        "pycharm": {
          "name": "#%%\n"
        },
        "id": "IOShw4tKro3n"
      },
      "source": [
        "def exponential(xs, scale, rate, x0):\n",
        "  \"\"\"A simple parametrized exponential function, applied element-wise.\n",
        "\n",
        "  Args:\n",
        "    xs (np.ndarray or float): Input(s) to the function.\n",
        "    scale (float): Linear scaling factor.\n",
        "    rate (float): Exponential growth (positive) or decay (negative) rate.\n",
        "    x0 (float): Horizontal offset.\n",
        "\n",
        "  \"\"\"\n",
        "  ys = scale * np.exp(rate * (xs - x0))\n",
        "  return ys\n",
        "\n",
        "def inverse(xs, scale, x0):\n",
        "  \"\"\"A simple parametrized inverse function (`1/x`), applied element-wise.\n",
        "\n",
        "  Args:\n",
        "    xs (np.ndarray or float): Input(s) to the function.\n",
        "    scale (float): Linear scaling factor.\n",
        "    x0 (float): Horizontal offset.\n",
        "\n",
        "  \"\"\"\n",
        "  ys = scale / (xs - x0)\n",
        "  return ys\n",
        "\n",
        "def linear(xs, slope, y0):\n",
        "  \"\"\"A simple linear function, applied element-wise.\n",
        "\n",
        "  Args:\n",
        "    xs (np.ndarray or float): Input(s) to the function.\n",
        "    slope (float): Slope of the line.\n",
        "    y0 (float): y-intercept of the line.\n",
        "\n",
        "  \"\"\"\n",
        "  ys = slope * xs + y0\n",
        "  return ys"
      ],
      "execution_count": null,
      "outputs": []
    },
    {
      "cell_type": "markdown",
      "metadata": {
        "id": "VVG7AIS0ro3n"
      },
      "source": [
        "### Interactive Demo 4: ISI functions explorer\n",
        "\n",
        "Here is an interactive demo where you can vary the parameters of these functions and see how well the resulting outputs correspond to the data. Adjust the parameters by moving the sliders and see how close you can get the lines to follow the falling curve of the histogram. This will give you a taste of what you're trying to do when you *fit a model* to data.\n",
        "\n",
        "\"Interactive demo\" cells have hidden code that defines an interface where you can play with the parameters of some function using sliders. You don't need to worry about how the code works – but you do need to **run the cell** to enable the sliders.\n",
        "\n",
        "- Which type of function (exponential/inverse/linear) can you make match the data best?\n"
      ]
    },
    {
      "cell_type": "code",
      "metadata": {
        "cellView": "form",
        "execution": {
          "iopub.execute_input": "2021-07-03T17:54:23.458648Z",
          "iopub.status.busy": "2021-07-03T17:54:23.454106Z",
          "iopub.status.idle": "2021-07-03T17:54:23.875898Z",
          "shell.execute_reply": "2021-07-03T17:54:23.876365Z"
        },
        "pycharm": {
          "name": "#%%\n"
        },
        "id": "FnVvVEhXro3n",
        "colab": {
          "base_uri": "https://localhost:8080/",
          "height": 654,
          "referenced_widgets": [
            "e68886788b2f4199bd1ca98d0cad5cde",
            "c23aedf037f34c7e8a81de1ff93d6c34",
            "946eed60890e4690b5e0f3f95df17d8b",
            "3024882e4f92463b9cc3aaa4c2225a11",
            "bbf0086e1a2b4e4b967aef4226234cfc",
            "e36731ff35ef4235a40513f88e4a1ca1",
            "005f7dc2e6be40b5830b2dc55fbe4c98",
            "1f3d3a15c83244c9a41734e2d2f005d3",
            "8c30746e11b54cbea32732cb9dd99a71",
            "f5441fdb92ef43fa957b5cc78ccda96f",
            "209b93ffac1b4a2aafc9c4c81b971f72",
            "e494deb7da944d388cfbe7f17d41eed0",
            "da08ea771266489c8bb0a58783e974f6",
            "831fdbb5273b4594b2450f948610e84b",
            "e451ee3780bb4ffdb87919f30dfefd35",
            "6a40cec5f2804abda96584023c230c51",
            "67c92ba9bfa449fcac331325937c0746",
            "92d22787d70b4f07b69b781bb04509bf",
            "099fbc4922d14fe29d78b1e4c6a6861b",
            "04a14d9bbeda4ef3971142bad812896a",
            "975df628d6ef40a290cb2a9d02af6ad6",
            "0945f6edc8814549b08edb73b238d5bc",
            "e168c7e9d2774c1e89604ae4f8129cb5",
            "892ede23bf104019a33785ef20e714d0",
            "fe1d2a46850744648b5e93cab66ac2f4"
          ]
        },
        "outputId": "ce8ed753-56ea-4a87-8663-17616bc6ca0f"
      },
      "source": [
        "#@title\n",
        "\n",
        "#@markdown Be sure to run this cell to enable the demo\n",
        "# Don't worry about understanding this code! It's to setup an interactive plot.\n",
        "single_neuron_idx = 283\n",
        "single_neuron_spikes = spike_times[single_neuron_idx]\n",
        "single_neuron_isis = np.diff(single_neuron_spikes)\n",
        "\n",
        "counts, edges = np.histogram(\n",
        "  single_neuron_isis,\n",
        "  bins=50,\n",
        "  range=(0, single_neuron_isis.max())\n",
        ")\n",
        "\n",
        "functions = dict(\n",
        "  exponential=exponential,\n",
        "  inverse=inverse,\n",
        "  linear=linear,\n",
        ")\n",
        "\n",
        "colors = dict(\n",
        "  exponential=\"C1\",\n",
        "  inverse=\"C2\",\n",
        "  linear=\"C4\",\n",
        ")\n",
        "\n",
        "@widgets.interact(\n",
        "  exp_scale=widgets.FloatSlider(1000, min=0, max=20000, step=250),\n",
        "  exp_rate=widgets.FloatSlider(-10, min=-200, max=50, step=1),\n",
        "  exp_x0=widgets.FloatSlider(0.1, min=-0.5, max=0.5, step=0.005),\n",
        "  inv_scale=widgets.FloatSlider(1000, min=0, max=3e2, step=10),\n",
        "  inv_x0=widgets.FloatSlider(0, min=-0.2, max=0.2, step=0.01),\n",
        "  lin_slope=widgets.FloatSlider(-1e5, min=-6e5, max=1e5, step=10000),\n",
        "  lin_y0=widgets.FloatSlider(10000, min=0, max=4e4, step=1000),\n",
        ")\n",
        "def fit_plot(\n",
        "  exp_scale=1000, exp_rate=-10, exp_x0=0.1,\n",
        "  inv_scale=1000, inv_x0=0,\n",
        "  lin_slope=-1e5, lin_y0=2000,\n",
        "):\n",
        "  \"\"\"Helper function for plotting function fits with interactive sliders.\"\"\"\n",
        "  func_params = dict(\n",
        "    exponential=(exp_scale, exp_rate, exp_x0),\n",
        "    inverse=(inv_scale, inv_x0),\n",
        "    linear=(lin_slope, lin_y0),\n",
        "  )\n",
        "  f, ax = plt.subplots()\n",
        "  ax.fill_between(edges[:-1], counts, step=\"post\", alpha=.5)\n",
        "  xs = np.linspace(1e-10, edges.max())\n",
        "  for name, function in functions.items():\n",
        "    ys = function(xs, *func_params[name])\n",
        "    ax.plot(xs, ys, lw=3, color=colors[name], label=name);\n",
        "  ax.set(\n",
        "      xlim=(edges.min(), edges.max()),\n",
        "      ylim=(0, counts.max() * 1.1),\n",
        "      xlabel=\"ISI (s)\",\n",
        "      ylabel=\"Number of spikes\",\n",
        "  )\n",
        "  ax.legend()"
      ],
      "execution_count": null,
      "outputs": [
        {
          "output_type": "display_data",
          "data": {
            "application/vnd.jupyter.widget-view+json": {
              "model_id": "e68886788b2f4199bd1ca98d0cad5cde",
              "version_minor": 0,
              "version_major": 2
            },
            "text/plain": [
              "interactive(children=(FloatSlider(value=1000.0, description='exp_scale', max=20000.0, step=250.0), FloatSlider…"
            ]
          },
          "metadata": {
            "tags": []
          }
        }
      ]
    },
    {
      "cell_type": "markdown",
      "metadata": {
        "execution": {
          "iopub.execute_input": "2021-07-03T17:54:23.881204Z",
          "iopub.status.busy": "2021-07-03T17:54:23.880570Z",
          "iopub.status.idle": "2021-07-03T17:54:23.884239Z",
          "shell.execute_reply": "2021-07-03T17:54:23.884689Z"
        },
        "id": "LldupwARro3o"
      },
      "source": [
        "[*Click for solution*](https://github.com/NeuromatchAcademy/course-content/tree/master//tutorials/W1D1_ModelTypes/solutions/W1D1_Tutorial1_Solution_b6cd7761.py)\n",
        "\n"
      ]
    },
    {
      "cell_type": "code",
      "metadata": {
        "cellView": "form",
        "execution": {
          "iopub.execute_input": "2021-07-03T17:54:23.896459Z",
          "iopub.status.busy": "2021-07-03T17:54:23.892167Z",
          "iopub.status.idle": "2021-07-03T17:54:23.957580Z",
          "shell.execute_reply": "2021-07-03T17:54:23.958179Z"
        },
        "id": "JeSbrYAEro3p"
      },
      "source": [
        "# @title Video 5: Fitting models by hand\n",
        "from ipywidgets import widgets\n",
        "\n",
        "out2 = widgets.Output()\n",
        "with out2:\n",
        "  from IPython.display import IFrame\n",
        "  class BiliVideo(IFrame):\n",
        "      def __init__(self, id, page=1, width=400, height=300, **kwargs):\n",
        "          self.id=id\n",
        "          src = 'https://player.bilibili.com/player.html?bvid={0}&page={1}'.format(id, page)\n",
        "          super(BiliVideo, self).__init__(src, width, height, **kwargs)\n",
        "\n",
        "  video = BiliVideo(id=\"BV1w54y1S7Eb\", width=854, height=480, fs=1)\n",
        "  print('Video available at https://www.bilibili.com/video/{0}'.format(video.id))\n",
        "  display(video)\n",
        "\n",
        "out1 = widgets.Output()\n",
        "with out1:\n",
        "  from IPython.display import YouTubeVideo\n",
        "  video = YouTubeVideo(id=\"uW2HDk_4-wk\", width=854, height=480, fs=1, rel=0)\n",
        "  print('Video available at https://youtube.com/watch?v=' + video.id)\n",
        "  display(video)\n",
        "\n",
        "out = widgets.Tab([out1, out2])\n",
        "out.set_title(0, 'Youtube')\n",
        "out.set_title(1, 'Bilibili')\n",
        "\n",
        "display(out)"
      ],
      "execution_count": null,
      "outputs": []
    },
    {
      "cell_type": "markdown",
      "metadata": {
        "id": "XcrYtsTrro3p"
      },
      "source": [
        "---\n",
        "# Section 5: Reflecting on what models\n",
        "\n",
        "*Estimated timing to here from start of tutorial: 40 min*"
      ]
    },
    {
      "cell_type": "markdown",
      "metadata": {
        "id": "czmyXcA1ro3p"
      },
      "source": [
        "## Think! 5: Reflecting on what models\n",
        "\n",
        "Please discuss the following questions for around 10 minutes with your group:\n",
        "- Have you seen what models before?\n",
        "- Have you ever done one?\n",
        "- Why are what models useful?\n",
        "- When are they possible? Does your field have what models?\n",
        "- What do we learn from constructing them?"
      ]
    },
    {
      "cell_type": "markdown",
      "metadata": {
        "id": "JHMB83G-ro3p"
      },
      "source": [
        "---\n",
        "# Summary\n",
        "\n",
        "*Estimated timing of tutorial: 50 minutes*\n",
        "\n",
        "In this tutorial, we loaded some neural data and poked at it to understand how the dataset is organized. Then we made some basic plots to visualize (1) the average level of activity across the population and (2) the distribution of ISIs for an individual neuron. In the very last bit, we started to think about using mathematical formalisms to understand or explain some physiological phenomenon. All of this only allowed us to understand \"What\" the data looks like.\n",
        "\n",
        "This is the first step towards developing models that can tell us something about the brain. That's what we'll focus on in the next two tutorials."
      ]
    }
  ]
}